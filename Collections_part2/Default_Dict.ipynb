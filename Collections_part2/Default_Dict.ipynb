{
 "cells": [
  {
   "cell_type": "markdown",
   "id": "a8355546-4e0a-4eb1-9421-d91356257cba",
   "metadata": {},
   "source": [
    "# Default Dict"
   ]
  },
  {
   "cell_type": "code",
   "execution_count": 1,
   "id": "6988378e-1150-4199-8a8f-531e7d41a8fd",
   "metadata": {},
   "outputs": [
    {
     "data": {
      "text/plain": [
       "{'agro': 4, 'é': 4, 'vida,': 1, 'ciência,': 1, 'cultura,': 1, 'pop': 1}"
      ]
     },
     "execution_count": 1,
     "metadata": {},
     "output_type": "execute_result"
    }
   ],
   "source": [
    "meu_texto = \"Agro é vida, agro é ciência, agro é cultura, agro é pop\"\n",
    "meu_texto = meu_texto.lower()\n",
    "\n",
    "aparicoes = {}\n",
    "\n",
    "for palavra in meu_texto.split():\n",
    "    ate_agora = aparicoes.get(palavra, 0)\n",
    "    aparicoes[palavra] = ate_agora + 1\n",
    "\n",
    "aparicoes"
   ]
  },
  {
   "cell_type": "code",
   "execution_count": 2,
   "id": "2c3928f1-3b96-4ed9-b700-21612b57b927",
   "metadata": {},
   "outputs": [
    {
     "data": {
      "text/plain": [
       "defaultdict(int,\n",
       "            {'agro': 4,\n",
       "             'é': 4,\n",
       "             'vida,': 1,\n",
       "             'ciência,': 1,\n",
       "             'cultura,': 1,\n",
       "             'pop': 1})"
      ]
     },
     "execution_count": 2,
     "metadata": {},
     "output_type": "execute_result"
    }
   ],
   "source": [
    "from collections import defaultdict\n",
    "\n",
    "aparicoes = defaultdict(int)\n",
    "\n",
    "for palavra in meu_texto.split():\n",
    "    ate_agora = aparicoes[palavra]\n",
    "    aparicoes[palavra] = ate_agora + 1\n",
    "\n",
    "aparicoes"
   ]
  },
  {
   "cell_type": "code",
   "execution_count": 3,
   "id": "71a31fc2-c181-431c-b116-fb1f971c95f9",
   "metadata": {},
   "outputs": [
    {
     "data": {
      "text/plain": [
       "defaultdict(int,\n",
       "            {'agro': 4,\n",
       "             'é': 4,\n",
       "             'vida,': 1,\n",
       "             'ciência,': 1,\n",
       "             'cultura,': 1,\n",
       "             'pop': 1})"
      ]
     },
     "execution_count": 3,
     "metadata": {},
     "output_type": "execute_result"
    }
   ],
   "source": [
    "aparicoes = defaultdict(int)\n",
    "\n",
    "for palavra in meu_texto.split():\n",
    "    aparicoes[palavra] += 1\n",
    "\n",
    "aparicoes"
   ]
  },
  {
   "cell_type": "code",
   "execution_count": 5,
   "id": "cb99c05f-b0f5-47dc-8386-dab47913f8ed",
   "metadata": {},
   "outputs": [],
   "source": [
    "class Conta:\n",
    "    def __init__(self):\n",
    "        print(\"Criando uma conta\")"
   ]
  },
  {
   "cell_type": "code",
   "execution_count": 6,
   "id": "f22dca46-03c2-4f31-a9a5-b0b40c356417",
   "metadata": {},
   "outputs": [
    {
     "name": "stdout",
     "output_type": "stream",
     "text": [
      "Criando uma conta\n"
     ]
    },
    {
     "data": {
      "text/plain": [
       "<__main__.Conta at 0x2e04b01c130>"
      ]
     },
     "execution_count": 6,
     "metadata": {},
     "output_type": "execute_result"
    }
   ],
   "source": [
    "contas = defaultdict(Conta)\n",
    "contas[15]"
   ]
  },
  {
   "cell_type": "code",
   "execution_count": 7,
   "id": "ba284ad4-693f-47d4-8211-3a63fdf25682",
   "metadata": {},
   "outputs": [
    {
     "name": "stdout",
     "output_type": "stream",
     "text": [
      "Criando uma conta\n"
     ]
    },
    {
     "data": {
      "text/plain": [
       "<__main__.Conta at 0x2e04b01c550>"
      ]
     },
     "execution_count": 7,
     "metadata": {},
     "output_type": "execute_result"
    }
   ],
   "source": [
    "contas[17]"
   ]
  },
  {
   "cell_type": "code",
   "execution_count": 8,
   "id": "f419631e-c79f-4d63-88f8-3f6b2bfe9271",
   "metadata": {},
   "outputs": [
    {
     "data": {
      "text/plain": [
       "<__main__.Conta at 0x2e04b01c130>"
      ]
     },
     "execution_count": 8,
     "metadata": {},
     "output_type": "execute_result"
    }
   ],
   "source": [
    "contas[15]"
   ]
  },
  {
   "cell_type": "code",
   "execution_count": 9,
   "id": "f9826afa-01d3-4464-b1c8-4ef333ef90f1",
   "metadata": {},
   "outputs": [
    {
     "data": {
      "text/plain": [
       "Counter({'agro': 4,\n",
       "         'é': 4,\n",
       "         'vida,': 1,\n",
       "         'ciência,': 1,\n",
       "         'cultura,': 1,\n",
       "         'pop': 1})"
      ]
     },
     "execution_count": 9,
     "metadata": {},
     "output_type": "execute_result"
    }
   ],
   "source": [
    "from collections import Counter\n",
    "\n",
    "aparicoes = Counter()\n",
    "\n",
    "for palavra in meu_texto.split():\n",
    "    aparicoes[palavra] += 1\n",
    "\n",
    "aparicoes"
   ]
  },
  {
   "cell_type": "code",
   "execution_count": 10,
   "id": "b5d76356-b300-4876-9eee-6fe3b38fc7c9",
   "metadata": {},
   "outputs": [
    {
     "data": {
      "text/plain": [
       "Counter({'agro': 4,\n",
       "         'é': 4,\n",
       "         'vida,': 1,\n",
       "         'ciência,': 1,\n",
       "         'cultura,': 1,\n",
       "         'pop': 1})"
      ]
     },
     "execution_count": 10,
     "metadata": {},
     "output_type": "execute_result"
    }
   ],
   "source": [
    "aparicoes = Counter(meu_texto.split())\n",
    "aparicoes"
   ]
  },
  {
   "cell_type": "markdown",
   "id": "7151655a-3ad8-4510-a38d-0883ad3e4389",
   "metadata": {},
   "source": [
    "# Testando o uso de diversas coleções"
   ]
  },
  {
   "cell_type": "code",
   "execution_count": 11,
   "id": "1caaed96-1990-4397-af95-413a2dddfcaf",
   "metadata": {},
   "outputs": [],
   "source": [
    "texto1 = \"\"\"\n",
    "\n",
    "Após quase sete horas de inquirição na CPI da Covid, o policial militar de Minas Gerais Luiz Paulo Dominguetti, que se apresentou como representante da empresa Davati Medical Supply, reafirmou a denúncia sobre pedido de propina de um diretor do Ministério da Saúde, teve o celular apreendido e foi acusado por senadores de ser uma \"testemunha plantada\".\n",
    "\n",
    "O policial militar foi chamado a depor à comissão parlamentar de inquérito após ter concedido entrevista ao jornal \"Folha de S.Paulo\", publicada nesta terça (29), na qual disse que em fevereiro deste ano o então diretor de Logística do ministério, Roberto Ferreira Dias, pediu propina de US$ 1 por dose de vacina que seria adquirida pelo Ministério da Saúde. Conforme a reportagem, a negociação envolvia 400 milhões de doses da vacina da AstraZeneca.\n",
    "\"\"\"\n",
    "\n",
    "texto2 = \"\"\"Em depoimento à CPI da Covid, o suposto vendedor de vacinas e policial militar Luiz Paulo Dominguetti fez acusações contra o deputado Luis Miranda (DEM-DF), que denunciou o escândalo da vacina Covaxin - e afirmou que houve cobrança de propina por parte de funcionários do Ministério da Saúde.\n",
    "\n",
    "Dominguetti afirmou à comissão que Miranda procurou a empresa Davati Medical Supply para tentar negociar vacinas contra a covid-19 produzidas pela AstraZeneca e exibiu um áudio de WhatsApp que, segundo o PM, Miranda teria enviado para um representante da Davati em 2021.\n",
    "\n",
    "No áudio, em nenhum momento o deputado cita vacinas. Depois do depoimento de Dominguetti à CPI, Miranda registrou em cartório que a mensagem foi enviada em outubro de 2020, não em 2021, e que se tratava de uma compra de luvas.\n",
    "\n",
    "Dominguetti não havia ido à CPI para falar de Miranda, mas de um outro suposto pedido de propina do governo que o vendedor disse ter recebido do diretor de Logística do Ministério da Saúde, Roberto Ferreira Dias, quando negociava em nome da Davati.\n",
    "\"\"\""
   ]
  },
  {
   "cell_type": "code",
   "execution_count": 30,
   "id": "f0e9e25d-1e02-4f20-8bb2-a5850afd26ec",
   "metadata": {},
   "outputs": [],
   "source": [
    "def analisa_frequencia_de_letras(texto):\n",
    "    aparicoes = Counter(texto.lower())\n",
    "    total_de_caracteres = sum(aparicoes.values())\n",
    "    proporcoes = [(letra, frequencia / total_de_caracteres) for letra, frequencia in aparicoes.items()]\n",
    "    proporcoes = Counter(dict(proporcoes))\n",
    "    mais_comuns = proporcoes.most_common(10)\n",
    "    \n",
    "    for caractere, proporcao in mais_comuns:\n",
    "        print(\"{} => {:.2f}%\".format(caractere, proporcao * 100))"
   ]
  },
  {
   "cell_type": "code",
   "execution_count": 31,
   "id": "1a345cc2-3484-466d-a7b2-f33329ca6c2a",
   "metadata": {},
   "outputs": [
    {
     "name": "stdout",
     "output_type": "stream",
     "text": [
      "  => 15.84%\n",
      "e => 9.90%\n",
      "a => 9.53%\n",
      "o => 7.30%\n",
      "i => 7.30%\n",
      "r => 5.94%\n",
      "d => 5.94%\n",
      "s => 4.95%\n",
      "n => 4.08%\n",
      "t => 3.84%\n"
     ]
    }
   ],
   "source": [
    "analisa_frequencia_de_letras(texto1)"
   ]
  },
  {
   "cell_type": "code",
   "execution_count": 32,
   "id": "f2eee039-1c20-4aba-acc6-eff363a75ec8",
   "metadata": {},
   "outputs": [
    {
     "name": "stdout",
     "output_type": "stream",
     "text": [
      "  => 16.30%\n",
      "a => 9.11%\n",
      "e => 8.53%\n",
      "o => 7.96%\n",
      "i => 7.00%\n",
      "d => 6.71%\n",
      "r => 4.99%\n",
      "n => 4.70%\n",
      "u => 4.22%\n",
      "t => 4.03%\n"
     ]
    }
   ],
   "source": [
    "analisa_frequencia_de_letras(texto2)"
   ]
  },
  {
   "cell_type": "code",
   "execution_count": null,
   "id": "de3d6eb0-9608-4080-bfb6-fa7374d0beab",
   "metadata": {},
   "outputs": [],
   "source": []
  }
 ],
 "metadata": {
  "kernelspec": {
   "display_name": "Python 3",
   "language": "python",
   "name": "python3"
  },
  "language_info": {
   "codemirror_mode": {
    "name": "ipython",
    "version": 3
   },
   "file_extension": ".py",
   "mimetype": "text/x-python",
   "name": "python",
   "nbconvert_exporter": "python",
   "pygments_lexer": "ipython3",
   "version": "3.8.8"
  }
 },
 "nbformat": 4,
 "nbformat_minor": 5
}
