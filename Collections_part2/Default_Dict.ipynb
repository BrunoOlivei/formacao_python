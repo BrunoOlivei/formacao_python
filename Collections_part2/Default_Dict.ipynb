{
 "cells": [
  {
   "cell_type": "markdown",
   "id": "a8355546-4e0a-4eb1-9421-d91356257cba",
   "metadata": {},
   "source": [
    "# Default Dict"
   ]
  },
  {
   "cell_type": "code",
   "execution_count": null,
   "id": "6988378e-1150-4199-8a8f-531e7d41a8fd",
   "metadata": {},
   "outputs": [],
   "source": [
    "meu_texto = \"Agro é vida, agro é ciência, agro é cultura, agro é pop\"\n",
    "\n",
    "meu_texto.lower()\n",
    "meu_texto"
   ]
  }
 ],
 "metadata": {
  "kernelspec": {
   "display_name": "Python 3",
   "language": "python",
   "name": "python3"
  },
  "language_info": {
   "codemirror_mode": {
    "name": "ipython",
    "version": 3
   },
   "file_extension": ".py",
   "mimetype": "text/x-python",
   "name": "python",
   "nbconvert_exporter": "python",
   "pygments_lexer": "ipython3",
   "version": "3.8.8"
  }
 },
 "nbformat": 4,
 "nbformat_minor": 5
}
