{
 "cells": [
  {
   "cell_type": "markdown",
   "id": "421a224d-adb4-4e17-b318-7e875b24ad12",
   "metadata": {},
   "source": [
    "# Dicionário (Mapa, etc)"
   ]
  },
  {
   "cell_type": "code",
   "execution_count": 2,
   "id": "8b3e7401-26c8-4f8f-8b05-4e700f7b0451",
   "metadata": {},
   "outputs": [],
   "source": [
    "aparicoes = {\n",
    "    \"Guilherme\": 1,\n",
    "    \"cachorro\": 2,\n",
    "    \"nome\": 2,\n",
    "    \"vindo\": 1\n",
    "}"
   ]
  },
  {
   "cell_type": "code",
   "execution_count": 3,
   "id": "cd7f7fcf-279b-4ea5-94ce-213df63280ec",
   "metadata": {},
   "outputs": [
    {
     "data": {
      "text/plain": [
       "dict"
      ]
     },
     "execution_count": 3,
     "metadata": {},
     "output_type": "execute_result"
    }
   ],
   "source": [
    "type(aparicoes)"
   ]
  },
  {
   "cell_type": "code",
   "execution_count": 4,
   "id": "6f646821-a3e4-418e-a71d-708a0aaaa28c",
   "metadata": {},
   "outputs": [
    {
     "data": {
      "text/plain": [
       "1"
      ]
     },
     "execution_count": 4,
     "metadata": {},
     "output_type": "execute_result"
    }
   ],
   "source": [
    "aparicoes['Guilherme']"
   ]
  },
  {
   "cell_type": "code",
   "execution_count": 7,
   "id": "918d8e48-cbf8-484f-b81a-14b6ac71c4a1",
   "metadata": {},
   "outputs": [
    {
     "data": {
      "text/plain": [
       "2"
      ]
     },
     "execution_count": 7,
     "metadata": {},
     "output_type": "execute_result"
    }
   ],
   "source": [
    "aparicoes[\"cachorro\"]"
   ]
  },
  {
   "cell_type": "code",
   "execution_count": 8,
   "id": "7aecaa46-ce23-4a20-b25f-afd4970ee21a",
   "metadata": {},
   "outputs": [
    {
     "ename": "KeyError",
     "evalue": "'xpto'",
     "output_type": "error",
     "traceback": [
      "\u001b[1;31m---------------------------------------------------------------------------\u001b[0m",
      "\u001b[1;31mKeyError\u001b[0m                                  Traceback (most recent call last)",
      "\u001b[1;32m<ipython-input-8-5844a27a46e4>\u001b[0m in \u001b[0;36m<module>\u001b[1;34m\u001b[0m\n\u001b[1;32m----> 1\u001b[1;33m \u001b[0maparicoes\u001b[0m\u001b[1;33m[\u001b[0m\u001b[1;34m\"xpto\"\u001b[0m\u001b[1;33m]\u001b[0m\u001b[1;33m\u001b[0m\u001b[1;33m\u001b[0m\u001b[0m\n\u001b[0m",
      "\u001b[1;31mKeyError\u001b[0m: 'xpto'"
     ]
    }
   ],
   "source": [
    "aparicoes[\"xpto\"]"
   ]
  },
  {
   "cell_type": "code",
   "execution_count": 9,
   "id": "63e6f1ac-4b20-477d-9e94-66b531ccf9ac",
   "metadata": {},
   "outputs": [
    {
     "data": {
      "text/plain": [
       "0"
      ]
     },
     "execution_count": 9,
     "metadata": {},
     "output_type": "execute_result"
    }
   ],
   "source": [
    "aparicoes.get('xpto', 0)"
   ]
  },
  {
   "cell_type": "code",
   "execution_count": 10,
   "id": "13e3f41e-4620-469f-bcf4-0b75d594abeb",
   "metadata": {},
   "outputs": [
    {
     "data": {
      "text/plain": [
       "2"
      ]
     },
     "execution_count": 10,
     "metadata": {},
     "output_type": "execute_result"
    }
   ],
   "source": [
    "aparicoes.get(\"cachorro\", 0)"
   ]
  },
  {
   "cell_type": "code",
   "execution_count": 12,
   "id": "b6cd5345-a189-49af-bbf3-ae6c35e54129",
   "metadata": {},
   "outputs": [],
   "source": [
    "aparicoes = dict(Guilherme = 2, cachorro = 2)"
   ]
  },
  {
   "cell_type": "code",
   "execution_count": 13,
   "id": "571207b3-c9f6-46a0-989c-3ee0e3f8007a",
   "metadata": {},
   "outputs": [
    {
     "data": {
      "text/plain": [
       "{'Guilherme': 2, 'cachorro': 2}"
      ]
     },
     "execution_count": 13,
     "metadata": {},
     "output_type": "execute_result"
    }
   ],
   "source": [
    "aparicoes"
   ]
  },
  {
   "cell_type": "code",
   "execution_count": 14,
   "id": "1c047824-a4e6-43f0-a184-bfff1dbe19a7",
   "metadata": {},
   "outputs": [],
   "source": [
    "aparicoes[\"Carlos\"] = 1"
   ]
  },
  {
   "cell_type": "code",
   "execution_count": 15,
   "id": "357d664d-b80a-4e2b-b90c-56c3986a8b16",
   "metadata": {},
   "outputs": [
    {
     "data": {
      "text/plain": [
       "{'Guilherme': 2, 'cachorro': 2, 'Carlos': 1}"
      ]
     },
     "execution_count": 15,
     "metadata": {},
     "output_type": "execute_result"
    }
   ],
   "source": [
    "aparicoes"
   ]
  },
  {
   "cell_type": "code",
   "execution_count": 16,
   "id": "1ab8f359-de4f-4900-9da4-e980d83e3fb1",
   "metadata": {},
   "outputs": [],
   "source": [
    "aparicoes[\"Carlos\"] = 2"
   ]
  },
  {
   "cell_type": "code",
   "execution_count": 17,
   "id": "81b871d9-9654-4ac1-8b41-7ef3ccc6b1fc",
   "metadata": {},
   "outputs": [
    {
     "data": {
      "text/plain": [
       "{'Guilherme': 2, 'cachorro': 2, 'Carlos': 2}"
      ]
     },
     "execution_count": 17,
     "metadata": {},
     "output_type": "execute_result"
    }
   ],
   "source": [
    "aparicoes"
   ]
  },
  {
   "cell_type": "code",
   "execution_count": 18,
   "id": "c4667bcb-bc7a-429d-951d-985432d42126",
   "metadata": {},
   "outputs": [],
   "source": [
    "del aparicoes[\"Carlos\"]"
   ]
  },
  {
   "cell_type": "code",
   "execution_count": 19,
   "id": "d0f8942c-cd5c-4ca7-92ff-956b78fb3a78",
   "metadata": {},
   "outputs": [
    {
     "data": {
      "text/plain": [
       "{'Guilherme': 2, 'cachorro': 2}"
      ]
     },
     "execution_count": 19,
     "metadata": {},
     "output_type": "execute_result"
    }
   ],
   "source": [
    "aparicoes"
   ]
  },
  {
   "cell_type": "code",
   "execution_count": 20,
   "id": "f0326396-cf02-4bb5-acaf-9d00a79499e8",
   "metadata": {},
   "outputs": [
    {
     "data": {
      "text/plain": [
       "True"
      ]
     },
     "execution_count": 20,
     "metadata": {},
     "output_type": "execute_result"
    }
   ],
   "source": [
    "\"cachorro\" in aparicoes"
   ]
  },
  {
   "cell_type": "code",
   "execution_count": 21,
   "id": "eed9f731-2504-4650-822f-fd23ebd2c6be",
   "metadata": {},
   "outputs": [
    {
     "data": {
      "text/plain": [
       "False"
      ]
     },
     "execution_count": 21,
     "metadata": {},
     "output_type": "execute_result"
    }
   ],
   "source": [
    "\"Carlos\" in aparicoes"
   ]
  },
  {
   "cell_type": "code",
   "execution_count": 22,
   "id": "10f064dc-5552-4047-8c21-a86073cc12f4",
   "metadata": {},
   "outputs": [
    {
     "name": "stdout",
     "output_type": "stream",
     "text": [
      "Guilherme\n",
      "cachorro\n"
     ]
    }
   ],
   "source": [
    "for elemento in aparicoes:\n",
    "    print(elemento)"
   ]
  },
  {
   "cell_type": "code",
   "execution_count": 23,
   "id": "239aeece-6838-4898-83b1-a19103d8bb91",
   "metadata": {},
   "outputs": [
    {
     "name": "stdout",
     "output_type": "stream",
     "text": [
      "Guilherme\n",
      "cachorro\n"
     ]
    }
   ],
   "source": [
    "for elemento in aparicoes.keys():\n",
    "    print(elemento)"
   ]
  },
  {
   "cell_type": "code",
   "execution_count": 24,
   "id": "d4c5f24c-f500-4a1f-ba96-4345c27d41ed",
   "metadata": {},
   "outputs": [
    {
     "name": "stdout",
     "output_type": "stream",
     "text": [
      "2\n",
      "2\n"
     ]
    }
   ],
   "source": [
    "for elemento in aparicoes.values():\n",
    "    print(elemento)"
   ]
  },
  {
   "cell_type": "code",
   "execution_count": 26,
   "id": "77585b32-baca-4eab-8cf4-1f4666d5c7c4",
   "metadata": {},
   "outputs": [
    {
     "data": {
      "text/plain": [
       "True"
      ]
     },
     "execution_count": 26,
     "metadata": {},
     "output_type": "execute_result"
    }
   ],
   "source": [
    "2 in aparicoes.values()"
   ]
  },
  {
   "cell_type": "code",
   "execution_count": 27,
   "id": "dfe3c107-96e0-4a9a-a95f-a288422ddbcc",
   "metadata": {},
   "outputs": [
    {
     "name": "stdout",
     "output_type": "stream",
     "text": [
      "('Guilherme', 2)\n",
      "('cachorro', 2)\n"
     ]
    }
   ],
   "source": [
    "for elemento in aparicoes.items():\n",
    "    print(elemento)"
   ]
  },
  {
   "cell_type": "code",
   "execution_count": 29,
   "id": "55bee3f6-1c08-448f-9ab8-138738c2bc2b",
   "metadata": {},
   "outputs": [
    {
     "name": "stdout",
     "output_type": "stream",
     "text": [
      "Guilherme = 2\n",
      "cachorro = 2\n"
     ]
    }
   ],
   "source": [
    "for chave, valor in aparicoes.items():\n",
    "    print(chave, \"=\", valor)"
   ]
  },
  {
   "cell_type": "code",
   "execution_count": 32,
   "id": "aaa271ef-399a-493b-adb5-da6973aeb022",
   "metadata": {},
   "outputs": [
    {
     "data": {
      "text/plain": [
       "['palavra Guilherme', 'palavra cachorro']"
      ]
     },
     "execution_count": 32,
     "metadata": {},
     "output_type": "execute_result"
    }
   ],
   "source": [
    "[\"palavra {}\".format(chave) for chave in aparicoes.keys()]"
   ]
  },
  {
   "cell_type": "code",
   "execution_count": null,
   "id": "6a207ba9-32d5-4d41-b59a-c4f65946533d",
   "metadata": {},
   "outputs": [],
   "source": []
  }
 ],
 "metadata": {
  "kernelspec": {
   "display_name": "Python 3",
   "language": "python",
   "name": "python3"
  },
  "language_info": {
   "codemirror_mode": {
    "name": "ipython",
    "version": 3
   },
   "file_extension": ".py",
   "mimetype": "text/x-python",
   "name": "python",
   "nbconvert_exporter": "python",
   "pygments_lexer": "ipython3",
   "version": "3.8.8"
  }
 },
 "nbformat": 4,
 "nbformat_minor": 5
}
