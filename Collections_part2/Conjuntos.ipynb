{
 "cells": [
  {
   "cell_type": "markdown",
   "id": "3ef6663e-d261-48fa-9dbb-0eaf1c411a42",
   "metadata": {},
   "source": [
    "# Conjuntos - sets"
   ]
  },
  {
   "cell_type": "markdown",
   "id": "23a46f7c-5d0e-4777-a84f-96c6d55dbc9b",
   "metadata": {},
   "source": [
    "Conceito de conjuntos é agrupar elementos de maneira única, ele segue mesmas premissas da matemática onde não são aceitados elementos repetidos."
   ]
  },
  {
   "cell_type": "code",
   "execution_count": 1,
   "id": "4984cb74-e2d1-4ba6-be1f-61ed5dd685f0",
   "metadata": {},
   "outputs": [],
   "source": [
    "usuarios_data_science = [15, 23, 43, 56]\n",
    "usuarios_machine_learning = [13, 23, 56, 42]"
   ]
  },
  {
   "cell_type": "code",
   "execution_count": 2,
   "id": "74d33d15-fbef-4b67-a2dd-f01b714d4c7b",
   "metadata": {},
   "outputs": [
    {
     "data": {
      "text/plain": [
       "[15, 23, 43, 56, 13, 23, 56, 42]"
      ]
     },
     "execution_count": 2,
     "metadata": {},
     "output_type": "execute_result"
    }
   ],
   "source": [
    "assistiram = usuarios_data_science.copy()\n",
    "assistiram.extend(usuarios_machine_learning)\n",
    "assistiram"
   ]
  },
  {
   "cell_type": "code",
   "execution_count": 3,
   "id": "c2af6ded-0c6d-4b5b-a1e1-aba61dcb0dda",
   "metadata": {},
   "outputs": [
    {
     "data": {
      "text/plain": [
       "8"
      ]
     },
     "execution_count": 3,
     "metadata": {},
     "output_type": "execute_result"
    }
   ],
   "source": [
    "len(assistiram)"
   ]
  },
  {
   "cell_type": "markdown",
   "id": "a8f1296b-70ce-4f8f-9531-7991fe8a7a3c",
   "metadata": {},
   "source": [
    "Conforme visto anteriormente, as listas permitem elementos \"repetidos\". Os conjuntos por sua vez, não permitem elementos repetidos, conforme as regras da matemática.\n",
    "\n",
    "Podemos declarar conjuntos da seguinte forma:"
   ]
  },
  {
   "cell_type": "code",
   "execution_count": 4,
   "id": "2854770d-024d-4592-b15c-9499b32221f3",
   "metadata": {},
   "outputs": [
    {
     "data": {
      "text/plain": [
       "{13, 15, 23, 42, 43, 56}"
      ]
     },
     "execution_count": 4,
     "metadata": {},
     "output_type": "execute_result"
    }
   ],
   "source": [
    "set(assistiram)"
   ]
  },
  {
   "cell_type": "markdown",
   "id": "e9aa5843-c4ee-4dd4-aa60-fc5836c01e96",
   "metadata": {},
   "source": [
    "Podemos passar um **iterável**, como argumento para a função `set()`, que retorna o conjunto dos elementos do iterável, como nosso caso a **lista** `assistiram` é um iterável, temos um cojunto. \n",
    "\n",
    "A representação se dá por elementos separados por vírgula `,` entre chaves `{}`. Esse conjunto pode ser facilmente atribuido a uma variável para uso posterior.\n",
    "\n",
    "Outro detalhe interessante, no nosso exemplo, é que agora temos 6 elementos, pois os conjuntos eliminam a **segunda ocorrência** de determinado elemento, impossibilitando assim repetições. "
   ]
  },
  {
   "cell_type": "code",
   "execution_count": 5,
   "id": "3ee9eba9-7216-410b-8db8-501fdd0d7217",
   "metadata": {},
   "outputs": [
    {
     "data": {
      "text/plain": [
       "{13, 15, 23, 42, 43, 56}"
      ]
     },
     "execution_count": 5,
     "metadata": {},
     "output_type": "execute_result"
    }
   ],
   "source": [
    "conjunto_assistiram = set(assistiram)\n",
    "conjunto_assistiram"
   ]
  },
  {
   "cell_type": "code",
   "execution_count": null,
   "id": "79174fce-50fb-4617-a7e3-7968ad70db8e",
   "metadata": {},
   "outputs": [],
   "source": []
  }
 ],
 "metadata": {
  "kernelspec": {
   "display_name": "Python 3",
   "language": "python",
   "name": "python3"
  },
  "language_info": {
   "codemirror_mode": {
    "name": "ipython",
    "version": 3
   },
   "file_extension": ".py",
   "mimetype": "text/x-python",
   "name": "python",
   "nbconvert_exporter": "python",
   "pygments_lexer": "ipython3",
   "version": "3.8.8"
  }
 },
 "nbformat": 4,
 "nbformat_minor": 5
}
