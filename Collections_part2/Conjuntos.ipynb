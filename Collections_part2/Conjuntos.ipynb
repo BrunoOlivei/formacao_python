{
 "cells": [
  {
   "cell_type": "markdown",
   "id": "3ef6663e-d261-48fa-9dbb-0eaf1c411a42",
   "metadata": {},
   "source": [
    "# Conjuntos - sets"
   ]
  },
  {
   "cell_type": "markdown",
   "id": "23a46f7c-5d0e-4777-a84f-96c6d55dbc9b",
   "metadata": {},
   "source": [
    "Conceito de conjuntos é agrupar elementos de maneira única, ele segue mesmas premissas da matemática onde não são aceitados elementos repetidos."
   ]
  },
  {
   "cell_type": "code",
   "execution_count": 1,
   "id": "4984cb74-e2d1-4ba6-be1f-61ed5dd685f0",
   "metadata": {},
   "outputs": [],
   "source": [
    "usuarios_data_science = [15, 23, 43, 56]\n",
    "usuarios_machine_learning = [13, 23, 56, 42]"
   ]
  },
  {
   "cell_type": "code",
   "execution_count": 2,
   "id": "74d33d15-fbef-4b67-a2dd-f01b714d4c7b",
   "metadata": {},
   "outputs": [
    {
     "data": {
      "text/plain": [
       "[15, 23, 43, 56, 13, 23, 56, 42]"
      ]
     },
     "execution_count": 2,
     "metadata": {},
     "output_type": "execute_result"
    }
   ],
   "source": [
    "assistiram = usuarios_data_science.copy()\n",
    "assistiram.extend(usuarios_machine_learning)\n",
    "assistiram"
   ]
  },
  {
   "cell_type": "code",
   "execution_count": 3,
   "id": "c2af6ded-0c6d-4b5b-a1e1-aba61dcb0dda",
   "metadata": {},
   "outputs": [
    {
     "data": {
      "text/plain": [
       "8"
      ]
     },
     "execution_count": 3,
     "metadata": {},
     "output_type": "execute_result"
    }
   ],
   "source": [
    "len(assistiram)"
   ]
  },
  {
   "cell_type": "markdown",
   "id": "a8f1296b-70ce-4f8f-9531-7991fe8a7a3c",
   "metadata": {},
   "source": [
    "Conforme visto anteriormente, as listas permitem elementos \"repetidos\". Os conjuntos por sua vez, não permitem elementos repetidos, conforme as regras da matemática.\n",
    "\n",
    "Podemos declarar conjuntos da seguinte forma:"
   ]
  },
  {
   "cell_type": "code",
   "execution_count": 4,
   "id": "2854770d-024d-4592-b15c-9499b32221f3",
   "metadata": {},
   "outputs": [
    {
     "data": {
      "text/plain": [
       "{13, 15, 23, 42, 43, 56}"
      ]
     },
     "execution_count": 4,
     "metadata": {},
     "output_type": "execute_result"
    }
   ],
   "source": [
    "set(assistiram)"
   ]
  },
  {
   "cell_type": "markdown",
   "id": "e9aa5843-c4ee-4dd4-aa60-fc5836c01e96",
   "metadata": {},
   "source": [
    "Podemos passar um **iterável**, como argumento para a função `set()`, que retorna o conjunto dos elementos do iterável, como nosso caso a **lista** `assistiram` é um iterável, temos um cojunto. \n",
    "\n",
    "A representação se dá por elementos separados por vírgula `,` entre chaves `{}`. Esse conjunto pode ser facilmente atribuido a uma variável para uso posterior.\n",
    "\n",
    "Outro detalhe interessante, no nosso exemplo, é que agora temos 6 elementos, pois os conjuntos eliminam a **segunda ocorrência** de determinado elemento, impossibilitando assim repetições. "
   ]
  },
  {
   "cell_type": "code",
   "execution_count": 5,
   "id": "3ee9eba9-7216-410b-8db8-501fdd0d7217",
   "metadata": {},
   "outputs": [
    {
     "data": {
      "text/plain": [
       "{13, 15, 23, 42, 43, 56}"
      ]
     },
     "execution_count": 5,
     "metadata": {},
     "output_type": "execute_result"
    }
   ],
   "source": [
    "conjunto_assistiram = set(assistiram)\n",
    "conjunto_assistiram"
   ]
  },
  {
   "cell_type": "markdown",
   "id": "ca6708a8-e15b-4ce7-bc64-4b4dd7d1eaea",
   "metadata": {},
   "source": [
    "# União `.union()`\n",
    "\n",
    "União de dois conjuntos pode ser feito:"
   ]
  },
  {
   "cell_type": "code",
   "execution_count": 2,
   "id": "c7379dfd-60ea-4d1b-bc54-c527e320fcb5",
   "metadata": {},
   "outputs": [],
   "source": [
    "usuarios_data_science = {15, 23, 43, 56}\n",
    "usuarios_machine_learning = {13, 23, 56, 42}"
   ]
  },
  {
   "cell_type": "code",
   "execution_count": 3,
   "id": "bf4e339c-9338-4f3e-97f6-84a89d305ed8",
   "metadata": {},
   "outputs": [
    {
     "data": {
      "text/plain": [
       "{13, 15, 23, 42, 43, 56}"
      ]
     },
     "execution_count": 3,
     "metadata": {},
     "output_type": "execute_result"
    }
   ],
   "source": [
    "usuarios_data_science | usuarios_machine_learning"
   ]
  },
  {
   "cell_type": "code",
   "execution_count": 6,
   "id": "0088a6b1-39cb-46ba-83de-392f9be11910",
   "metadata": {},
   "outputs": [
    {
     "data": {
      "text/plain": [
       "{13, 15, 23, 42, 43, 56}"
      ]
     },
     "execution_count": 6,
     "metadata": {},
     "output_type": "execute_result"
    }
   ],
   "source": [
    "usuarios_data_science = {15, 23, 43, 56}\n",
    "usuarios_machine_learning = {13, 23, 56, 42}\n",
    "\n",
    "assistiram = usuarios_data_science.union(usuarios_machine_learning)\n",
    "assistiram"
   ]
  },
  {
   "cell_type": "markdown",
   "id": "593d818e-037a-4ed9-95c0-46ae17218cce",
   "metadata": {},
   "source": [
    "# Intersecção `.intersection()`\n",
    "\n",
    "A intersecção de dois ou mais conjuntos pode ser realizada:"
   ]
  },
  {
   "cell_type": "code",
   "execution_count": 7,
   "id": "50a98e4d-c3b1-4c15-a375-80c030300f3a",
   "metadata": {},
   "outputs": [],
   "source": [
    "usuarios_data_science = {15, 23, 43, 56}\n",
    "usuarios_machine_learning = {13, 23, 56, 42}"
   ]
  },
  {
   "cell_type": "code",
   "execution_count": 8,
   "id": "9fbbf6bd-9829-402b-b0be-7539ff60dc18",
   "metadata": {},
   "outputs": [
    {
     "data": {
      "text/plain": [
       "{23, 56}"
      ]
     },
     "execution_count": 8,
     "metadata": {},
     "output_type": "execute_result"
    }
   ],
   "source": [
    "usuarios_data_science & usuarios_machine_learning"
   ]
  },
  {
   "cell_type": "code",
   "execution_count": 9,
   "id": "f1d1a673-28ab-452f-a94d-7d54ff28d33c",
   "metadata": {},
   "outputs": [
    {
     "data": {
      "text/plain": [
       "{23, 56}"
      ]
     },
     "execution_count": 9,
     "metadata": {},
     "output_type": "execute_result"
    }
   ],
   "source": [
    "usuarios_data_science = {15, 23, 43, 56}\n",
    "usuarios_machine_learning = {13, 23, 56, 42}\n",
    "\n",
    "assistira_dois = usuarios_data_science.intersection(usuarios_machine_learning)\n",
    "assistira_dois"
   ]
  },
  {
   "cell_type": "markdown",
   "id": "d7798552-de2c-4d3c-8969-0080da669d82",
   "metadata": {},
   "source": [
    "# Diferença `.diference()`\n",
    "\n",
    "A diferença entre dois ou mais conjuntos pode ser realizada:"
   ]
  },
  {
   "cell_type": "code",
   "execution_count": 10,
   "id": "2e176bc0-f9b7-4a9a-83fc-9ce6db4c52a7",
   "metadata": {},
   "outputs": [],
   "source": [
    "usuarios_data_science = {15, 23, 43, 56}\n",
    "usuarios_machine_learning = {13, 23, 56, 42}"
   ]
  },
  {
   "cell_type": "code",
   "execution_count": 11,
   "id": "7f67c55b-b5c3-49eb-8f8f-941f4611facc",
   "metadata": {},
   "outputs": [
    {
     "data": {
      "text/plain": [
       "{15, 43}"
      ]
     },
     "execution_count": 11,
     "metadata": {},
     "output_type": "execute_result"
    }
   ],
   "source": [
    "usuarios_data_science - usuarios_machine_learning"
   ]
  },
  {
   "cell_type": "code",
   "execution_count": 12,
   "id": "be03894e-6c55-409a-9a14-888199ffc445",
   "metadata": {},
   "outputs": [
    {
     "data": {
      "text/plain": [
       "{15, 43}"
      ]
     },
     "execution_count": 12,
     "metadata": {},
     "output_type": "execute_result"
    }
   ],
   "source": [
    "diferenca = usuarios_data_science.difference(usuarios_machine_learning)\n",
    "diferenca"
   ]
  },
  {
   "cell_type": "markdown",
   "id": "39e172ae-8c9b-4741-9f53-95722583d58e",
   "metadata": {},
   "source": [
    "# Ou Excusivo\n",
    "\n",
    "Quando unimos os elementos de dois ou mais conjuntos que não se repetem entre os conjuntos"
   ]
  },
  {
   "cell_type": "code",
   "execution_count": 13,
   "id": "3fca54c9-0cc7-4205-a711-7b8e9b3cad7c",
   "metadata": {},
   "outputs": [],
   "source": [
    "usuarios_data_science = {15, 23, 43, 56}\n",
    "usuarios_machine_learning = {13, 23, 56, 42}"
   ]
  },
  {
   "cell_type": "code",
   "execution_count": 14,
   "id": "bd7dacc1-ba0f-48ac-ba15-13e33d0aa688",
   "metadata": {},
   "outputs": [
    {
     "data": {
      "text/plain": [
       "{13, 15, 42, 43}"
      ]
     },
     "execution_count": 14,
     "metadata": {},
     "output_type": "execute_result"
    }
   ],
   "source": [
    "usuarios_data_science ^ usuarios_machine_learning"
   ]
  },
  {
   "cell_type": "code",
   "execution_count": null,
   "id": "c51ef4ae-e771-4057-a872-b93a902a1d9f",
   "metadata": {},
   "outputs": [],
   "source": []
  },
  {
   "cell_type": "code",
   "execution_count": 15,
   "id": "75d2aa98-57ca-4c66-baa0-03bc07dfd9f6",
   "metadata": {},
   "outputs": [
    {
     "data": {
      "text/plain": [
       "7"
      ]
     },
     "execution_count": 15,
     "metadata": {},
     "output_type": "execute_result"
    }
   ],
   "source": [
    "usuarios = {1, 5, 76, 34, 52, 13, 17}\n",
    "len(usuarios)"
   ]
  },
  {
   "cell_type": "markdown",
   "id": "e77cb22f-8fdd-48d1-9b78-2749a5f3d4c8",
   "metadata": {},
   "source": [
    "Método para adicionar elementos a um conjunto é o `.add()`, por ser uma estrutura de dados mutável ela aceita adicionar, remover e até alterar elementos."
   ]
  },
  {
   "cell_type": "code",
   "execution_count": 16,
   "id": "b8c5af0c-7c18-439a-ac57-83af53fda834",
   "metadata": {},
   "outputs": [
    {
     "data": {
      "text/plain": [
       "7"
      ]
     },
     "execution_count": 16,
     "metadata": {},
     "output_type": "execute_result"
    }
   ],
   "source": [
    "usuarios.add(13)\n",
    "len(usuarios)"
   ]
  },
  {
   "cell_type": "code",
   "execution_count": 17,
   "id": "486deb24-c9eb-4cbb-9f90-480bb5265966",
   "metadata": {},
   "outputs": [
    {
     "data": {
      "text/plain": [
       "8"
      ]
     },
     "execution_count": 17,
     "metadata": {},
     "output_type": "execute_result"
    }
   ],
   "source": [
    "usuarios.add(765)\n",
    "len(usuarios)"
   ]
  },
  {
   "cell_type": "markdown",
   "id": "1cec4cf2-ade6-4e11-a8c9-0af88a558298",
   "metadata": {},
   "source": [
    "É possível ter uma estrutura de dados com as caracteristicas dos conjuntos porém imutáveis, para isso utiliza-se o `frozenset()`"
   ]
  },
  {
   "cell_type": "code",
   "execution_count": 18,
   "id": "7802b85c-b163-4c96-bf3e-949e4e7fcb52",
   "metadata": {},
   "outputs": [],
   "source": [
    "usuarios = frozenset(usuarios)"
   ]
  },
  {
   "cell_type": "code",
   "execution_count": 19,
   "id": "97a7fc20-d10e-4dce-825a-804a5aacbb56",
   "metadata": {},
   "outputs": [
    {
     "ename": "AttributeError",
     "evalue": "'frozenset' object has no attribute 'add'",
     "output_type": "error",
     "traceback": [
      "\u001b[1;31m---------------------------------------------------------------------------\u001b[0m",
      "\u001b[1;31mAttributeError\u001b[0m                            Traceback (most recent call last)",
      "\u001b[1;32m<ipython-input-19-f85b988f2472>\u001b[0m in \u001b[0;36m<module>\u001b[1;34m\u001b[0m\n\u001b[1;32m----> 1\u001b[1;33m \u001b[0musuarios\u001b[0m\u001b[1;33m.\u001b[0m\u001b[0madd\u001b[0m\u001b[1;33m(\u001b[0m\u001b[1;36m134\u001b[0m\u001b[1;33m)\u001b[0m\u001b[1;33m\u001b[0m\u001b[1;33m\u001b[0m\u001b[0m\n\u001b[0m",
      "\u001b[1;31mAttributeError\u001b[0m: 'frozenset' object has no attribute 'add'"
     ]
    }
   ],
   "source": [
    "usuarios.add(134)"
   ]
  },
  {
   "cell_type": "code",
   "execution_count": 27,
   "id": "1477b3f1-149c-481f-9c3d-21e011721c6b",
   "metadata": {},
   "outputs": [],
   "source": [
    "meu_texto = \"agro é vida, agro é ciência, agro é cultura, agro é pop\""
   ]
  },
  {
   "cell_type": "code",
   "execution_count": 28,
   "id": "95c33550-ec46-4647-a7dd-fc9c9e91e117",
   "metadata": {},
   "outputs": [
    {
     "data": {
      "text/plain": [
       "['agro',\n",
       " 'é',\n",
       " 'vida,',\n",
       " 'agro',\n",
       " 'é',\n",
       " 'ciência,',\n",
       " 'agro',\n",
       " 'é',\n",
       " 'cultura,',\n",
       " 'agro',\n",
       " 'é',\n",
       " 'pop']"
      ]
     },
     "execution_count": 28,
     "metadata": {},
     "output_type": "execute_result"
    }
   ],
   "source": [
    "meu_texto.split()"
   ]
  },
  {
   "cell_type": "code",
   "execution_count": 29,
   "id": "ab9d5d6d-9d29-4f8e-9eea-6a312d283172",
   "metadata": {},
   "outputs": [
    {
     "data": {
      "text/plain": [
       "{'agro', 'ciência,', 'cultura,', 'pop', 'vida,', 'é'}"
      ]
     },
     "execution_count": 29,
     "metadata": {},
     "output_type": "execute_result"
    }
   ],
   "source": [
    "set(meu_texto.split())"
   ]
  },
  {
   "cell_type": "markdown",
   "id": "8e714764-5806-4396-bdf3-c932382372ab",
   "metadata": {},
   "source": [
    "Podemos trabalhar com textos, o método split cria uma lista com de elementos strings que anteriormente estavam separados por um espaço, criando uma lista com cada palavra. Ao transformarmos a lista em um conjunto, as palavras repetidas são eliminadas, ficando apenas a primeira ocorrência de cada uma delas."
   ]
  },
  {
   "cell_type": "code",
   "execution_count": null,
   "id": "335b8407-2c2e-4e05-8469-2e19c171fbb9",
   "metadata": {},
   "outputs": [],
   "source": []
  }
 ],
 "metadata": {
  "kernelspec": {
   "display_name": "Python 3",
   "language": "python",
   "name": "python3"
  },
  "language_info": {
   "codemirror_mode": {
    "name": "ipython",
    "version": 3
   },
   "file_extension": ".py",
   "mimetype": "text/x-python",
   "name": "python",
   "nbconvert_exporter": "python",
   "pygments_lexer": "ipython3",
   "version": "3.8.8"
  }
 },
 "nbformat": 4,
 "nbformat_minor": 5
}
