{
 "cells": [
  {
   "cell_type": "markdown",
   "id": "af72a6c7-d7ec-4a0e-86df-efb19eb135eb",
   "metadata": {},
   "source": [
    "# Dados Estruturados"
   ]
  },
  {
   "cell_type": "code",
   "execution_count": 9,
   "id": "1a9c08d2-d58b-4f68-96de-aae55a52cf71",
   "metadata": {},
   "outputs": [],
   "source": [
    "personagens = {}\n",
    "\n",
    "personagens[\"Ford\"] = {\"Nome\": \"Ford Prefect\",\n",
    "                   \"Gênero\": \"Masculino\",\n",
    "                   \"Profissão\": \"Pesquisador\",\n",
    "                   \"Planeta Origem\": \"Betelgeuse Sete\"}"
   ]
  },
  {
   "cell_type": "code",
   "execution_count": 10,
   "id": "98924ffb-8f25-4bd6-a048-6ed77f059b45",
   "metadata": {},
   "outputs": [
    {
     "data": {
      "text/plain": [
       "{'Ford': {'Nome': 'Ford Prefect',\n",
       "  'Gênero': 'Masculino',\n",
       "  'Profissão': 'Pesquisador',\n",
       "  'Planeta Origem': 'Betelgeuse Sete'}}"
      ]
     },
     "execution_count": 10,
     "metadata": {},
     "output_type": "execute_result"
    }
   ],
   "source": [
    "personagens"
   ]
  },
  {
   "cell_type": "code",
   "execution_count": 18,
   "id": "dd6c6c8d-43b5-4816-82d0-b60c14fcd1cb",
   "metadata": {},
   "outputs": [],
   "source": [
    "personagens[\"Arthur\"] = {\"Nome\": \"Arthur Dent\",\n",
    "                         \"Gênero\": \"Masculino\",\n",
    "                         \"Profissão\": \"Cozinheiro\",\n",
    "                         \"Planeta Origem\": \"Terra\"}\n",
    "personagens[\"Trillian\"] = {\"Nome\": \"Tricia McMillan\",\n",
    "                           \"Gênero\": \"Feminino\",\n",
    "                           \"Profissão\": \"Matemática\",\n",
    "                           \"Planeta Origem\": \"Terra\"}\n",
    "personagens[\"Robot\"] = {\"Nome\": \"Marvin\",\n",
    "                        \"Gênero\": \"Desconhecido\",\n",
    "                        \"Profissão\": \"Androide Paranóico\",\n",
    "                        \"Planeta Origem\": \"Desconhecido\"}"
   ]
  },
  {
   "cell_type": "code",
   "execution_count": 19,
   "id": "eb6c9bad-0310-477d-ae1a-3248b285d5bb",
   "metadata": {},
   "outputs": [
    {
     "data": {
      "text/plain": [
       "{'Ford': {'Nome': 'Ford Prefect',\n",
       "  'Gênero': 'Masculino',\n",
       "  'Profissão': 'Pesquisador',\n",
       "  'Planeta Origem': 'Betelgeuse Sete'},\n",
       " 'Arthur': {'Nome': 'Arthur Dent',\n",
       "  'Gênero': 'Masculino',\n",
       "  'Profissão': 'Cozinheiro',\n",
       "  'Planeta Origem': 'Terra'},\n",
       " 'Trillian': {'Nome': 'Tricia McMillan',\n",
       "  'Gênero': 'Feminino',\n",
       "  'Profissão': 'Matemática',\n",
       "  'Planeta Origem': 'Terra'},\n",
       " 'Robot': {'Nome': 'Marvin',\n",
       "  'Gênero': 'Desconhecido',\n",
       "  'Profissão': 'Androide Paranóico',\n",
       "  'Planeta Origem': 'Desconhecido'}}"
      ]
     },
     "execution_count": 19,
     "metadata": {},
     "output_type": "execute_result"
    }
   ],
   "source": [
    "personagens"
   ]
  },
  {
   "cell_type": "code",
   "execution_count": 20,
   "id": "d05aaa55-0d66-4717-a816-cfbe1f39ed7c",
   "metadata": {},
   "outputs": [],
   "source": [
    "import pprint"
   ]
  },
  {
   "cell_type": "code",
   "execution_count": 21,
   "id": "06fe8b53-7ac8-4261-af03-12b9b8c1edf2",
   "metadata": {},
   "outputs": [
    {
     "name": "stdout",
     "output_type": "stream",
     "text": [
      "{'Arthur': {'Gênero': 'Masculino',\n",
      "            'Nome': 'Arthur Dent',\n",
      "            'Planeta Origem': 'Terra',\n",
      "            'Profissão': 'Cozinheiro'},\n",
      " 'Ford': {'Gênero': 'Masculino',\n",
      "          'Nome': 'Ford Prefect',\n",
      "          'Planeta Origem': 'Betelgeuse Sete',\n",
      "          'Profissão': 'Pesquisador'},\n",
      " 'Robot': {'Gênero': 'Desconhecido',\n",
      "           'Nome': 'Marvin',\n",
      "           'Planeta Origem': 'Desconhecido',\n",
      "           'Profissão': 'Androide Paranóico'},\n",
      " 'Trillian': {'Gênero': 'Feminino',\n",
      "              'Nome': 'Tricia McMillan',\n",
      "              'Planeta Origem': 'Terra',\n",
      "              'Profissão': 'Matemática'}}\n"
     ]
    }
   ],
   "source": [
    "pprint.pprint(personagens)"
   ]
  },
  {
   "cell_type": "code",
   "execution_count": 22,
   "id": "0fe40949-1645-4488-b3da-c3ce0efc748e",
   "metadata": {},
   "outputs": [
    {
     "data": {
      "text/plain": [
       "{'Nome': 'Arthur Dent',\n",
       " 'Gênero': 'Masculino',\n",
       " 'Profissão': 'Cozinheiro',\n",
       " 'Planeta Origem': 'Terra'}"
      ]
     },
     "execution_count": 22,
     "metadata": {},
     "output_type": "execute_result"
    }
   ],
   "source": [
    "personagens[\"Arthur\"]"
   ]
  },
  {
   "cell_type": "code",
   "execution_count": 23,
   "id": "e60bdbc8-da0c-4532-9205-f82fe1c3daa0",
   "metadata": {},
   "outputs": [
    {
     "data": {
      "text/plain": [
       "'Cozinheiro'"
      ]
     },
     "execution_count": 23,
     "metadata": {},
     "output_type": "execute_result"
    }
   ],
   "source": [
    "personagens[\"Arthur\"][\"Profissão\"]"
   ]
  }
 ],
 "metadata": {
  "kernelspec": {
   "display_name": "Python 3",
   "language": "python",
   "name": "python3"
  },
  "language_info": {
   "codemirror_mode": {
    "name": "ipython",
    "version": 3
   },
   "file_extension": ".py",
   "mimetype": "text/x-python",
   "name": "python",
   "nbconvert_exporter": "python",
   "pygments_lexer": "ipython3",
   "version": "3.8.8"
  }
 },
 "nbformat": 4,
 "nbformat_minor": 5
}
