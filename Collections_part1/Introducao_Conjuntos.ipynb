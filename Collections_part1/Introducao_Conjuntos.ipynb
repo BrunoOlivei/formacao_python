{
 "cells": [
  {
   "cell_type": "markdown",
   "id": "09ff4510-aa79-4eef-bd51-69bbf025b0e7",
   "metadata": {},
   "source": [
    "# Conjuntos"
   ]
  },
  {
   "cell_type": "markdown",
   "id": "75fd2d31-7a97-46ed-9f7e-fb5edf65fde7",
   "metadata": {},
   "source": [
    "Os conjuntos são estruturas de dados com propriedades matemáticas, uma delas é que valores duplicados são proibidos. Os conjuntos são identificados por chaves e cada elemento separado por vírgula."
   ]
  },
  {
   "cell_type": "code",
   "execution_count": 1,
   "id": "eea9be1a-4069-45e9-bdbd-f893e4d98ec0",
   "metadata": {},
   "outputs": [
    {
     "data": {
      "text/plain": [
       "{'a', 'e', 'i', 'o', 'u'}"
      ]
     },
     "execution_count": 1,
     "metadata": {},
     "output_type": "execute_result"
    }
   ],
   "source": [
    "vogais = {'a', 'e', 'i', 'o', 'u'}\n",
    "vogais"
   ]
  },
  {
   "cell_type": "markdown",
   "id": "255266c4-7a68-4f72-a2b0-4a89c59cb4ad",
   "metadata": {},
   "source": [
    "Assim como dicionários, os conjuntos são estruturas de dados desordenadas, ou seja, não repeitam uma ordem. Porém pode ser utilizada a função `sorted` para ordenar os dados. Porém essa função não altera a ordem do conjunto, apenas apresenta na saída os elementos ordenados."
   ]
  },
  {
   "cell_type": "code",
   "execution_count": 2,
   "id": "dd0012cc-75e8-450c-8e0b-89656face3f7",
   "metadata": {},
   "outputs": [
    {
     "data": {
      "text/plain": [
       "{'a', 'e', 'i', 'o', 'u'}"
      ]
     },
     "execution_count": 2,
     "metadata": {},
     "output_type": "execute_result"
    }
   ],
   "source": [
    "vogais2 = set('aeeiouu')\n",
    "vogais2"
   ]
  },
  {
   "cell_type": "markdown",
   "id": "16e19e52-15aa-452d-bbd7-f2a7f9a7b64e",
   "metadata": {},
   "source": [
    "A função `set()` recebe como um argumento um iterável que por sua vez se torna um conjunto, eliminando assim os elementos duplicados, mantendo apenas uma ocorrência de cada."
   ]
  },
  {
   "cell_type": "code",
   "execution_count": 3,
   "id": "41f5a50a-3706-4e7b-8d3d-97fec63d8953",
   "metadata": {},
   "outputs": [
    {
     "data": {
      "text/plain": [
       "{'a', 'e', 'i', 'o', 'u'}"
      ]
     },
     "execution_count": 3,
     "metadata": {},
     "output_type": "execute_result"
    }
   ],
   "source": [
    "vogais3 = set(['a', 'e', 'e', 'i', 'o', 'u', 'u'])\n",
    "vogais3"
   ]
  },
  {
   "cell_type": "markdown",
   "id": "a0ea6a54-8a86-4db0-b104-8ddbfafb2423",
   "metadata": {},
   "source": [
    "Como uma *string* é um objeto iterável, podemos passar como argumento na função `set()`, assim como poderiamos passar uma lista contendo números (inteiros ou reais), o conjunto consequentemente elimina os valores iguais."
   ]
  },
  {
   "cell_type": "code",
   "execution_count": null,
   "id": "b1922a98-d480-46c1-b4cf-98caad09c921",
   "metadata": {},
   "outputs": [],
   "source": []
  }
 ],
 "metadata": {
  "kernelspec": {
   "display_name": "Python 3",
   "language": "python",
   "name": "python3"
  },
  "language_info": {
   "codemirror_mode": {
    "name": "ipython",
    "version": 3
   },
   "file_extension": ".py",
   "mimetype": "text/x-python",
   "name": "python",
   "nbconvert_exporter": "python",
   "pygments_lexer": "ipython3",
   "version": "3.8.8"
  }
 },
 "nbformat": 4,
 "nbformat_minor": 5
}
