{
 "cells": [
  {
   "cell_type": "markdown",
   "id": "09ff4510-aa79-4eef-bd51-69bbf025b0e7",
   "metadata": {},
   "source": [
    "# Conjuntos"
   ]
  },
  {
   "cell_type": "markdown",
   "id": "75fd2d31-7a97-46ed-9f7e-fb5edf65fde7",
   "metadata": {},
   "source": [
    "Os conjuntos são estruturas de dados com propriedades matemáticas, uma delas é que valores duplicados são proibidos. Os conjuntos são identificados por chaves e cada elemento separado por vírgula."
   ]
  },
  {
   "cell_type": "code",
   "execution_count": 5,
   "id": "eea9be1a-4069-45e9-bdbd-f893e4d98ec0",
   "metadata": {},
   "outputs": [
    {
     "data": {
      "text/plain": [
       "{'a', 'e', 'i', 'o', 'u'}"
      ]
     },
     "execution_count": 5,
     "metadata": {},
     "output_type": "execute_result"
    }
   ],
   "source": [
    "vogais = {'a', 'e', 'i', 'o', 'u'}\n",
    "vogais"
   ]
  },
  {
   "cell_type": "markdown",
   "id": "255266c4-7a68-4f72-a2b0-4a89c59cb4ad",
   "metadata": {},
   "source": [
    "Assim como dicionários, os conjuntos são estruturas de dados desordenadas, ou seja, não repeitam uma ordem. Porém pode ser utilizada a função `sorted` para ordenar os dados. Porém essa função não altera a ordem do conjunto, apenas apresenta na saída os elementos ordenados."
   ]
  },
  {
   "cell_type": "code",
   "execution_count": 6,
   "id": "dd0012cc-75e8-450c-8e0b-89656face3f7",
   "metadata": {},
   "outputs": [
    {
     "data": {
      "text/plain": [
       "{'a', 'e', 'i', 'o', 'u'}"
      ]
     },
     "execution_count": 6,
     "metadata": {},
     "output_type": "execute_result"
    }
   ],
   "source": [
    "vogais2 = set('aeeiouu')\n",
    "vogais2"
   ]
  },
  {
   "cell_type": "markdown",
   "id": "16e19e52-15aa-452d-bbd7-f2a7f9a7b64e",
   "metadata": {},
   "source": [
    "A função `set()` recebe como um argumento um iterável que por sua vez se torna um conjunto, eliminando assim os elementos duplicados, mantendo apenas uma ocorrência de cada."
   ]
  },
  {
   "cell_type": "code",
   "execution_count": 7,
   "id": "41f5a50a-3706-4e7b-8d3d-97fec63d8953",
   "metadata": {},
   "outputs": [
    {
     "data": {
      "text/plain": [
       "{'a', 'e', 'i', 'o', 'u'}"
      ]
     },
     "execution_count": 7,
     "metadata": {},
     "output_type": "execute_result"
    }
   ],
   "source": [
    "vogais3 = set(['a', 'e', 'e', 'i', 'o', 'u', 'u'])\n",
    "vogais3"
   ]
  },
  {
   "cell_type": "markdown",
   "id": "a0ea6a54-8a86-4db0-b104-8ddbfafb2423",
   "metadata": {},
   "source": [
    "Como uma *string* é um objeto iterável, podemos passar como argumento na função `set()`, assim como poderiamos passar uma lista contendo números (inteiros ou reais), o conjunto consequentemente elimina os valores iguais."
   ]
  },
  {
   "cell_type": "markdown",
   "id": "2486d60a-3c8f-4628-a723-b61321be7915",
   "metadata": {},
   "source": [
    "## `.union()`"
   ]
  },
  {
   "cell_type": "markdown",
   "id": "72110d05-812f-4038-991c-4daf2e09b2da",
   "metadata": {},
   "source": [
    "Podemos utilizar o método `.union()`, para unir (respeitando as regras matemáticas) dois conjuntos distintos, conforme a regra universal da matemática, um conjunto não suporta elementos repetidos, portanto ao unir 2 conjuntos distintos em uma nova variável teremos um novo conjunto com todos os elementos **não repetidos** dos outros dois."
   ]
  },
  {
   "cell_type": "code",
   "execution_count": 8,
   "id": "c4421300-ea78-48dc-94ab-998b4f89ca8b",
   "metadata": {},
   "outputs": [],
   "source": [
    "palavra = \"Bolsonaro Genocida\"\n",
    "uniao = vogais.union(set(palavra))"
   ]
  },
  {
   "cell_type": "code",
   "execution_count": 9,
   "id": "6466ba90-a4c7-46db-8bd2-f4dcd6f55a1f",
   "metadata": {},
   "outputs": [
    {
     "data": {
      "text/plain": [
       "[' ', 'B', 'G', 'a', 'c', 'd', 'e', 'i', 'l', 'n', 'o', 'r', 's', 'u']"
      ]
     },
     "execution_count": 9,
     "metadata": {},
     "output_type": "execute_result"
    }
   ],
   "source": [
    "lista_uniao = sorted(list(uniao))\n",
    "lista_uniao"
   ]
  },
  {
   "cell_type": "markdown",
   "id": "063e5fbd-0ebb-4b6a-a2b9-b0afdae76bb5",
   "metadata": {},
   "source": [
    "## `.difference()`"
   ]
  },
  {
   "cell_type": "markdown",
   "id": "f24f70e4-f765-4964-9f02-97a5189ae384",
   "metadata": {},
   "source": [
    "O método `.difference()` recebe dois conjuntos como argumento e retorna o que **está** em um conjunto, mas não no outro."
   ]
  },
  {
   "cell_type": "code",
   "execution_count": 10,
   "id": "3bc16688-921a-44f4-bfc8-4008a7ae13eb",
   "metadata": {},
   "outputs": [
    {
     "data": {
      "text/plain": [
       "{'u'}"
      ]
     },
     "execution_count": 10,
     "metadata": {},
     "output_type": "execute_result"
    }
   ],
   "source": [
    "diferenca = vogais.difference(set(palavra))\n",
    "diferenca"
   ]
  },
  {
   "cell_type": "markdown",
   "id": "3ac8626c-8cea-4730-bfc7-8ba9d413aa6b",
   "metadata": {},
   "source": [
    "## `.intersection()`"
   ]
  },
  {
   "cell_type": "markdown",
   "id": "036a2bfe-32a0-4ae4-a3a0-62eb18f01386",
   "metadata": {},
   "source": [
    "Assim como os métodos demonstrados anteriormente, que são conceitos matemáticos básicos de conjuntos, o `.intersection()` funciona para comparar o que existem **em comum** entre dois ou mais conjuntos."
   ]
  },
  {
   "cell_type": "code",
   "execution_count": 11,
   "id": "3039b711-27cb-42c4-90ba-d4a2d6161f83",
   "metadata": {},
   "outputs": [
    {
     "data": {
      "text/plain": [
       "{'a', 'e', 'i', 'o'}"
      ]
     },
     "execution_count": 11,
     "metadata": {},
     "output_type": "execute_result"
    }
   ],
   "source": [
    "interseccao = vogais.intersection(set(palavra))\n",
    "interseccao"
   ]
  },
  {
   "cell_type": "code",
   "execution_count": null,
   "id": "d99a81ff-6ed7-4497-aa95-4b59a5c1b68c",
   "metadata": {},
   "outputs": [],
   "source": []
  }
 ],
 "metadata": {
  "kernelspec": {
   "display_name": "Python 3",
   "language": "python",
   "name": "python3"
  },
  "language_info": {
   "codemirror_mode": {
    "name": "ipython",
    "version": 3
   },
   "file_extension": ".py",
   "mimetype": "text/x-python",
   "name": "python",
   "nbconvert_exporter": "python",
   "pygments_lexer": "ipython3",
   "version": "3.8.8"
  }
 },
 "nbformat": 4,
 "nbformat_minor": 5
}
