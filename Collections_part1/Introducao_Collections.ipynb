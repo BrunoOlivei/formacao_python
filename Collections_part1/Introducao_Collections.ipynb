{
 "cells": [
  {
   "cell_type": "markdown",
   "id": "710a846e-1799-40eb-9bdb-6a60c3f5c5df",
   "metadata": {},
   "source": [
    "# Introdução"
   ]
  },
  {
   "cell_type": "markdown",
   "id": "21321533",
   "metadata": {},
   "source": [
    "A idéia das coleções é que tenhamos mais de um elemento, suponhamos que temos um sistema que receba a idade dos usuários\n",
    "a cada nova entrada de idade, precisariamos criar uma nova variável para receber essa nova idade"
   ]
  },
  {
   "cell_type": "code",
   "execution_count": 2,
   "id": "92d8bf1a",
   "metadata": {},
   "outputs": [
    {
     "name": "stdout",
     "output_type": "stream",
     "text": [
      "32\n",
      "30\n",
      "45\n",
      "18\n"
     ]
    }
   ],
   "source": [
    "idade1 = 32\n",
    "idade2 = 30\n",
    "idade3 = 45\n",
    "idade4 = 18\n",
    "\n",
    "print(idade1)\n",
    "print(idade2)\n",
    "print(idade3)\n",
    "print(idade4)"
   ]
  },
  {
   "cell_type": "markdown",
   "id": "3840edc0",
   "metadata": {},
   "source": [
    "Para casos como esse existem as **listas** (*list*) onde podemos inserir os valores entre colchetes. É comum e uma boa prática **trabalharmos com listas que contenham valores do mesmo TIPO**, isso quer dizer somente números inteiros ou somente *strings* por exemplo."
   ]
  },
  {
   "cell_type": "code",
   "execution_count": 3,
   "id": "b11cbe0c",
   "metadata": {},
   "outputs": [],
   "source": [
    "idades = [32, 30, 45, 18]"
   ]
  },
  {
   "cell_type": "markdown",
   "id": "2b182205",
   "metadata": {},
   "source": [
    "As listas são a implementação de uma \"ideia\" para uma sequencia de acesso aleatório onde podemos solicitar o acesso ao elemento da segunda posição ou da quarta por exemplo, as listas em python podem ser comumente comparadas as *arrays* em outras linguagens, porém no python listas e arrays são coisas distintas."
   ]
  },
  {
   "cell_type": "markdown",
   "id": "bde71b25",
   "metadata": {},
   "source": [
    "Existem diversos métodos que podem ser utilizados com e para a lista. Um deles é o `len()`"
   ]
  },
  {
   "cell_type": "code",
   "execution_count": 4,
   "id": "d701cca8",
   "metadata": {},
   "outputs": [
    {
     "data": {
      "text/plain": [
       "4"
      ]
     },
     "execution_count": 4,
     "metadata": {},
     "output_type": "execute_result"
    }
   ],
   "source": [
    "len(idades)"
   ]
  },
  {
   "cell_type": "markdown",
   "id": "4f152fc6",
   "metadata": {},
   "source": [
    "Como dito anteriormente podemos também consultar elementos específicos dentro das listas baseando em suas posições, lembrando que em python **a contagem começa sempre a partir de 0** então para encontrar o primeiro elemento pedimos a posição 0"
   ]
  },
  {
   "cell_type": "code",
   "execution_count": 5,
   "id": "8a6f0834",
   "metadata": {},
   "outputs": [
    {
     "data": {
      "text/plain": [
       "32"
      ]
     },
     "execution_count": 5,
     "metadata": {},
     "output_type": "execute_result"
    }
   ],
   "source": [
    "idades[0]"
   ]
  },
  {
   "cell_type": "markdown",
   "id": "219075d3-c0ca-4fec-b0f5-ada66bd59e55",
   "metadata": {},
   "source": [
    "A **notação de colchetes**, que usamos para acessar os elementos da lista através do indice, da esquerda para direita, utilizando números inteiros positivos também aceita números inteiro negativos para acesso da direita para a esquerda, ou seja, do último para o primeiro."
   ]
  },
  {
   "cell_type": "code",
   "execution_count": 8,
   "id": "f4893a65-b67e-402d-b313-c7fcedf5f06a",
   "metadata": {},
   "outputs": [
    {
     "data": {
      "text/plain": [
       "15"
      ]
     },
     "execution_count": 8,
     "metadata": {},
     "output_type": "execute_result"
    }
   ],
   "source": [
    "idades[-1]"
   ]
  },
  {
   "cell_type": "markdown",
   "id": "6225b5cc",
   "metadata": {},
   "source": [
    "As listas são dinamicas, podendo aumentar ou diminuir sob demanda. Isso quer dizer que podemos acrescentar elementos\n",
    "a uma lista pré-existente ou remover. Como dito anteriormente as listas possuem diversos métodos pré definidos que podem\n",
    "ser utilizados para manipular os elementos. Para \"chamar\" um método utilizamos a **notação de ponto**, um exemplo é o \n",
    "`append()` que acrescenta um novo elemento **sempre ao final da lista**."
   ]
  },
  {
   "cell_type": "code",
   "execution_count": 6,
   "id": "4aca806b",
   "metadata": {},
   "outputs": [
    {
     "data": {
      "text/plain": [
       "[32, 30, 45, 18, 15]"
      ]
     },
     "execution_count": 6,
     "metadata": {},
     "output_type": "execute_result"
    }
   ],
   "source": [
    "idades.append(15)\n",
    "idades"
   ]
  },
  {
   "cell_type": "markdown",
   "id": "f0b6e146",
   "metadata": {},
   "source": [
    "Se tentarmos acessar agora a posição 4, teremos como resultado o valor 15. Agora e se tentarmos acessar a posição 5 por\n",
    "exemplo"
   ]
  },
  {
   "cell_type": "code",
   "execution_count": 7,
   "id": "1216c646",
   "metadata": {},
   "outputs": [
    {
     "ename": "IndexError",
     "evalue": "list index out of range",
     "output_type": "error",
     "traceback": [
      "\u001b[1;31m---------------------------------------------------------------------------\u001b[0m",
      "\u001b[1;31mIndexError\u001b[0m                                Traceback (most recent call last)",
      "\u001b[1;32m<ipython-input-7-9afc071113c0>\u001b[0m in \u001b[0;36m<module>\u001b[1;34m\u001b[0m\n\u001b[1;32m----> 1\u001b[1;33m \u001b[0midades\u001b[0m\u001b[1;33m[\u001b[0m\u001b[1;36m5\u001b[0m\u001b[1;33m]\u001b[0m\u001b[1;33m\u001b[0m\u001b[1;33m\u001b[0m\u001b[0m\n\u001b[0m",
      "\u001b[1;31mIndexError\u001b[0m: list index out of range"
     ]
    }
   ],
   "source": [
    "idades[5]"
   ]
  },
  {
   "cell_type": "markdown",
   "id": "4ac99065",
   "metadata": {},
   "source": [
    "Temos como retorno um erro de indice \"IndexError: list index out of range\""
   ]
  },
  {
   "cell_type": "markdown",
   "id": "325aab96",
   "metadata": {},
   "source": [
    "Podemos também iterar sobre os elementos da lista, utilizando o laço `for`"
   ]
  },
  {
   "cell_type": "code",
   "execution_count": null,
   "id": "b160bb38",
   "metadata": {},
   "outputs": [],
   "source": [
    "for idade in idades:\n",
    "    print(idade)"
   ]
  },
  {
   "cell_type": "markdown",
   "id": "c6239d88-5c4e-48c4-a91a-d8f617706fc4",
   "metadata": {},
   "source": [
    "Podemos também remover elementos da lista, utilizando o método remove que também é usado através da notação de ponto. Diferentemente do método append, que insere um novo elemento sempre ao final da lista, o método remove retira um elemento informado dentro dos parênteses como argumento. Caso a lista contenha mais de um elemento com mesmo valor, o \n",
    "o método remove a primeira aparição (ocorrência) do elemento, da esquerda para a direita. Caso o método não encontre o elemento passado como argumento, ele retorna um ValueError."
   ]
  },
  {
   "cell_type": "code",
   "execution_count": null,
   "id": "95836d6b-cd12-441e-ace7-cb558e883085",
   "metadata": {},
   "outputs": [],
   "source": [
    "idades.remove(15)"
   ]
  },
  {
   "cell_type": "markdown",
   "id": "ff883ad1-a86d-42ee-b07b-dd78704c1da2",
   "metadata": {},
   "source": [
    "Conferindo novamente os elementos"
   ]
  },
  {
   "cell_type": "code",
   "execution_count": null,
   "id": "1e5399be-bf0f-4a71-9abd-8359b5e98bc7",
   "metadata": {},
   "outputs": [],
   "source": [
    "idades"
   ]
  },
  {
   "cell_type": "markdown",
   "id": "ec13fafd-e086-45cd-a845-0f56e7e06eb4",
   "metadata": {},
   "source": [
    "Para remover todos os elementos da lista de uma só vez, podemos utilizar o método `clear()` que limpa toda a lista, removendo todos os elementos de uma só vez. Esse método não recebe nenhum argumento. Ao chamar novamente a variável contendo a lista recebemos como resultado [] que representa uma lista vazia."
   ]
  },
  {
   "cell_type": "markdown",
   "id": "437b68d9-e11c-4a80-b413-1e59f0a13c29",
   "metadata": {},
   "source": [
    "O método pop também é usado para remover elementos de uma lista, a diferença é que o argumento que ele recebe é o indice do elemento que deseja remover. Portanto em casos que não se sabe o valor do elemento que deseja ser removido, podemos utilizar o pop para remover pelo indice. Um detalhe é que quando nenhum argumento é passado, o método remove o último elemento da lista.\n",
    "\n",
    "Se a lista em questão estiver vázia, ou o índice passado não existir o método pop retornará um erro."
   ]
  },
  {
   "cell_type": "code",
   "execution_count": null,
   "id": "5b355604-fe19-48d8-8007-54362d735030",
   "metadata": {},
   "outputs": [],
   "source": [
    "idades.pop(1)"
   ]
  },
  {
   "cell_type": "markdown",
   "id": "4a2462b5-3df8-4893-badc-42d2595b0d92",
   "metadata": {},
   "source": [
    "O valor retornado pelo método pop pode ser atribuido a uma nova variável."
   ]
  },
  {
   "cell_type": "code",
   "execution_count": null,
   "id": "0386d785-3955-4540-a873-1a4d01319ed3",
   "metadata": {},
   "outputs": [],
   "source": [
    "idade = idades.pop(1)"
   ]
  },
  {
   "cell_type": "code",
   "execution_count": null,
   "id": "987e7b4a-fac8-42d4-b8b5-a0f25d67523b",
   "metadata": {},
   "outputs": [],
   "source": [
    "idade"
   ]
  },
  {
   "cell_type": "code",
   "execution_count": null,
   "id": "266b1d4b-12ea-4938-aa96-c16a2269810c",
   "metadata": {},
   "outputs": [],
   "source": [
    "idades.clear()"
   ]
  },
  {
   "cell_type": "code",
   "execution_count": null,
   "id": "e27292be-7133-4dba-970f-f91a607a37ad",
   "metadata": {},
   "outputs": [],
   "source": [
    "idades"
   ]
  },
  {
   "cell_type": "markdown",
   "id": "eef2b4ab-f9df-405f-8527-3af92b699fa4",
   "metadata": {},
   "source": [
    "Podemos verificar uma associação, isso quer dizer se um elemento está na nossa lista, para isso vamos acrescentar novamente um novo elemento utilizando o método append, e posteriormente utilizaremos o operador in para ver se o elemento está contido na nossa coleção."
   ]
  },
  {
   "cell_type": "code",
   "execution_count": null,
   "id": "acb55447-3e6c-4f6d-9055-44a0c54f90a5",
   "metadata": {},
   "outputs": [],
   "source": [
    "idades.append(32)"
   ]
  },
  {
   "cell_type": "code",
   "execution_count": null,
   "id": "e940ff43-0b5a-47da-975c-316f381396b4",
   "metadata": {},
   "outputs": [],
   "source": [
    "32 in idades"
   ]
  },
  {
   "cell_type": "markdown",
   "id": "bacf9a88-1e50-40a4-be9e-498ae3822a7a",
   "metadata": {},
   "source": [
    "Da mesma forma podemos verificar se um valor NÃO está na lista, para isso basta adicionar o operador de negação not"
   ]
  },
  {
   "cell_type": "code",
   "execution_count": null,
   "id": "d91f4f83-491b-4838-92f1-cf9eb1f4eced",
   "metadata": {},
   "outputs": [],
   "source": [
    "45 not in idades"
   ]
  },
  {
   "cell_type": "markdown",
   "id": "7a5f0618-8bb7-4bdc-a21a-1c5188ceb843",
   "metadata": {},
   "source": [
    "Se a condição representada pelo operador in for verdadeira ela retorna como resultado o valor True, caso contrário retorna False. Isso pode ser utilizado para tomada de decisões no código por exemplo."
   ]
  },
  {
   "cell_type": "markdown",
   "id": "6272b704-2d96-4801-ae9e-2e374c4c87f4",
   "metadata": {},
   "source": [
    "Se quisermos adicionar um elemento em uma posição específica da nossa lista temos o método `.insert(i, x)` que recebes dois argumentos, o primeiro, i referece a posição (indice) em que queremos adicionar o novo elemento que é representado aqui por x, os dois separados por vírgula."
   ]
  },
  {
   "cell_type": "code",
   "execution_count": null,
   "id": "7ada1730-4327-4abd-8a3c-20f2db801719",
   "metadata": {},
   "outputs": [],
   "source": [
    "idades.insert(0, 45)\n",
    "idades"
   ]
  },
  {
   "cell_type": "markdown",
   "id": "277f6987-0cb8-475e-ba65-d178eda23fc6",
   "metadata": {},
   "source": [
    "Se quisessemos adicionar mais de um elemento dentro da nossa lista, precisariamos utilizar um novo método que possa receber, por exemplo uma outra lista e adicionar elemento por elemento. O método append não realiza essa tarefa, primeiro que ele recebe apenas um argumento. Poderiamos passar uma lista por ele, porém o que ele faria seria adicionar a LISTA ao final, teriamos então uma lista aninhada. Portanto a melhor forma de se realizar essa tarefa será utilizando o método `.extend()` que recebe como argumento um iterável, iteráveis são todos os objetos que podemos passar elemento por elemento, como é o caso da lista que podemos acessar, item por item utilizando, por exemplo o `for`"
   ]
  },
  {
   "cell_type": "code",
   "execution_count": null,
   "id": "2427376d-d97a-4390-8fc3-ac45a35952c6",
   "metadata": {},
   "outputs": [],
   "source": [
    "idades = [45, 32, 30, 45, 18, 15]\n",
    "idades.extend([37, 28, 22])\n",
    "idades"
   ]
  },
  {
   "cell_type": "markdown",
   "id": "5e2f3a5d-0f1f-4422-ab84-456d558761a1",
   "metadata": {},
   "source": [
    "Podemos realizar operações com cada elemento e posteriormente adicionarmos e uma nova lista, por exemplo suponhamos que queremos adicionar 1 em cada item da lista original, podemos criar um laço for que **passará por cada elemento adicionando 1**:"
   ]
  },
  {
   "cell_type": "code",
   "execution_count": null,
   "id": "ab77a3e8-6e98-483e-9f95-ad0c506db7d8",
   "metadata": {},
   "outputs": [],
   "source": [
    "idades_mais_um = []\n",
    "for idade in idades:\n",
    "    idades_mais_um.append(idade + 1)\n",
    "print(idades_mais_um)"
   ]
  },
  {
   "cell_type": "markdown",
   "id": "3b24146b-dd55-4208-a606-bcef97c3ed8b",
   "metadata": {},
   "source": [
    "O python possui uma forma mais simplificada que podemos realizar essa mesma operação, seguindo o mesmo raciocínio \n",
    ">crie uma lista e atribua a variável idade_mais_um a o somatório 1 para cada elemento na lista \n",
    "`idade_mais_um = [(idade + 1) for idade in idades]`"
   ]
  },
  {
   "cell_type": "code",
   "execution_count": null,
   "id": "080460cc-16ac-464a-ae31-cb744c27bc23",
   "metadata": {},
   "outputs": [],
   "source": [
    "idades_mais_um = [idade + 1 for idade in idades]"
   ]
  },
  {
   "cell_type": "code",
   "execution_count": null,
   "id": "44881a8f-b425-4e3d-9be1-28df8a0b5a31",
   "metadata": {},
   "outputs": [],
   "source": [
    "idades_mais_um"
   ]
  },
  {
   "cell_type": "markdown",
   "id": "c265e83f-cad9-478e-a478-122f5d2371fc",
   "metadata": {},
   "source": [
    "Podemos realizar outras funções combinando expreções condicionais e laços de repetição por exemplo\n",
    "> Crie uma lista e atribua a uma variável idades_maior para cada elemento da lista os maiores que 21"
   ]
  },
  {
   "cell_type": "code",
   "execution_count": null,
   "id": "7f6923fc-bfbf-40d0-9018-52f714a48447",
   "metadata": {},
   "outputs": [],
   "source": [
    "idade_maior = [idade for idade in idades if idade > 21]\n",
    "idade_maior"
   ]
  },
  {
   "cell_type": "code",
   "execution_count": null,
   "id": "b685e316-4630-44ca-98ac-98f78fc93a05",
   "metadata": {},
   "outputs": [],
   "source": [
    "def proximo_ano(idade):\n",
    "  return idade+1\n",
    "\n",
    "[proximo_ano(idade) for idade in idades if idade > 21]"
   ]
  },
  {
   "cell_type": "code",
   "execution_count": null,
   "id": "6946734f-378e-4d76-b59e-0e3e95d5db4f",
   "metadata": {},
   "outputs": [],
   "source": [
    "def faz_processamento_de_visualizacao(lista = None):\n",
    "  if lista == None:\n",
    "    lista = list()\n",
    "  print(len(lista))\n",
    "  print(lista)\n",
    "  lista.append(13)"
   ]
  },
  {
   "cell_type": "code",
   "execution_count": null,
   "id": "8d3320a3-b733-4f0b-af88-45bfd1b6ce22",
   "metadata": {},
   "outputs": [],
   "source": [
    "faz_processamento_de_visualizacao()\n",
    "faz_processamento_de_visualizacao()\n",
    "faz_processamento_de_visualizacao()\n",
    "faz_processamento_de_visualizacao()"
   ]
  },
  {
   "cell_type": "markdown",
   "id": "967ce462-ee7d-4df3-ac50-b79308abd656",
   "metadata": {},
   "source": [
    "#  Listas com objetos de classes nossas"
   ]
  },
  {
   "cell_type": "markdown",
   "id": "825cc9f0-3b74-4c78-bb2c-3ed64b41576e",
   "metadata": {},
   "source": [
    "Trabalhando com listas contendo objetos que nós mesmos construimos através das classes."
   ]
  },
  {
   "cell_type": "markdown",
   "id": "6ee690a4-1aca-461a-ae21-02a3d4947c56",
   "metadata": {},
   "source": [
    "Criamos uma classe que recebe um código que será o código da conta e também inicializa com saldo 0, além disso criamos um método para adicionar valor ao saldo e por fim um outro método para trazer uma representação em string da conta com o código e o saldo."
   ]
  },
  {
   "cell_type": "code",
   "execution_count": null,
   "id": "0eb94780-b848-40ec-8f5c-d48ed2892117",
   "metadata": {},
   "outputs": [],
   "source": [
    "class ContaCorrente:\n",
    "\n",
    "    def __init__(self, codigo):\n",
    "        self.codigo = codigo\n",
    "        self.saldo = 0\n",
    "        \n",
    "    def deposita(self, valor):\n",
    "        self.saldo += valor\n",
    "    \n",
    "    def __str__(self):\n",
    "        return \"[>>Código {} Saldo {}<<]\".format(self.codigo, self.saldo)"
   ]
  },
  {
   "cell_type": "markdown",
   "id": "8ea61016-5a47-42c7-8a7a-74ffe871c61f",
   "metadata": {},
   "source": [
    "Agora criamos um objeto ContaCorrente atribuindo a variável conta_bruno com código 123"
   ]
  },
  {
   "cell_type": "code",
   "execution_count": null,
   "id": "34dc0783-aba3-4ade-9c72-414f56fec6d9",
   "metadata": {},
   "outputs": [],
   "source": [
    "conta_bruno = ContaCorrente(123)\n",
    "print(conta_bruno)"
   ]
  },
  {
   "cell_type": "markdown",
   "id": "abdeea9b-e128-4037-9b71-50471220a3b6",
   "metadata": {},
   "source": [
    "Vamos adicionar um saldo de 500 para a conta"
   ]
  },
  {
   "cell_type": "code",
   "execution_count": null,
   "id": "8589de6b-1935-4f58-a75b-69e137d64357",
   "metadata": {},
   "outputs": [],
   "source": [
    "conta_bruno.deposita(500)\n",
    "print(conta_bruno)"
   ]
  },
  {
   "cell_type": "markdown",
   "id": "84964a00-fb40-4da2-8530-c66dc40cd1d7",
   "metadata": {},
   "source": [
    "Vamos criar uma segunda conta que recebe um número de código e um saldo de 1000."
   ]
  },
  {
   "cell_type": "code",
   "execution_count": null,
   "id": "d80fe271-9174-4300-bae0-990439474297",
   "metadata": {},
   "outputs": [],
   "source": [
    "conta_da_dani = ContaCorrente(47685)\n",
    "conta_da_dani.deposita(1000)\n",
    "print(conta_da_dani)"
   ]
  },
  {
   "cell_type": "markdown",
   "id": "81473f07-389e-44fa-885e-8b05e991f4f2",
   "metadata": {},
   "source": [
    "Com as duas contas criadas queremos agora trabalhar com as representações em string, por exemplo [>>Código 123 Saldo 500<<], das contas em uma lista."
   ]
  },
  {
   "cell_type": "code",
   "execution_count": null,
   "id": "8bf97191-01bd-43ad-81ae-8e83d884f7f2",
   "metadata": {},
   "outputs": [],
   "source": [
    "contas = [conta_bruno, conta_da_dani]\n",
    "print(contas)"
   ]
  },
  {
   "cell_type": "markdown",
   "id": "cc32683d-bb54-4fe0-8ca6-b85ce010512c",
   "metadata": {},
   "source": [
    "Perceba que funciona, recebemos os endereços de memória dos objetos, mas queriamos mesmo era as representações em string [>>Código 123 Saldo 500<<] das contas."
   ]
  },
  {
   "cell_type": "markdown",
   "id": "59190b3f-6e3f-456b-88b4-e53425f77981",
   "metadata": {},
   "source": [
    "Podemos fazer um laço for para iterar os objetos da lista"
   ]
  },
  {
   "cell_type": "code",
   "execution_count": null,
   "id": "5a5c29e5-2301-492c-9790-5c2739b30149",
   "metadata": {},
   "outputs": [],
   "source": [
    "for conta in contas:\n",
    "    print(conta)"
   ]
  },
  {
   "cell_type": "markdown",
   "id": "4b740979-b3f7-4d53-94e7-edd0120f93a3",
   "metadata": {},
   "source": [
    "Isso nos mostra uma lista contendo objetos funcionam normalmente."
   ]
  },
  {
   "cell_type": "markdown",
   "id": "b5bababf-27d4-4429-8c70-86b5fddc42af",
   "metadata": {},
   "source": [
    "A grande preocupação está na **mutabilidade** das listas. Vamos criar uma lista que recebe:"
   ]
  },
  {
   "cell_type": "code",
   "execution_count": null,
   "id": "c685cfdf-f6fe-414b-b731-34407af58ff6",
   "metadata": {},
   "outputs": [],
   "source": [
    "contas = [conta_bruno, conta_da_dani, conta_bruno]"
   ]
  },
  {
   "cell_type": "code",
   "execution_count": null,
   "id": "e6efd95e-8db5-4df5-a6bf-8f6fe65ac393",
   "metadata": {},
   "outputs": [],
   "source": [
    "contas[0]"
   ]
  },
  {
   "cell_type": "code",
   "execution_count": null,
   "id": "aabe6073-5e62-41a6-873e-519a3b75547f",
   "metadata": {},
   "outputs": [],
   "source": [
    "print(contas[0])"
   ]
  },
  {
   "cell_type": "markdown",
   "id": "9b65e4d6-4954-4357-8d8a-58eaf1200a1d",
   "metadata": {},
   "source": [
    "Importante ressaltar que os objetos criados possuem sua referência a memória, no momento em que eles são inseridos em uma lista, eles continuam com a mesma referência quando foram criados os objetos, mas passam a receber um novo referêncial que é o indice da lista, no exemplo acima observamos que a referência da posição 0 em contas é conta_bruno."
   ]
  },
  {
   "cell_type": "markdown",
   "id": "5b6ab521-d68b-4182-b3c4-aa444bcd8866",
   "metadata": {},
   "source": [
    "Os objetos das listas NÃO são novos objetos.\n",
    "\n",
    "Agora e o elemento na posição 2 da lista contas? Será que referencia ao mesmo endereço de memória do elemento de indice 0, já que ambos possuem o mesmo nome? Não criamos nenhum objeto novo como dito anteriormente, cada elemento da lista fazem referencias aos mesmos objetos criados anteriormente, portanto se realizarmos uma alteração no saldo de conta_bruno, esperamos que ambos elementos tanto da referencia 0 quanto da referencia 2 tenham o mesmo valor de saldo."
   ]
  },
  {
   "cell_type": "code",
   "execution_count": null,
   "id": "9400c379-108d-41a6-9e99-ffb1ca99b2b4",
   "metadata": {},
   "outputs": [],
   "source": [
    "conta_bruno.deposita(100)"
   ]
  },
  {
   "cell_type": "code",
   "execution_count": null,
   "id": "f1f08da0-2ac8-420f-b0d0-6e131350df55",
   "metadata": {},
   "outputs": [],
   "source": [
    "contas[0]"
   ]
  },
  {
   "cell_type": "code",
   "execution_count": null,
   "id": "2fdabb94-17e4-46e2-af4f-32f6fe9233e3",
   "metadata": {},
   "outputs": [],
   "source": [
    "contas[2]"
   ]
  },
  {
   "cell_type": "code",
   "execution_count": null,
   "id": "2c4059d2-bddd-4aa4-bf0e-4dda866818b4",
   "metadata": {},
   "outputs": [],
   "source": [
    "for conta in contas:\n",
    "    print(conta)"
   ]
  },
  {
   "cell_type": "markdown",
   "id": "8861f563-c669-4fbe-8576-94197301da6c",
   "metadata": {},
   "source": [
    "As linhas 24 e 25 mostram que ambos elementos da lista fazem referencia ao mesmo endereço de memória do nosso objeto ContaCorrete. A linha 27 é a representação das nossas contas, observe que ambas, a de posição 0 e posição 2 possuem os mesmos valores."
   ]
  },
  {
   "cell_type": "markdown",
   "id": "f1921da4-e906-460f-b9e4-98fb4fea1747",
   "metadata": {},
   "source": [
    "O problema de termos muitas referências para um mesmo objeto e isso escalar para um número grande de objetos e consequentemente uma enorme quantidade de referências é nos perdermos. Vamos usar a referência na lista (o inice) para tentar depositar um valor a conta do Bruno da seguinte forma:"
   ]
  },
  {
   "cell_type": "code",
   "execution_count": null,
   "id": "bcc2ac6a-7681-4a2d-984e-a66a844fff46",
   "metadata": {},
   "outputs": [],
   "source": [
    "contas[2].deposita(300)"
   ]
  },
  {
   "cell_type": "code",
   "execution_count": null,
   "id": "928a096e-d613-4f77-bfc7-dd1670ca7a30",
   "metadata": {},
   "outputs": [],
   "source": [
    "print(contas[0])"
   ]
  },
  {
   "cell_type": "markdown",
   "id": "2a12e789-b0ae-4b88-8404-a9a64c4097ca",
   "metadata": {},
   "source": [
    "Percebe que fizemos um deposito utilizando como referência o objeto na posição dois e ao chamarmos o objeto na posição 0 temos o reflexo do valor depositado. "
   ]
  },
  {
   "cell_type": "markdown",
   "id": "b79ec22a-20df-4ece-938f-2be8271c7da2",
   "metadata": {},
   "source": [
    "---"
   ]
  },
  {
   "cell_type": "markdown",
   "id": "a98f79b3-2b31-460e-902a-5b32982183b8",
   "metadata": {},
   "source": [
    "# Tuplas"
   ]
  },
  {
   "cell_type": "code",
   "execution_count": null,
   "id": "2044eb0a-1919-417c-a983-f3975eff9cf2",
   "metadata": {},
   "outputs": [],
   "source": []
  },
  {
   "cell_type": "code",
   "execution_count": null,
   "id": "2d1aff06-2412-4b5c-b3ab-fd98ac46ae53",
   "metadata": {},
   "outputs": [],
   "source": []
  }
 ],
 "metadata": {
  "kernelspec": {
   "display_name": "Python 3",
   "language": "python",
   "name": "python3"
  },
  "language_info": {
   "codemirror_mode": {
    "name": "ipython",
    "version": 3
   },
   "file_extension": ".py",
   "mimetype": "text/x-python",
   "name": "python",
   "nbconvert_exporter": "python",
   "pygments_lexer": "ipython3",
   "version": "3.8.8"
  }
 },
 "nbformat": 4,
 "nbformat_minor": 5
}
