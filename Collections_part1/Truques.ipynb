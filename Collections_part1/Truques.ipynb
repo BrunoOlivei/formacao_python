{
 "cells": [
  {
   "cell_type": "markdown",
   "id": "bcd18819-e690-4a1e-918c-176bd81c60ce",
   "metadata": {},
   "source": [
    "# Estrutura Condicional dentro da função `print`"
   ]
  },
  {
   "cell_type": "code",
   "execution_count": 2,
   "id": "3dbe9977-af3a-4ef9-a063-b241f71431b2",
   "metadata": {},
   "outputs": [
    {
     "name": "stdin",
     "output_type": "stream",
     "text": [
      "Digite um numero:  24\n"
     ]
    },
    {
     "name": "stdout",
     "output_type": "stream",
     "text": [
      "par\n"
     ]
    }
   ],
   "source": [
    "print(\"impar\" if int(input(\"Digite um numero: \"))%2 else \"par\")"
   ]
  },
  {
   "cell_type": "markdown",
   "id": "4466a5ac-1da5-482f-a78c-695e4dec1d79",
   "metadata": {},
   "source": [
    "# Lista com condicionais e `all`"
   ]
  },
  {
   "cell_type": "code",
   "execution_count": 7,
   "id": "d9968624-e873-4ecf-a474-eae1ba7484e6",
   "metadata": {},
   "outputs": [
    {
     "name": "stdout",
     "output_type": "stream",
     "text": [
      "Segundo colocado\n"
     ]
    }
   ],
   "source": [
    "gols = 2\n",
    "gols_sofridos = 1\n",
    "posse_bola = 49\n",
    "lista_cond = [gols>1,\n",
    "              gols_sofridos<1,\n",
    "              posse_bola<50]\n",
    "if(all(lista_cond)):\n",
    "    print(\"Primeiro colocado\")\n",
    "else:\n",
    "    print(\"Segundo colocado\")"
   ]
  },
  {
   "cell_type": "code",
   "execution_count": 8,
   "id": "d321e91d-38c9-4fbc-a673-1793e8bc92d6",
   "metadata": {},
   "outputs": [
    {
     "name": "stdout",
     "output_type": "stream",
     "text": [
      "Primeiro colocado\n"
     ]
    }
   ],
   "source": [
    "gols = 2\n",
    "gols_sofridos = 0\n",
    "posse_bola = 49\n",
    "lista_cond = [gols>1,\n",
    "              gols_sofridos<1,\n",
    "              posse_bola<50]\n",
    "if(all(lista_cond)):\n",
    "    print(\"Primeiro colocado\")\n",
    "else:\n",
    "    print(\"Segundo colocado\")"
   ]
  },
  {
   "cell_type": "code",
   "execution_count": 9,
   "id": "0c28eab2-cc05-4ccd-b497-7d3bdaf1a812",
   "metadata": {},
   "outputs": [
    {
     "name": "stdout",
     "output_type": "stream",
     "text": [
      "Segundo colocado\n"
     ]
    }
   ],
   "source": [
    "gols = 2\n",
    "gols_sofridos = 0\n",
    "posse_bola = 65\n",
    "lista_cond = [gols>1,\n",
    "              gols_sofridos<1,\n",
    "              posse_bola<50]\n",
    "if(all(lista_cond)):\n",
    "    print(\"Primeiro colocado\")\n",
    "else:\n",
    "    print(\"Segundo colocado\")"
   ]
  },
  {
   "cell_type": "markdown",
   "id": "287bd34a-1f63-40c2-96d7-d7ea72661c63",
   "metadata": {},
   "source": [
    "A palavra reservada `all` funciona como o `and`"
   ]
  },
  {
   "cell_type": "markdown",
   "id": "1c5559db-5c65-4310-9aca-5b089ff160b0",
   "metadata": {},
   "source": [
    "# Lista com condicionais e `any`"
   ]
  },
  {
   "cell_type": "code",
   "execution_count": 14,
   "id": "f6884095-ba1c-4d86-833c-3b1c8c6658d0",
   "metadata": {},
   "outputs": [
    {
     "name": "stdout",
     "output_type": "stream",
     "text": [
      "Primeiro colocado\n"
     ]
    }
   ],
   "source": [
    "gols = 2\n",
    "gols_sofridos = 1\n",
    "posse_bola = 49\n",
    "lista_cond = [gols>1,\n",
    "              gols_sofridos<1,\n",
    "              posse_bola<50]\n",
    "if(any(lista_cond)):\n",
    "    print(\"Primeiro colocado\")\n",
    "else:\n",
    "    print(\"Segundo colocado\")"
   ]
  },
  {
   "cell_type": "code",
   "execution_count": 15,
   "id": "e669f3e5-2dac-452e-b3c1-c5f45afb4b20",
   "metadata": {},
   "outputs": [
    {
     "name": "stdout",
     "output_type": "stream",
     "text": [
      "Primeiro colocado\n"
     ]
    }
   ],
   "source": [
    "gols = 2\n",
    "gols_sofridos = 0\n",
    "posse_bola = 49\n",
    "lista_cond = [gols>1,\n",
    "              gols_sofridos<1,\n",
    "              posse_bola<50]\n",
    "if(any(lista_cond)):\n",
    "    print(\"Primeiro colocado\")\n",
    "else:\n",
    "    print(\"Segundo colocado\")"
   ]
  },
  {
   "cell_type": "code",
   "execution_count": 16,
   "id": "d5f8586e-dc87-4f38-8798-6a0889af49fd",
   "metadata": {},
   "outputs": [
    {
     "name": "stdout",
     "output_type": "stream",
     "text": [
      "Primeiro colocado\n"
     ]
    }
   ],
   "source": [
    "gols = 2\n",
    "gols_sofridos = 0\n",
    "posse_bola = 65\n",
    "lista_cond = [gols>1,\n",
    "              gols_sofridos<1,\n",
    "              posse_bola<50]\n",
    "if(any(lista_cond)):\n",
    "    print(\"Primeiro colocado\")\n",
    "else:\n",
    "    print(\"Segundo colocado\")"
   ]
  },
  {
   "cell_type": "markdown",
   "id": "12b48284-e348-426b-8656-811e13fbfec6",
   "metadata": {},
   "source": [
    "A palavra reservada `any` funciona como o `or`."
   ]
  },
  {
   "cell_type": "markdown",
   "id": "1c37f08c-1d4c-41eb-988d-6e5f39f3294c",
   "metadata": {},
   "source": [
    "# Entradas multiplas"
   ]
  },
  {
   "cell_type": "code",
   "execution_count": 17,
   "id": "7aaef732-aa0e-4cac-89bd-c8f931832346",
   "metadata": {},
   "outputs": [
    {
     "name": "stdin",
     "output_type": "stream",
     "text": [
      "Insira três informações:  3 4 Bruno\n"
     ]
    }
   ],
   "source": [
    "a, b, c = input(\"Insira três informações: \").split()"
   ]
  },
  {
   "cell_type": "code",
   "execution_count": 18,
   "id": "88d1ef2b-8c55-430d-b2f9-ccdec57d3d0f",
   "metadata": {},
   "outputs": [
    {
     "data": {
      "text/plain": [
       "'3'"
      ]
     },
     "execution_count": 18,
     "metadata": {},
     "output_type": "execute_result"
    }
   ],
   "source": [
    "a"
   ]
  },
  {
   "cell_type": "code",
   "execution_count": 19,
   "id": "36523472-dbc7-4af0-b056-bd89b118a021",
   "metadata": {},
   "outputs": [
    {
     "data": {
      "text/plain": [
       "'4'"
      ]
     },
     "execution_count": 19,
     "metadata": {},
     "output_type": "execute_result"
    }
   ],
   "source": [
    "b"
   ]
  },
  {
   "cell_type": "code",
   "execution_count": 20,
   "id": "99bee321-4a73-4ffe-bd6c-445db3dfeaf1",
   "metadata": {},
   "outputs": [
    {
     "data": {
      "text/plain": [
       "'Bruno'"
      ]
     },
     "execution_count": 20,
     "metadata": {},
     "output_type": "execute_result"
    }
   ],
   "source": [
    "c"
   ]
  },
  {
   "cell_type": "markdown",
   "id": "62c652d2-7152-468d-ba20-38dcccc34c88",
   "metadata": {},
   "source": [
    "# Trocar os valores de duas variáveis entre si"
   ]
  },
  {
   "cell_type": "code",
   "execution_count": 21,
   "id": "b84e2022-7661-424f-957a-3ff9436562ad",
   "metadata": {},
   "outputs": [
    {
     "data": {
      "text/plain": [
       "2"
      ]
     },
     "execution_count": 21,
     "metadata": {},
     "output_type": "execute_result"
    }
   ],
   "source": [
    "salario = 5000\n",
    "experiencia = 2\n",
    "\n",
    "salario, experiencia  = experiencia, salario\n",
    "salario"
   ]
  },
  {
   "cell_type": "code",
   "execution_count": 22,
   "id": "ccde27c7-7712-40e3-ad39-ed131fbf190c",
   "metadata": {},
   "outputs": [
    {
     "data": {
      "text/plain": [
       "5000"
      ]
     },
     "execution_count": 22,
     "metadata": {},
     "output_type": "execute_result"
    }
   ],
   "source": [
    "experiencia"
   ]
  },
  {
   "cell_type": "code",
   "execution_count": null,
   "id": "10dda370-a098-43ba-a2cc-642d6664dddf",
   "metadata": {},
   "outputs": [],
   "source": []
  }
 ],
 "metadata": {
  "kernelspec": {
   "display_name": "Python 3",
   "language": "python",
   "name": "python3"
  },
  "language_info": {
   "codemirror_mode": {
    "name": "ipython",
    "version": 3
   },
   "file_extension": ".py",
   "mimetype": "text/x-python",
   "name": "python",
   "nbconvert_exporter": "python",
   "pygments_lexer": "ipython3",
   "version": "3.8.8"
  }
 },
 "nbformat": 4,
 "nbformat_minor": 5
}
