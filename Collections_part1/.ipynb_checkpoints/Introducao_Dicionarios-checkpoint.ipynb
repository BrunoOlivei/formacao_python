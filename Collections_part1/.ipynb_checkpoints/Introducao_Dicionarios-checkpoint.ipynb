{
 "cells": [
  {
   "cell_type": "markdown",
   "id": "9c38d06e-64ef-450c-8c2d-a845ef598482",
   "metadata": {},
   "source": [
    "# Dicionários"
   ]
  },
  {
   "cell_type": "markdown",
   "id": "d8833b23-713f-4200-a141-1663995f6b44",
   "metadata": {},
   "source": [
    "Utilizado para coleções de dados com pares **chave/valor**, cada chave **exclusiva** tem um valor associado. "
   ]
  },
  {
   "cell_type": "code",
   "execution_count": 1,
   "id": "7548378e-055b-4a07-9287-a44a08f6530b",
   "metadata": {},
   "outputs": [],
   "source": [
    "pessoa1 = {'Nome': 'Ford Perfect', \n",
    "           'Genero': 'Homem', \n",
    "           'Profissao': 'Pesquisados', \n",
    "           'Planeta de Origem': 'Betelgeuse Sete'}"
   ]
  },
  {
   "cell_type": "markdown",
   "id": "ce0d2e7e-38ca-4190-bea6-a707137ded6e",
   "metadata": {},
   "source": [
    "Um dicionário é identificado por ser formado por chaves {}, seguidos de pares com chave e valor separados por dois pontos, cada par é separado entre si por vírgula. Não necessáriamente as chaves e os valores precisam ser exclusivamente strings, podemos ter outros tipos de dados presentes. "
   ]
  },
  {
   "cell_type": "markdown",
   "id": "a1bcdeb8-5db6-4a10-b17e-72561f6cf7f7",
   "metadata": {},
   "source": [
    "Diferentemente das listas onde utilizamos a notação de colchetes com o índice dos elementos para acesso, os dicionários utilizam a notação de colchetes porém utilizando as chaves, para acessar os valores."
   ]
  },
  {
   "cell_type": "code",
   "execution_count": 2,
   "id": "12d4b0e4-0f1f-442f-a7fd-eb406f827967",
   "metadata": {},
   "outputs": [
    {
     "data": {
      "text/plain": [
       "'Betelgeuse Sete'"
      ]
     },
     "execution_count": 2,
     "metadata": {},
     "output_type": "execute_result"
    }
   ],
   "source": [
    "pessoa1['Planeta de Origem']"
   ]
  },
  {
   "cell_type": "markdown",
   "id": "b06b88e7-45e0-4357-ac91-dce8ba7f69c5",
   "metadata": {},
   "source": [
    "Utilizando a notação de colchetes, podemos adicionar um novo par **chave/valor** ao nosso dicionário:"
   ]
  },
  {
   "cell_type": "code",
   "execution_count": 3,
   "id": "1f8b7c6c-c13d-48d5-a576-2c14f806cbb7",
   "metadata": {},
   "outputs": [],
   "source": [
    "pessoa1['Idade'] = 33"
   ]
  },
  {
   "cell_type": "code",
   "execution_count": 4,
   "id": "e0713955-a207-45a1-b8c0-6ed7559fd69c",
   "metadata": {},
   "outputs": [
    {
     "data": {
      "text/plain": [
       "{'Nome': 'Ford Perfect',\n",
       " 'Genero': 'Homem',\n",
       " 'Profissao': 'Pesquisados',\n",
       " 'Planeta de Origem': 'Betelgeuse Sete',\n",
       " 'Idade': 33}"
      ]
     },
     "execution_count": 4,
     "metadata": {},
     "output_type": "execute_result"
    }
   ],
   "source": [
    "pessoa1"
   ]
  },
  {
   "cell_type": "code",
   "execution_count": 5,
   "id": "e9282d2f-2f5e-48a1-95e9-b816cd93950b",
   "metadata": {},
   "outputs": [
    {
     "name": "stdin",
     "output_type": "stream",
     "text": [
      "Escreva uma palavra para pesquisar as vogais:  Genocida\n"
     ]
    },
    {
     "name": "stdout",
     "output_type": "stream",
     "text": [
      "e\n",
      "o\n",
      "i\n",
      "a\n"
     ]
    }
   ],
   "source": [
    "vogais = ['a', 'e', 'i', 'o', 'u']\n",
    "palavra = input(\"Escreva uma palavra para pesquisar as vogais: \")\n",
    "procura = []\n",
    "for letra in palavra:\n",
    "    if letra in vogais:\n",
    "        if letra not in procura:\n",
    "            procura.append(letra)\n",
    "for vogal in procura:\n",
    "    print(vogal)"
   ]
  },
  {
   "cell_type": "markdown",
   "id": "f6684f8a-1f44-484c-afc5-ee1684d7b390",
   "metadata": {},
   "source": [
    "Utilizando a estrutura de dados de contgem de frequência."
   ]
  },
  {
   "cell_type": "code",
   "execution_count": 6,
   "id": "c7b476b4-524d-4e2e-bb7b-c80e28c83758",
   "metadata": {},
   "outputs": [
    {
     "data": {
      "text/plain": [
       "{}"
      ]
     },
     "execution_count": 6,
     "metadata": {},
     "output_type": "execute_result"
    }
   ],
   "source": [
    "acha = {}\n",
    "acha"
   ]
  },
  {
   "cell_type": "code",
   "execution_count": 7,
   "id": "bca47f4d-fd9d-4af2-a7b4-b6b99c5b424c",
   "metadata": {},
   "outputs": [
    {
     "data": {
      "text/plain": [
       "{'a': 0, 'e': 0, 'i': 0, 'o': 0, 'u': 0}"
      ]
     },
     "execution_count": 7,
     "metadata": {},
     "output_type": "execute_result"
    }
   ],
   "source": [
    "acha['a'] = 0\n",
    "acha['e'] = 0\n",
    "acha['i'] = 0\n",
    "acha['o'] = 0\n",
    "acha['u'] = 0\n",
    "acha"
   ]
  },
  {
   "cell_type": "markdown",
   "id": "6aa2e667-f5bc-4bed-add8-8add7ec8184b",
   "metadata": {},
   "source": [
    "Podemos incrementar uma unidade em uma das vogais, através:"
   ]
  },
  {
   "cell_type": "code",
   "execution_count": 8,
   "id": "f3f64dc7-cbd3-49b7-8db3-e88f8d975f8d",
   "metadata": {},
   "outputs": [],
   "source": [
    "acha['e'] = acha['e'] + 1"
   ]
  },
  {
   "cell_type": "code",
   "execution_count": 9,
   "id": "024a07fc-74e8-401e-aacb-8466671e7030",
   "metadata": {},
   "outputs": [
    {
     "data": {
      "text/plain": [
       "{'a': 0, 'e': 1, 'i': 0, 'o': 0, 'u': 0}"
      ]
     },
     "execution_count": 9,
     "metadata": {},
     "output_type": "execute_result"
    }
   ],
   "source": [
    "acha"
   ]
  },
  {
   "cell_type": "markdown",
   "id": "39736206-f724-452e-abb1-d90387572c9c",
   "metadata": {},
   "source": [
    "Também é possível realizar através do operador `+=`"
   ]
  },
  {
   "cell_type": "code",
   "execution_count": 10,
   "id": "86e26cb3-79e0-408b-af51-26355aaee5ff",
   "metadata": {},
   "outputs": [
    {
     "data": {
      "text/plain": [
       "{'a': 0, 'e': 2, 'i': 0, 'o': 0, 'u': 0}"
      ]
     },
     "execution_count": 10,
     "metadata": {},
     "output_type": "execute_result"
    }
   ],
   "source": [
    "acha['e'] += 1\n",
    "acha"
   ]
  },
  {
   "cell_type": "markdown",
   "id": "b8088cc9-ef8f-48e8-ad5f-ee7ba9f8191d",
   "metadata": {},
   "source": [
    "## Iterando um Dicionário"
   ]
  },
  {
   "cell_type": "code",
   "execution_count": 12,
   "id": "d99e8f0e-5f0e-4afe-8ab0-a9ac9f9e2fa7",
   "metadata": {},
   "outputs": [
    {
     "name": "stdout",
     "output_type": "stream",
     "text": [
      "a\n",
      "e\n",
      "i\n",
      "o\n",
      "u\n"
     ]
    }
   ],
   "source": [
    "for cv in acha:\n",
    "    print(cv)"
   ]
  },
  {
   "cell_type": "markdown",
   "id": "75608542-d41f-437b-b5bd-f4462e7b3c38",
   "metadata": {},
   "source": [
    "A iteração sob um dicionário retorna apenas a chave, podemos utilizar a notação de colchetes para iterar sob as chaves e os valores."
   ]
  },
  {
   "cell_type": "code",
   "execution_count": 13,
   "id": "cfbcd2fc-2671-4b7b-b2ae-86b0607361bd",
   "metadata": {},
   "outputs": [
    {
     "name": "stdout",
     "output_type": "stream",
     "text": [
      "a  foi encontrado 0  vezes.\n",
      "e  foi encontrado 2  vezes.\n",
      "i  foi encontrado 0  vezes.\n",
      "o  foi encontrado 0  vezes.\n",
      "u  foi encontrado 0  vezes.\n"
     ]
    }
   ],
   "source": [
    "for c in acha:\n",
    "    print(c, ' foi encontrado', acha[c], ' vezes.')"
   ]
  },
  {
   "cell_type": "markdown",
   "id": "aba812a6-3a90-42c6-8a43-581fbca5e032",
   "metadata": {},
   "source": [
    "No nosso exemplo a ordem dos pares **chave/valor** foram respeitados, porém muitas dependendo de onde são executados os códigos, esses elementos podem desrespeitar a ordem. Isso se dá pois os dicionários são estruturas de dados desordenadas, ou seja, não possuem uma ordem fixa, já que não faz diferença uma vez que o acesso aos valores é feito através das chaves, diferentemente da lista que é necessário uma ordem fixa, já que o acesso é feito através dos indices. \n",
    "\n",
    "Caso a ordem de apresentação das chaves seja importante, podemos utilizar a função `sorted()` "
   ]
  },
  {
   "cell_type": "code",
   "execution_count": 14,
   "id": "6c2df0ac-eabb-40e9-9912-ffdf511fb790",
   "metadata": {},
   "outputs": [
    {
     "name": "stdout",
     "output_type": "stream",
     "text": [
      "a  foi encontrado 0  vezes.\n",
      "e  foi encontrado 2  vezes.\n",
      "i  foi encontrado 0  vezes.\n",
      "o  foi encontrado 0  vezes.\n",
      "u  foi encontrado 0  vezes.\n"
     ]
    }
   ],
   "source": [
    "for c in sorted(acha):\n",
    "    print(c, ' foi encontrado', acha[c], ' vezes.')"
   ]
  },
  {
   "cell_type": "markdown",
   "id": "e6a769d6-321c-4b76-8a71-07a1914d95f4",
   "metadata": {},
   "source": [
    "A função `sorted()` não muda a ordem dos dados fornecidos, só retorna uma cópia ordenada dos dados."
   ]
  },
  {
   "cell_type": "code",
   "execution_count": 16,
   "id": "16814aed-79c1-46eb-b47a-76879d8f05da",
   "metadata": {},
   "outputs": [
    {
     "name": "stdout",
     "output_type": "stream",
     "text": [
      "a foi encontrado 0 vezes\n",
      "e foi encontrado 2 vezes\n",
      "i foi encontrado 0 vezes\n",
      "o foi encontrado 0 vezes\n",
      "u foi encontrado 0 vezes\n"
     ]
    }
   ],
   "source": [
    "for c, v in sorted(acha.items()):\n",
    "    print(c, 'foi encontrado', v, 'vezes')"
   ]
  },
  {
   "cell_type": "markdown",
   "id": "8e73cef6-52fd-4d21-820a-3414132c0186",
   "metadata": {},
   "source": [
    "Refatorando o código para encontrar vogais, realizando uma contagem de frequencia em um dicionário"
   ]
  },
  {
   "cell_type": "code",
   "execution_count": 19,
   "id": "3f69b48a-e6fb-4c30-91ae-0d8bb941da03",
   "metadata": {},
   "outputs": [
    {
     "name": "stdin",
     "output_type": "stream",
     "text": [
      "Digite uma palavra para ser encontrada as vogais:  genocida\n"
     ]
    },
    {
     "name": "stdout",
     "output_type": "stream",
     "text": [
      "a foi encontrado 1 vezes\n",
      "e foi encontrado 1 vezes\n",
      "i foi encontrado 1 vezes\n",
      "o foi encontrado 1 vezes\n",
      "u foi encontrado 0 vezes\n"
     ]
    }
   ],
   "source": [
    "vogais = ['a', 'e', 'i', 'o', 'u']\n",
    "palavra = input(\"Digite uma palavra para ser encontrada as vogais: \")\n",
    "acha = {'a': 0, 'e': 0, 'i': 0, 'o': 0, 'u': 0}\n",
    "for letra in palavra:\n",
    "    if letra in vogais:\n",
    "        acha[letra] += 1\n",
    "for c, v in sorted(acha.items()):\n",
    "    print(c, 'foi encontrado', v, 'vezes')"
   ]
  },
  {
   "cell_type": "code",
   "execution_count": null,
   "id": "4ced1cad-fc36-4051-95e9-5c9181937088",
   "metadata": {},
   "outputs": [],
   "source": []
  }
 ],
 "metadata": {
  "kernelspec": {
   "display_name": "Python 3",
   "language": "python",
   "name": "python3"
  },
  "language_info": {
   "codemirror_mode": {
    "name": "ipython",
    "version": 3
   },
   "file_extension": ".py",
   "mimetype": "text/x-python",
   "name": "python",
   "nbconvert_exporter": "python",
   "pygments_lexer": "ipython3",
   "version": "3.8.8"
  }
 },
 "nbformat": 4,
 "nbformat_minor": 5
}
