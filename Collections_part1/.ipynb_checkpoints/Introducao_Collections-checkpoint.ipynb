{
 "cells": [
  {
   "cell_type": "markdown",
   "id": "710a846e-1799-40eb-9bdb-6a60c3f5c5df",
   "metadata": {},
   "source": [
    "# Introdução"
   ]
  },
  {
   "cell_type": "markdown",
   "id": "21321533",
   "metadata": {},
   "source": [
    "A idéia das coleções é que tenhamos mais de um elemento, suponhamos que temos um sistema que receba a idade dos usuários\n",
    "a cada nova entrada de idade, precisariamos criar uma nova variável para receber essa nova idade"
   ]
  },
  {
   "cell_type": "code",
   "execution_count": 46,
   "id": "92d8bf1a",
   "metadata": {},
   "outputs": [
    {
     "name": "stdout",
     "output_type": "stream",
     "text": [
      "32\n",
      "30\n",
      "45\n",
      "18\n"
     ]
    }
   ],
   "source": [
    "idade1 = 32\n",
    "idade2 = 30\n",
    "idade3 = 45\n",
    "idade4 = 18\n",
    "\n",
    "print(idade1)\n",
    "print(idade2)\n",
    "print(idade3)\n",
    "print(idade4)"
   ]
  },
  {
   "cell_type": "markdown",
   "id": "3840edc0",
   "metadata": {},
   "source": [
    "Para casos como esse existem as **listas** (*list*) onde podemos inserir os valores entre colchetes. É comum e uma boa prática **trabalharmos com listas que contenham valores do mesmo TIPO**, isso quer dizer somente números inteiros ou somente *strings* por exemplo."
   ]
  },
  {
   "cell_type": "code",
   "execution_count": 47,
   "id": "b11cbe0c",
   "metadata": {},
   "outputs": [],
   "source": [
    "idades = [32, 30, 45, 18]"
   ]
  },
  {
   "cell_type": "markdown",
   "id": "2b182205",
   "metadata": {},
   "source": [
    "As listas são a implementação de uma \"ideia\" para uma sequencia de acesso aleatório onde podemos solicitar o acesso ao elemento da segunda posição ou da quarta por exemplo, as listas em python podem ser comumente comparadas as *arrays* em outras linguagens, porém no python listas e arrays são coisas distintas."
   ]
  },
  {
   "cell_type": "markdown",
   "id": "bde71b25",
   "metadata": {},
   "source": [
    "Existem diversos métodos que podem ser utilizados com e para a lista. Um deles é o `len()`"
   ]
  },
  {
   "cell_type": "code",
   "execution_count": 48,
   "id": "d701cca8",
   "metadata": {},
   "outputs": [
    {
     "data": {
      "text/plain": [
       "4"
      ]
     },
     "execution_count": 48,
     "metadata": {},
     "output_type": "execute_result"
    }
   ],
   "source": [
    "len(idades)"
   ]
  },
  {
   "cell_type": "markdown",
   "id": "4f152fc6",
   "metadata": {},
   "source": [
    "Como dito anteriormente podemos também consultar elementos específicos dentro das listas baseando em suas posições, lembrando que em python **a contagem começa sempre a partir de 0** então para encontrar o primeiro elemento pedimos a posição 0"
   ]
  },
  {
   "cell_type": "code",
   "execution_count": 49,
   "id": "8a6f0834",
   "metadata": {},
   "outputs": [
    {
     "data": {
      "text/plain": [
       "32"
      ]
     },
     "execution_count": 49,
     "metadata": {},
     "output_type": "execute_result"
    }
   ],
   "source": [
    "idades[0]"
   ]
  },
  {
   "cell_type": "markdown",
   "id": "219075d3-c0ca-4fec-b0f5-ada66bd59e55",
   "metadata": {},
   "source": [
    "A **notação de colchetes**, que usamos para acessar os elementos da lista através do indice, da esquerda para direita, utilizando números inteiros positivos também aceita números inteiro negativos para acesso da direita para a esquerda, ou seja, do último para o primeiro."
   ]
  },
  {
   "cell_type": "code",
   "execution_count": 50,
   "id": "f4893a65-b67e-402d-b313-c7fcedf5f06a",
   "metadata": {},
   "outputs": [
    {
     "data": {
      "text/plain": [
       "18"
      ]
     },
     "execution_count": 50,
     "metadata": {},
     "output_type": "execute_result"
    }
   ],
   "source": [
    "idades[-1]"
   ]
  },
  {
   "cell_type": "markdown",
   "id": "64445369-69fe-46b5-9f72-7deb90ae47c7",
   "metadata": {},
   "source": [
    "A notação de colchetes também permite acessar mais de um elemento de uma lista ao mesmo tempo, bem como uma regra de acesso por exemplo acessar só o valor a cada 2 indices. Para isso a sintaxe é `idades[start:stop:step]` sendo start o indice onde tanto começa a busca, tanto quanto o primeiro acessado, stop é o último indice, até onde será acessado, o valor do indice stop é excludente, portanto o valor ali informado não contará no acesso, step já é a forma que será acessado, por padrão a linguagem já estabelece 1, ou seja elemento por elemento, mas esse argumento também aceita outros números inteiros e também negativos. "
   ]
  },
  {
   "cell_type": "code",
   "execution_count": 51,
   "id": "a9e19943-c28e-4c62-abce-378cbad39b1b",
   "metadata": {},
   "outputs": [
    {
     "data": {
      "text/plain": [
       "[18, 45]"
      ]
     },
     "execution_count": 51,
     "metadata": {},
     "output_type": "execute_result"
    }
   ],
   "source": [
    "idades[4:1:-1]"
   ]
  },
  {
   "cell_type": "markdown",
   "id": "5341549d-ce62-46a6-817a-620cb401fbcf",
   "metadata": {},
   "source": [
    "Essas funcionalidades também chamada de *slice* (fatiamento), permite acessar elementos, como dito anteriormente, a partir de determinado indice."
   ]
  },
  {
   "cell_type": "markdown",
   "id": "ce916c6b-916a-4242-8e3e-c55a58be0f23",
   "metadata": {},
   "source": [
    "O exemplo abaixo acessa os elementos do ínicio até o elemento 1, apesar de ter sido informado o 2, o último indice é excludente."
   ]
  },
  {
   "cell_type": "code",
   "execution_count": 52,
   "id": "d6a8573b-35d1-4791-af84-7cdad2ec3273",
   "metadata": {},
   "outputs": [
    {
     "data": {
      "text/plain": [
       "[32, 30]"
      ]
     },
     "execution_count": 52,
     "metadata": {},
     "output_type": "execute_result"
    }
   ],
   "source": [
    "idades[:2] "
   ]
  },
  {
   "cell_type": "markdown",
   "id": "fd70a5c5-2245-498a-a88e-655f1e7e06bc",
   "metadata": {},
   "source": [
    "Já no exemplo abaixo, o acesso é a partir do indice dois até o final. "
   ]
  },
  {
   "cell_type": "code",
   "execution_count": 53,
   "id": "84a64054-7831-49ea-81c1-71e18efa6248",
   "metadata": {},
   "outputs": [
    {
     "data": {
      "text/plain": [
       "[45, 18]"
      ]
     },
     "execution_count": 53,
     "metadata": {},
     "output_type": "execute_result"
    }
   ],
   "source": [
    "idades[2:]"
   ]
  },
  {
   "cell_type": "markdown",
   "id": "e0c474be-b79c-4f0b-916a-5be9f82bf948",
   "metadata": {},
   "source": [
    "Perceba que em ambos os exemplos, um valor de indice foi omitido, bem como o *step*, como padrão o python. Na linha 7, o valor omitido antes dos dois pontos, implicitamente o python entende que desejamos acessar desde o ínicio. Já no exemplo da linha 8 a linguagem entende que desejamos acessar os elementos do indice 2 até o último."
   ]
  },
  {
   "cell_type": "markdown",
   "id": "6225b5cc",
   "metadata": {},
   "source": [
    "As listas são dinamicas, podendo aumentar ou diminuir sob demanda. Isso quer dizer que podemos acrescentar elementos\n",
    "a uma lista pré-existente ou remover. Como dito anteriormente as listas possuem diversos métodos pré definidos que podem\n",
    "ser utilizados para manipular os elementos. Para \"chamar\" um método utilizamos a **notação de ponto**, um exemplo é o \n",
    "`append()` que acrescenta um novo elemento **sempre ao final da lista**."
   ]
  },
  {
   "cell_type": "code",
   "execution_count": 54,
   "id": "4aca806b",
   "metadata": {},
   "outputs": [
    {
     "data": {
      "text/plain": [
       "[32, 30, 45, 18, 15]"
      ]
     },
     "execution_count": 54,
     "metadata": {},
     "output_type": "execute_result"
    }
   ],
   "source": [
    "idades.append(15)\n",
    "idades"
   ]
  },
  {
   "cell_type": "markdown",
   "id": "f0b6e146",
   "metadata": {},
   "source": [
    "Se tentarmos acessar agora a posição 4, teremos como resultado o valor 15. Agora e se tentarmos acessar a posição 5 por\n",
    "exemplo"
   ]
  },
  {
   "cell_type": "code",
   "execution_count": 55,
   "id": "1216c646",
   "metadata": {},
   "outputs": [
    {
     "ename": "IndexError",
     "evalue": "list index out of range",
     "output_type": "error",
     "traceback": [
      "\u001b[1;31m---------------------------------------------------------------------------\u001b[0m",
      "\u001b[1;31mIndexError\u001b[0m                                Traceback (most recent call last)",
      "\u001b[1;32m<ipython-input-55-9afc071113c0>\u001b[0m in \u001b[0;36m<module>\u001b[1;34m\u001b[0m\n\u001b[1;32m----> 1\u001b[1;33m \u001b[0midades\u001b[0m\u001b[1;33m[\u001b[0m\u001b[1;36m5\u001b[0m\u001b[1;33m]\u001b[0m\u001b[1;33m\u001b[0m\u001b[1;33m\u001b[0m\u001b[0m\n\u001b[0m",
      "\u001b[1;31mIndexError\u001b[0m: list index out of range"
     ]
    }
   ],
   "source": [
    "idades[5]"
   ]
  },
  {
   "cell_type": "markdown",
   "id": "4ac99065",
   "metadata": {},
   "source": [
    "Temos como retorno um erro de indice \"IndexError: list index out of range\""
   ]
  },
  {
   "cell_type": "markdown",
   "id": "325aab96",
   "metadata": {},
   "source": [
    "Podemos também iterar sobre os elementos da lista, utilizando o laço `for`"
   ]
  },
  {
   "cell_type": "code",
   "execution_count": null,
   "id": "b160bb38",
   "metadata": {},
   "outputs": [],
   "source": [
    "for idade in idades:\n",
    "    print(idade)"
   ]
  },
  {
   "cell_type": "markdown",
   "id": "c6239d88-5c4e-48c4-a91a-d8f617706fc4",
   "metadata": {},
   "source": [
    "Podemos também remover elementos da lista, utilizando o método remove que também é usado através da notação de ponto. Diferentemente do método append, que insere um novo elemento sempre ao final da lista, o método remove retira um elemento informado dentro dos parênteses como argumento. Caso a lista contenha mais de um elemento com mesmo valor, o \n",
    "o método remove a primeira aparição (ocorrência) do elemento, da esquerda para a direita. Caso o método não encontre o elemento passado como argumento, ele retorna um ValueError."
   ]
  },
  {
   "cell_type": "code",
   "execution_count": null,
   "id": "95836d6b-cd12-441e-ace7-cb558e883085",
   "metadata": {},
   "outputs": [],
   "source": [
    "idades.remove(15)"
   ]
  },
  {
   "cell_type": "markdown",
   "id": "ff883ad1-a86d-42ee-b07b-dd78704c1da2",
   "metadata": {},
   "source": [
    "Conferindo novamente os elementos"
   ]
  },
  {
   "cell_type": "code",
   "execution_count": null,
   "id": "1e5399be-bf0f-4a71-9abd-8359b5e98bc7",
   "metadata": {},
   "outputs": [],
   "source": [
    "idades"
   ]
  },
  {
   "cell_type": "markdown",
   "id": "ec13fafd-e086-45cd-a845-0f56e7e06eb4",
   "metadata": {},
   "source": [
    "Para remover todos os elementos da lista de uma só vez, podemos utilizar o método `clear()` que limpa toda a lista, removendo todos os elementos de uma só vez. Esse método não recebe nenhum argumento. Ao chamar novamente a variável contendo a lista recebemos como resultado [] que representa uma lista vazia."
   ]
  },
  {
   "cell_type": "markdown",
   "id": "437b68d9-e11c-4a80-b413-1e59f0a13c29",
   "metadata": {},
   "source": [
    "O método pop também é usado para remover elementos de uma lista, a diferença é que o argumento que ele recebe é o indice do elemento que deseja remover. Portanto em casos que não se sabe o valor do elemento que deseja ser removido, podemos utilizar o pop para remover pelo indice. Um detalhe é que quando nenhum argumento é passado, o método remove o último elemento da lista.\n",
    "\n",
    "Se a lista em questão estiver vázia, ou o índice passado não existir o método pop retornará um erro."
   ]
  },
  {
   "cell_type": "code",
   "execution_count": null,
   "id": "5b355604-fe19-48d8-8007-54362d735030",
   "metadata": {},
   "outputs": [],
   "source": [
    "idades.pop(1)"
   ]
  },
  {
   "cell_type": "markdown",
   "id": "4a2462b5-3df8-4893-badc-42d2595b0d92",
   "metadata": {},
   "source": [
    "O valor retornado pelo método pop pode ser atribuido a uma nova variável."
   ]
  },
  {
   "cell_type": "code",
   "execution_count": null,
   "id": "0386d785-3955-4540-a873-1a4d01319ed3",
   "metadata": {},
   "outputs": [],
   "source": [
    "idade = idades.pop(1)"
   ]
  },
  {
   "cell_type": "code",
   "execution_count": null,
   "id": "987e7b4a-fac8-42d4-b8b5-a0f25d67523b",
   "metadata": {},
   "outputs": [],
   "source": [
    "idade"
   ]
  },
  {
   "cell_type": "code",
   "execution_count": null,
   "id": "266b1d4b-12ea-4938-aa96-c16a2269810c",
   "metadata": {},
   "outputs": [],
   "source": [
    "idades.clear()"
   ]
  },
  {
   "cell_type": "code",
   "execution_count": null,
   "id": "e27292be-7133-4dba-970f-f91a607a37ad",
   "metadata": {},
   "outputs": [],
   "source": [
    "idades"
   ]
  },
  {
   "cell_type": "markdown",
   "id": "eef2b4ab-f9df-405f-8527-3af92b699fa4",
   "metadata": {},
   "source": [
    "Podemos verificar uma associação, isso quer dizer se um elemento está na nossa lista, para isso vamos acrescentar novamente um novo elemento utilizando o método append, e posteriormente utilizaremos o operador in para ver se o elemento está contido na nossa coleção."
   ]
  },
  {
   "cell_type": "code",
   "execution_count": 56,
   "id": "acb55447-3e6c-4f6d-9055-44a0c54f90a5",
   "metadata": {},
   "outputs": [],
   "source": [
    "idades.append(32)"
   ]
  },
  {
   "cell_type": "code",
   "execution_count": 57,
   "id": "e940ff43-0b5a-47da-975c-316f381396b4",
   "metadata": {},
   "outputs": [
    {
     "data": {
      "text/plain": [
       "True"
      ]
     },
     "execution_count": 57,
     "metadata": {},
     "output_type": "execute_result"
    }
   ],
   "source": [
    "32 in idades"
   ]
  },
  {
   "cell_type": "markdown",
   "id": "bacf9a88-1e50-40a4-be9e-498ae3822a7a",
   "metadata": {},
   "source": [
    "Da mesma forma podemos verificar se um valor NÃO está na lista, para isso basta adicionar o operador de negação not"
   ]
  },
  {
   "cell_type": "code",
   "execution_count": 58,
   "id": "d91f4f83-491b-4838-92f1-cf9eb1f4eced",
   "metadata": {},
   "outputs": [
    {
     "data": {
      "text/plain": [
       "False"
      ]
     },
     "execution_count": 58,
     "metadata": {},
     "output_type": "execute_result"
    }
   ],
   "source": [
    "45 not in idades"
   ]
  },
  {
   "cell_type": "markdown",
   "id": "7a5f0618-8bb7-4bdc-a21a-1c5188ceb843",
   "metadata": {},
   "source": [
    "Se a condição representada pelo operador in for verdadeira ela retorna como resultado o valor True, caso contrário retorna False. Isso pode ser utilizado para tomada de decisões no código por exemplo."
   ]
  },
  {
   "cell_type": "markdown",
   "id": "6272b704-2d96-4801-ae9e-2e374c4c87f4",
   "metadata": {},
   "source": [
    "Se quisermos adicionar um elemento em uma posição específica da nossa lista temos o método `.insert(i, x)` que recebes dois argumentos, o primeiro, i referece a posição (indice) em que queremos adicionar o novo elemento que é representado aqui por x, os dois separados por vírgula."
   ]
  },
  {
   "cell_type": "code",
   "execution_count": 59,
   "id": "7ada1730-4327-4abd-8a3c-20f2db801719",
   "metadata": {},
   "outputs": [
    {
     "data": {
      "text/plain": [
       "[45, 32, 30, 45, 18, 15, 32]"
      ]
     },
     "execution_count": 59,
     "metadata": {},
     "output_type": "execute_result"
    }
   ],
   "source": [
    "idades.insert(0, 45)\n",
    "idades"
   ]
  },
  {
   "cell_type": "markdown",
   "id": "277f6987-0cb8-475e-ba65-d178eda23fc6",
   "metadata": {},
   "source": [
    "Se quisessemos adicionar mais de um elemento dentro da nossa lista, precisariamos utilizar um novo método que possa receber, por exemplo uma outra lista e adicionar elemento por elemento. O método append não realiza essa tarefa, primeiro que ele recebe apenas um argumento. Poderiamos passar uma lista por ele, porém o que ele faria seria adicionar a LISTA ao final, teriamos então uma lista aninhada. Portanto a melhor forma de se realizar essa tarefa será utilizando o método `.extend()` que recebe como argumento um iterável, iteráveis são todos os objetos que podemos passar elemento por elemento, como é o caso da lista que podemos acessar, item por item utilizando, por exemplo o `for`"
   ]
  },
  {
   "cell_type": "code",
   "execution_count": 60,
   "id": "2427376d-d97a-4390-8fc3-ac45a35952c6",
   "metadata": {},
   "outputs": [
    {
     "data": {
      "text/plain": [
       "[45, 32, 30, 45, 18, 15, 37, 28, 22]"
      ]
     },
     "execution_count": 60,
     "metadata": {},
     "output_type": "execute_result"
    }
   ],
   "source": [
    "idades = [45, 32, 30, 45, 18, 15]\n",
    "idades.extend([37, 28, 22])\n",
    "idades"
   ]
  },
  {
   "cell_type": "markdown",
   "id": "5e2f3a5d-0f1f-4422-ab84-456d558761a1",
   "metadata": {},
   "source": [
    "Podemos realizar operações com cada elemento e posteriormente adicionarmos e uma nova lista, por exemplo suponhamos que queremos adicionar 1 em cada item da lista original, podemos criar um laço for que **passará por cada elemento adicionando 1**:"
   ]
  },
  {
   "cell_type": "code",
   "execution_count": 61,
   "id": "ab77a3e8-6e98-483e-9f95-ad0c506db7d8",
   "metadata": {},
   "outputs": [
    {
     "name": "stdout",
     "output_type": "stream",
     "text": [
      "[46, 33, 31, 46, 19, 16, 38, 29, 23]\n"
     ]
    }
   ],
   "source": [
    "idades_mais_um = []\n",
    "for idade in idades:\n",
    "    idades_mais_um.append(idade + 1)\n",
    "print(idades_mais_um)"
   ]
  },
  {
   "cell_type": "markdown",
   "id": "3b24146b-dd55-4208-a606-bcef97c3ed8b",
   "metadata": {},
   "source": [
    "O python possui uma forma mais simplificada que podemos realizar essa mesma operação, seguindo o mesmo raciocínio \n",
    ">crie uma lista e atribua a variável idade_mais_um a o somatório 1 para cada elemento na lista \n",
    "`idade_mais_um = [(idade + 1) for idade in idades]`"
   ]
  },
  {
   "cell_type": "code",
   "execution_count": 62,
   "id": "080460cc-16ac-464a-ae31-cb744c27bc23",
   "metadata": {},
   "outputs": [],
   "source": [
    "idades_mais_um = [idade + 1 for idade in idades]"
   ]
  },
  {
   "cell_type": "code",
   "execution_count": 63,
   "id": "44881a8f-b425-4e3d-9be1-28df8a0b5a31",
   "metadata": {},
   "outputs": [
    {
     "data": {
      "text/plain": [
       "[46, 33, 31, 46, 19, 16, 38, 29, 23]"
      ]
     },
     "execution_count": 63,
     "metadata": {},
     "output_type": "execute_result"
    }
   ],
   "source": [
    "idades_mais_um"
   ]
  },
  {
   "cell_type": "markdown",
   "id": "c265e83f-cad9-478e-a478-122f5d2371fc",
   "metadata": {},
   "source": [
    "Podemos realizar outras funções combinando expreções condicionais e laços de repetição por exemplo\n",
    "> Crie uma lista e atribua a uma variável idades_maior para cada elemento da lista os maiores que 21"
   ]
  },
  {
   "cell_type": "code",
   "execution_count": 64,
   "id": "7f6923fc-bfbf-40d0-9018-52f714a48447",
   "metadata": {},
   "outputs": [
    {
     "data": {
      "text/plain": [
       "[45, 32, 30, 45, 37, 28, 22]"
      ]
     },
     "execution_count": 64,
     "metadata": {},
     "output_type": "execute_result"
    }
   ],
   "source": [
    "idade_maior = [idade for idade in idades if idade > 21]\n",
    "idade_maior"
   ]
  },
  {
   "cell_type": "code",
   "execution_count": 65,
   "id": "b685e316-4630-44ca-98ac-98f78fc93a05",
   "metadata": {},
   "outputs": [
    {
     "data": {
      "text/plain": [
       "[46, 33, 31, 46, 38, 29, 23]"
      ]
     },
     "execution_count": 65,
     "metadata": {},
     "output_type": "execute_result"
    }
   ],
   "source": [
    "def proximo_ano(idade):\n",
    "  return idade+1\n",
    "\n",
    "[proximo_ano(idade) for idade in idades if idade > 21]"
   ]
  },
  {
   "cell_type": "code",
   "execution_count": 66,
   "id": "6946734f-378e-4d76-b59e-0e3e95d5db4f",
   "metadata": {},
   "outputs": [],
   "source": [
    "def faz_processamento_de_visualizacao(lista = None):\n",
    "  if lista == None:\n",
    "    lista = list()\n",
    "  print(len(lista))\n",
    "  print(lista)\n",
    "  lista.append(13)"
   ]
  },
  {
   "cell_type": "code",
   "execution_count": 67,
   "id": "8d3320a3-b733-4f0b-af88-45bfd1b6ce22",
   "metadata": {},
   "outputs": [
    {
     "name": "stdout",
     "output_type": "stream",
     "text": [
      "0\n",
      "[]\n",
      "0\n",
      "[]\n",
      "0\n",
      "[]\n",
      "0\n",
      "[]\n"
     ]
    }
   ],
   "source": [
    "faz_processamento_de_visualizacao()\n",
    "faz_processamento_de_visualizacao()\n",
    "faz_processamento_de_visualizacao()\n",
    "faz_processamento_de_visualizacao()"
   ]
  },
  {
   "cell_type": "markdown",
   "id": "967ce462-ee7d-4df3-ac50-b79308abd656",
   "metadata": {},
   "source": [
    "#  Listas com objetos de classes nossas"
   ]
  },
  {
   "cell_type": "markdown",
   "id": "825cc9f0-3b74-4c78-bb2c-3ed64b41576e",
   "metadata": {},
   "source": [
    "Trabalhando com listas contendo objetos que nós mesmos construimos através das classes."
   ]
  },
  {
   "cell_type": "markdown",
   "id": "6ee690a4-1aca-461a-ae21-02a3d4947c56",
   "metadata": {},
   "source": [
    "Criamos uma classe que recebe um código que será o código da conta e também inicializa com saldo 0, além disso criamos um método para adicionar valor ao saldo e por fim um outro método para trazer uma representação em string da conta com o código e o saldo."
   ]
  },
  {
   "cell_type": "code",
   "execution_count": 68,
   "id": "0eb94780-b848-40ec-8f5c-d48ed2892117",
   "metadata": {},
   "outputs": [],
   "source": [
    "class ContaCorrente:\n",
    "\n",
    "    def __init__(self, codigo):\n",
    "        self.codigo = codigo\n",
    "        self.saldo = 0\n",
    "        \n",
    "    def deposita(self, valor):\n",
    "        self.saldo += valor\n",
    "    \n",
    "    def __str__(self):\n",
    "        return \"[>>Código {} Saldo {}<<]\".format(self.codigo, self.saldo)"
   ]
  },
  {
   "cell_type": "markdown",
   "id": "8ea61016-5a47-42c7-8a7a-74ffe871c61f",
   "metadata": {},
   "source": [
    "Agora criamos um objeto ContaCorrente atribuindo a variável conta_bruno com código 123"
   ]
  },
  {
   "cell_type": "code",
   "execution_count": 69,
   "id": "34dc0783-aba3-4ade-9c72-414f56fec6d9",
   "metadata": {},
   "outputs": [
    {
     "name": "stdout",
     "output_type": "stream",
     "text": [
      "[>>Código 123 Saldo 0<<]\n"
     ]
    }
   ],
   "source": [
    "conta_bruno = ContaCorrente(123)\n",
    "print(conta_bruno)"
   ]
  },
  {
   "cell_type": "markdown",
   "id": "abdeea9b-e128-4037-9b71-50471220a3b6",
   "metadata": {},
   "source": [
    "Vamos adicionar um saldo de 500 para a conta"
   ]
  },
  {
   "cell_type": "code",
   "execution_count": 70,
   "id": "8589de6b-1935-4f58-a75b-69e137d64357",
   "metadata": {},
   "outputs": [
    {
     "name": "stdout",
     "output_type": "stream",
     "text": [
      "[>>Código 123 Saldo 500<<]\n"
     ]
    }
   ],
   "source": [
    "conta_bruno.deposita(500)\n",
    "print(conta_bruno)"
   ]
  },
  {
   "cell_type": "markdown",
   "id": "84964a00-fb40-4da2-8530-c66dc40cd1d7",
   "metadata": {},
   "source": [
    "Vamos criar uma segunda conta que recebe um número de código e um saldo de 1000."
   ]
  },
  {
   "cell_type": "code",
   "execution_count": 71,
   "id": "d80fe271-9174-4300-bae0-990439474297",
   "metadata": {},
   "outputs": [
    {
     "name": "stdout",
     "output_type": "stream",
     "text": [
      "[>>Código 47685 Saldo 1000<<]\n"
     ]
    }
   ],
   "source": [
    "conta_da_dani = ContaCorrente(47685)\n",
    "conta_da_dani.deposita(1000)\n",
    "print(conta_da_dani)"
   ]
  },
  {
   "cell_type": "markdown",
   "id": "81473f07-389e-44fa-885e-8b05e991f4f2",
   "metadata": {},
   "source": [
    "Com as duas contas criadas queremos agora trabalhar com as representações em string, por exemplo [>>Código 123 Saldo 500<<], das contas em uma lista."
   ]
  },
  {
   "cell_type": "code",
   "execution_count": 72,
   "id": "8bf97191-01bd-43ad-81ae-8e83d884f7f2",
   "metadata": {},
   "outputs": [
    {
     "name": "stdout",
     "output_type": "stream",
     "text": [
      "[<__main__.ContaCorrente object at 0x0000023D1B179A30>, <__main__.ContaCorrente object at 0x0000023D1B217730>]\n"
     ]
    }
   ],
   "source": [
    "contas = [conta_bruno, conta_da_dani]\n",
    "print(contas)"
   ]
  },
  {
   "cell_type": "markdown",
   "id": "cc32683d-bb54-4fe0-8ca6-b85ce010512c",
   "metadata": {},
   "source": [
    "Perceba que funciona, recebemos os endereços de memória dos objetos, mas queriamos mesmo era as representações em string [>>Código 123 Saldo 500<<] das contas."
   ]
  },
  {
   "cell_type": "markdown",
   "id": "59190b3f-6e3f-456b-88b4-e53425f77981",
   "metadata": {},
   "source": [
    "Podemos fazer um laço for para iterar os objetos da lista"
   ]
  },
  {
   "cell_type": "code",
   "execution_count": 73,
   "id": "5a5c29e5-2301-492c-9790-5c2739b30149",
   "metadata": {},
   "outputs": [
    {
     "name": "stdout",
     "output_type": "stream",
     "text": [
      "[>>Código 123 Saldo 500<<]\n",
      "[>>Código 47685 Saldo 1000<<]\n"
     ]
    }
   ],
   "source": [
    "for conta in contas:\n",
    "    print(conta)"
   ]
  },
  {
   "cell_type": "markdown",
   "id": "4b740979-b3f7-4d53-94e7-edd0120f93a3",
   "metadata": {},
   "source": [
    "Isso nos mostra uma lista contendo objetos funcionam normalmente."
   ]
  },
  {
   "cell_type": "markdown",
   "id": "b5bababf-27d4-4429-8c70-86b5fddc42af",
   "metadata": {},
   "source": [
    "A grande preocupação está na **mutabilidade** das listas. Vamos criar uma lista que recebe:"
   ]
  },
  {
   "cell_type": "code",
   "execution_count": 74,
   "id": "c685cfdf-f6fe-414b-b731-34407af58ff6",
   "metadata": {},
   "outputs": [],
   "source": [
    "contas = [conta_bruno, conta_da_dani, conta_bruno]"
   ]
  },
  {
   "cell_type": "code",
   "execution_count": 75,
   "id": "e6efd95e-8db5-4df5-a6bf-8f6fe65ac393",
   "metadata": {},
   "outputs": [
    {
     "data": {
      "text/plain": [
       "<__main__.ContaCorrente at 0x23d1b179a30>"
      ]
     },
     "execution_count": 75,
     "metadata": {},
     "output_type": "execute_result"
    }
   ],
   "source": [
    "contas[0]"
   ]
  },
  {
   "cell_type": "code",
   "execution_count": 76,
   "id": "aabe6073-5e62-41a6-873e-519a3b75547f",
   "metadata": {},
   "outputs": [
    {
     "name": "stdout",
     "output_type": "stream",
     "text": [
      "[>>Código 123 Saldo 500<<]\n"
     ]
    }
   ],
   "source": [
    "print(contas[0])"
   ]
  },
  {
   "cell_type": "markdown",
   "id": "9b65e4d6-4954-4357-8d8a-58eaf1200a1d",
   "metadata": {},
   "source": [
    "Importante ressaltar que os objetos criados possuem sua referência a memória, no momento em que eles são inseridos em uma lista, eles continuam com a mesma referência quando foram criados os objetos, mas passam a receber um novo referêncial que é o indice da lista, no exemplo acima observamos que a referência da posição 0 em contas é conta_bruno."
   ]
  },
  {
   "cell_type": "markdown",
   "id": "5b6ab521-d68b-4182-b3c4-aa444bcd8866",
   "metadata": {},
   "source": [
    "Os objetos das listas NÃO são novos objetos.\n",
    "\n",
    "Agora e o elemento na posição 2 da lista contas? Será que referencia ao mesmo endereço de memória do elemento de indice 0, já que ambos possuem o mesmo nome? Não criamos nenhum objeto novo como dito anteriormente, cada elemento da lista fazem referencias aos mesmos objetos criados anteriormente, portanto se realizarmos uma alteração no saldo de conta_bruno, esperamos que ambos elementos tanto da referencia 0 quanto da referencia 2 tenham o mesmo valor de saldo."
   ]
  },
  {
   "cell_type": "code",
   "execution_count": 77,
   "id": "9400c379-108d-41a6-9e99-ffb1ca99b2b4",
   "metadata": {},
   "outputs": [],
   "source": [
    "conta_bruno.deposita(100)"
   ]
  },
  {
   "cell_type": "code",
   "execution_count": 78,
   "id": "f1f08da0-2ac8-420f-b0d0-6e131350df55",
   "metadata": {},
   "outputs": [
    {
     "data": {
      "text/plain": [
       "<__main__.ContaCorrente at 0x23d1b179a30>"
      ]
     },
     "execution_count": 78,
     "metadata": {},
     "output_type": "execute_result"
    }
   ],
   "source": [
    "contas[0]"
   ]
  },
  {
   "cell_type": "code",
   "execution_count": 79,
   "id": "2fdabb94-17e4-46e2-af4f-32f6fe9233e3",
   "metadata": {},
   "outputs": [
    {
     "data": {
      "text/plain": [
       "<__main__.ContaCorrente at 0x23d1b179a30>"
      ]
     },
     "execution_count": 79,
     "metadata": {},
     "output_type": "execute_result"
    }
   ],
   "source": [
    "contas[2]"
   ]
  },
  {
   "cell_type": "code",
   "execution_count": 80,
   "id": "2c4059d2-bddd-4aa4-bf0e-4dda866818b4",
   "metadata": {},
   "outputs": [
    {
     "name": "stdout",
     "output_type": "stream",
     "text": [
      "[>>Código 123 Saldo 600<<]\n",
      "[>>Código 47685 Saldo 1000<<]\n",
      "[>>Código 123 Saldo 600<<]\n"
     ]
    }
   ],
   "source": [
    "for conta in contas:\n",
    "    print(conta)"
   ]
  },
  {
   "cell_type": "markdown",
   "id": "8861f563-c669-4fbe-8576-94197301da6c",
   "metadata": {},
   "source": [
    "As linhas 24 e 25 mostram que ambos elementos da lista fazem referencia ao mesmo endereço de memória do nosso objeto ContaCorrete. A linha 27 é a representação das nossas contas, observe que ambas, a de posição 0 e posição 2 possuem os mesmos valores."
   ]
  },
  {
   "cell_type": "markdown",
   "id": "f1921da4-e906-460f-b9e4-98fb4fea1747",
   "metadata": {},
   "source": [
    "O problema de termos muitas referências para um mesmo objeto e isso escalar para um número grande de objetos e consequentemente uma enorme quantidade de referências é nos perdermos. Vamos usar a referência na lista (o inice) para tentar depositar um valor a conta do Bruno da seguinte forma:"
   ]
  },
  {
   "cell_type": "code",
   "execution_count": 81,
   "id": "bcc2ac6a-7681-4a2d-984e-a66a844fff46",
   "metadata": {},
   "outputs": [],
   "source": [
    "contas[2].deposita(300)"
   ]
  },
  {
   "cell_type": "code",
   "execution_count": 82,
   "id": "928a096e-d613-4f77-bfc7-dd1670ca7a30",
   "metadata": {},
   "outputs": [
    {
     "name": "stdout",
     "output_type": "stream",
     "text": [
      "[>>Código 123 Saldo 900<<]\n"
     ]
    }
   ],
   "source": [
    "print(contas[0])"
   ]
  },
  {
   "cell_type": "markdown",
   "id": "2a12e789-b0ae-4b88-8404-a9a64c4097ca",
   "metadata": {},
   "source": [
    "Percebe que fizemos um deposito utilizando como referência o objeto na posição dois e ao chamarmos o objeto na posição 0 temos o reflexo do valor depositado. "
   ]
  },
  {
   "cell_type": "code",
   "execution_count": 83,
   "id": "fb60d12a-e739-49c2-859b-75029867dbc6",
   "metadata": {},
   "outputs": [
    {
     "name": "stdout",
     "output_type": "stream",
     "text": [
      "[>>Código 123 Saldo 900<<] [>>Código 47685 Saldo 1000<<]\n",
      "[>>Código 123 Saldo 1000<<] [>>Código 47685 Saldo 1100<<]\n"
     ]
    }
   ],
   "source": [
    "def deposita_para_todas(contas):\n",
    "  for conta in contas:\n",
    "    conta.deposita(100)\n",
    "\n",
    "contas = [conta_bruno, conta_da_dani]\n",
    "print(contas[0], contas[1])\n",
    "deposita_para_todas(contas)\n",
    "print(contas[0], contas[1])"
   ]
  },
  {
   "cell_type": "code",
   "execution_count": 84,
   "id": "b1cf8220-9cc6-4d0b-95da-ba200bb07a84",
   "metadata": {},
   "outputs": [
    {
     "name": "stdout",
     "output_type": "stream",
     "text": [
      "76 [>>Código 123 Saldo 1000<<] [>>Código 47685 Saldo 1100<<]\n"
     ]
    }
   ],
   "source": [
    "contas.insert(0,76)\n",
    "print(contas[0], contas[1], contas[2])"
   ]
  },
  {
   "cell_type": "code",
   "execution_count": 85,
   "id": "b2203563-1735-4256-a0f2-819995870786",
   "metadata": {},
   "outputs": [
    {
     "ename": "AttributeError",
     "evalue": "'int' object has no attribute 'deposita'",
     "output_type": "error",
     "traceback": [
      "\u001b[1;31m---------------------------------------------------------------------------\u001b[0m",
      "\u001b[1;31mAttributeError\u001b[0m                            Traceback (most recent call last)",
      "\u001b[1;32m<ipython-input-85-92ac4487eece>\u001b[0m in \u001b[0;36m<module>\u001b[1;34m\u001b[0m\n\u001b[1;32m----> 1\u001b[1;33m \u001b[0mdeposita_para_todas\u001b[0m\u001b[1;33m(\u001b[0m\u001b[0mcontas\u001b[0m\u001b[1;33m)\u001b[0m\u001b[1;33m\u001b[0m\u001b[1;33m\u001b[0m\u001b[0m\n\u001b[0m\u001b[0;32m      2\u001b[0m \u001b[0mprint\u001b[0m\u001b[1;33m(\u001b[0m\u001b[0mcontas\u001b[0m\u001b[1;33m[\u001b[0m\u001b[1;36m0\u001b[0m\u001b[1;33m]\u001b[0m\u001b[1;33m,\u001b[0m \u001b[0mcontas\u001b[0m\u001b[1;33m[\u001b[0m\u001b[1;36m1\u001b[0m\u001b[1;33m]\u001b[0m\u001b[1;33m,\u001b[0m \u001b[0mcontas\u001b[0m\u001b[1;33m[\u001b[0m\u001b[1;36m2\u001b[0m\u001b[1;33m]\u001b[0m\u001b[1;33m)\u001b[0m\u001b[1;33m\u001b[0m\u001b[1;33m\u001b[0m\u001b[0m\n",
      "\u001b[1;32m<ipython-input-83-87550d8f5690>\u001b[0m in \u001b[0;36mdeposita_para_todas\u001b[1;34m(contas)\u001b[0m\n\u001b[0;32m      1\u001b[0m \u001b[1;32mdef\u001b[0m \u001b[0mdeposita_para_todas\u001b[0m\u001b[1;33m(\u001b[0m\u001b[0mcontas\u001b[0m\u001b[1;33m)\u001b[0m\u001b[1;33m:\u001b[0m\u001b[1;33m\u001b[0m\u001b[1;33m\u001b[0m\u001b[0m\n\u001b[0;32m      2\u001b[0m   \u001b[1;32mfor\u001b[0m \u001b[0mconta\u001b[0m \u001b[1;32min\u001b[0m \u001b[0mcontas\u001b[0m\u001b[1;33m:\u001b[0m\u001b[1;33m\u001b[0m\u001b[1;33m\u001b[0m\u001b[0m\n\u001b[1;32m----> 3\u001b[1;33m     \u001b[0mconta\u001b[0m\u001b[1;33m.\u001b[0m\u001b[0mdeposita\u001b[0m\u001b[1;33m(\u001b[0m\u001b[1;36m100\u001b[0m\u001b[1;33m)\u001b[0m\u001b[1;33m\u001b[0m\u001b[1;33m\u001b[0m\u001b[0m\n\u001b[0m\u001b[0;32m      4\u001b[0m \u001b[1;33m\u001b[0m\u001b[0m\n\u001b[0;32m      5\u001b[0m \u001b[0mcontas\u001b[0m \u001b[1;33m=\u001b[0m \u001b[1;33m[\u001b[0m\u001b[0mconta_bruno\u001b[0m\u001b[1;33m,\u001b[0m \u001b[0mconta_da_dani\u001b[0m\u001b[1;33m]\u001b[0m\u001b[1;33m\u001b[0m\u001b[1;33m\u001b[0m\u001b[0m\n",
      "\u001b[1;31mAttributeError\u001b[0m: 'int' object has no attribute 'deposita'"
     ]
    }
   ],
   "source": [
    "deposita_para_todas(contas)\n",
    "print(contas[0], contas[1], contas[2])"
   ]
  },
  {
   "cell_type": "code",
   "execution_count": 86,
   "id": "ddc91582-97ba-410c-9b8a-35aef5c9d9cc",
   "metadata": {},
   "outputs": [],
   "source": [
    "guilherme = ('Guilherme', 37, 1981) # tupla\n",
    "daniela = ('Daniela', 31, 1987)\n",
    "# paulo = (39, 'Paulo', 1979) # ruim"
   ]
  },
  {
   "cell_type": "code",
   "execution_count": 87,
   "id": "cede5b53-90ee-4b0a-8d77-8b551b30989f",
   "metadata": {},
   "outputs": [
    {
     "ename": "AttributeError",
     "evalue": "'tuple' object has no attribute 'append'",
     "output_type": "error",
     "traceback": [
      "\u001b[1;31m---------------------------------------------------------------------------\u001b[0m",
      "\u001b[1;31mAttributeError\u001b[0m                            Traceback (most recent call last)",
      "\u001b[1;32m<ipython-input-87-b58a3f93fa55>\u001b[0m in \u001b[0;36m<module>\u001b[1;34m\u001b[0m\n\u001b[1;32m----> 1\u001b[1;33m \u001b[0mguilherme\u001b[0m\u001b[1;33m.\u001b[0m\u001b[0mappend\u001b[0m\u001b[1;33m(\u001b[0m\u001b[1;36m6754\u001b[0m\u001b[1;33m)\u001b[0m\u001b[1;33m\u001b[0m\u001b[1;33m\u001b[0m\u001b[0m\n\u001b[0m",
      "\u001b[1;31mAttributeError\u001b[0m: 'tuple' object has no attribute 'append'"
     ]
    }
   ],
   "source": [
    "guilherme.append(6754)"
   ]
  },
  {
   "cell_type": "code",
   "execution_count": 88,
   "id": "4721900f-fdb3-4e49-9123-f5966c51ca37",
   "metadata": {},
   "outputs": [
    {
     "data": {
      "text/plain": [
       "1000"
      ]
     },
     "execution_count": 88,
     "metadata": {},
     "output_type": "execute_result"
    }
   ],
   "source": [
    "conta_do_gui = (15, 1000)\n",
    "# conta_do_gui.deposita() # variação OO\n",
    "conta_do_gui[1]"
   ]
  },
  {
   "cell_type": "code",
   "execution_count": 89,
   "id": "a557de2e-b5d8-4df0-8108-107f2788d05b",
   "metadata": {},
   "outputs": [
    {
     "ename": "TypeError",
     "evalue": "'tuple' object does not support item assignment",
     "output_type": "error",
     "traceback": [
      "\u001b[1;31m---------------------------------------------------------------------------\u001b[0m",
      "\u001b[1;31mTypeError\u001b[0m                                 Traceback (most recent call last)",
      "\u001b[1;32m<ipython-input-89-b6479b2fecd6>\u001b[0m in \u001b[0;36m<module>\u001b[1;34m\u001b[0m\n\u001b[1;32m----> 1\u001b[1;33m \u001b[0mconta_do_gui\u001b[0m\u001b[1;33m[\u001b[0m\u001b[1;36m1\u001b[0m\u001b[1;33m]\u001b[0m \u001b[1;33m+=\u001b[0m \u001b[1;36m100\u001b[0m\u001b[1;33m\u001b[0m\u001b[1;33m\u001b[0m\u001b[0m\n\u001b[0m",
      "\u001b[1;31mTypeError\u001b[0m: 'tuple' object does not support item assignment"
     ]
    }
   ],
   "source": [
    "conta_do_gui[1] += 100"
   ]
  },
  {
   "cell_type": "code",
   "execution_count": 90,
   "id": "fa58b0ff-3c2a-4d10-a65b-0c48cd2cc467",
   "metadata": {},
   "outputs": [],
   "source": [
    "def deposita(conta): # variação \"funcional\"(separando o comportamento dos dados)\n",
    "  novo_saldo = conta[1] + 100\n",
    "  codigo = conta[0]\n",
    "  return (codigo, novo_saldo)"
   ]
  },
  {
   "cell_type": "code",
   "execution_count": 91,
   "id": "8a471e9a-7ded-4815-98e8-095bd375a77a",
   "metadata": {},
   "outputs": [
    {
     "data": {
      "text/plain": [
       "(15, 1100)"
      ]
     },
     "execution_count": 91,
     "metadata": {},
     "output_type": "execute_result"
    }
   ],
   "source": [
    "deposita(conta_do_gui)"
   ]
  },
  {
   "cell_type": "code",
   "execution_count": 92,
   "id": "9e078c57-498a-4869-9e8d-f45902fa5451",
   "metadata": {},
   "outputs": [
    {
     "data": {
      "text/plain": [
       "(15, 1000)"
      ]
     },
     "execution_count": 92,
     "metadata": {},
     "output_type": "execute_result"
    }
   ],
   "source": [
    "conta_do_gui"
   ]
  },
  {
   "cell_type": "code",
   "execution_count": 93,
   "id": "550ce3bc-9bc4-4534-9cea-7bf9229bf063",
   "metadata": {},
   "outputs": [
    {
     "data": {
      "text/plain": [
       "(15, 1100)"
      ]
     },
     "execution_count": 93,
     "metadata": {},
     "output_type": "execute_result"
    }
   ],
   "source": [
    "conta_do_gui = deposita(conta_do_gui)\n",
    "conta_do_gui"
   ]
  },
  {
   "cell_type": "code",
   "execution_count": 94,
   "id": "157e2ec5-d49b-4ad7-85dc-6d09b05b4b10",
   "metadata": {},
   "outputs": [
    {
     "data": {
      "text/plain": [
       "[('Guilherme', 37, 1981), ('Daniela', 31, 1987)]"
      ]
     },
     "execution_count": 94,
     "metadata": {},
     "output_type": "execute_result"
    }
   ],
   "source": [
    "usuarios = [guilherme, daniela]\n",
    "usuarios"
   ]
  },
  {
   "cell_type": "code",
   "execution_count": 95,
   "id": "100d0e9b-07c9-41a1-94df-eed9f4be42a0",
   "metadata": {},
   "outputs": [],
   "source": [
    "usuarios.append(('Paulo', 39, 1979))"
   ]
  },
  {
   "cell_type": "code",
   "execution_count": 96,
   "id": "70b55663-08bb-4887-a696-24cdaa983c13",
   "metadata": {},
   "outputs": [
    {
     "data": {
      "text/plain": [
       "[('Guilherme', 37, 1981), ('Daniela', 31, 1987), ('Paulo', 39, 1979)]"
      ]
     },
     "execution_count": 96,
     "metadata": {},
     "output_type": "execute_result"
    }
   ],
   "source": [
    "usuarios"
   ]
  },
  {
   "cell_type": "code",
   "execution_count": 97,
   "id": "6c65095e-25ba-473b-a06b-54ed5adb7ab4",
   "metadata": {},
   "outputs": [
    {
     "ename": "TypeError",
     "evalue": "'tuple' object does not support item assignment",
     "output_type": "error",
     "traceback": [
      "\u001b[1;31m---------------------------------------------------------------------------\u001b[0m",
      "\u001b[1;31mTypeError\u001b[0m                                 Traceback (most recent call last)",
      "\u001b[1;32m<ipython-input-97-dc00118821b7>\u001b[0m in \u001b[0;36m<module>\u001b[1;34m\u001b[0m\n\u001b[1;32m----> 1\u001b[1;33m \u001b[0musuarios\u001b[0m\u001b[1;33m[\u001b[0m\u001b[1;36m0\u001b[0m\u001b[1;33m]\u001b[0m\u001b[1;33m[\u001b[0m\u001b[1;36m0\u001b[0m\u001b[1;33m]\u001b[0m \u001b[1;33m=\u001b[0m \u001b[1;34m'Guilherme Silveira'\u001b[0m\u001b[1;33m\u001b[0m\u001b[1;33m\u001b[0m\u001b[0m\n\u001b[0m",
      "\u001b[1;31mTypeError\u001b[0m: 'tuple' object does not support item assignment"
     ]
    }
   ],
   "source": [
    "usuarios[0][0] = 'Guilherme Silveira'"
   ]
  },
  {
   "cell_type": "code",
   "execution_count": 98,
   "id": "a9335a93-492c-43d3-80fc-2bbdc9b2424e",
   "metadata": {},
   "outputs": [],
   "source": [
    "conta_do_gui = ContaCorrente(15)\n",
    "conta_do_gui.deposita(500)\n",
    "conta_da_dani = ContaCorrente(234876)\n",
    "conta_da_dani.deposita(1000)\n",
    "\n",
    "contas = (conta_do_gui, conta_da_dani)"
   ]
  },
  {
   "cell_type": "code",
   "execution_count": 99,
   "id": "f6c5a622-a23a-4a03-b827-713139a813b0",
   "metadata": {},
   "outputs": [
    {
     "name": "stdout",
     "output_type": "stream",
     "text": [
      "[>>Código 15 Saldo 500<<]\n",
      "[>>Código 234876 Saldo 1000<<]\n"
     ]
    }
   ],
   "source": [
    "for conta in contas:\n",
    "  print(conta)"
   ]
  },
  {
   "cell_type": "code",
   "execution_count": 100,
   "id": "60fd2d84-4d8f-40e5-ad79-4c9310f712d5",
   "metadata": {},
   "outputs": [
    {
     "ename": "AttributeError",
     "evalue": "'tuple' object has no attribute 'append'",
     "output_type": "error",
     "traceback": [
      "\u001b[1;31m---------------------------------------------------------------------------\u001b[0m",
      "\u001b[1;31mAttributeError\u001b[0m                            Traceback (most recent call last)",
      "\u001b[1;32m<ipython-input-100-2a440e860371>\u001b[0m in \u001b[0;36m<module>\u001b[1;34m\u001b[0m\n\u001b[1;32m----> 1\u001b[1;33m \u001b[0mcontas\u001b[0m\u001b[1;33m.\u001b[0m\u001b[0mappend\u001b[0m\u001b[1;33m(\u001b[0m\u001b[1;36m423768\u001b[0m\u001b[1;33m)\u001b[0m\u001b[1;33m\u001b[0m\u001b[1;33m\u001b[0m\u001b[0m\n\u001b[0m",
      "\u001b[1;31mAttributeError\u001b[0m: 'tuple' object has no attribute 'append'"
     ]
    }
   ],
   "source": [
    "contas.append(423768)"
   ]
  },
  {
   "cell_type": "code",
   "execution_count": 101,
   "id": "47cb60b5-a14a-4c05-a77b-0a2c4eef2e0f",
   "metadata": {},
   "outputs": [],
   "source": [
    "contas[0].deposita(300)"
   ]
  },
  {
   "cell_type": "code",
   "execution_count": 102,
   "id": "25060ea2-781d-4fdc-b0c1-ac8dd72ca2a1",
   "metadata": {},
   "outputs": [
    {
     "name": "stdout",
     "output_type": "stream",
     "text": [
      "[>>Código 15 Saldo 800<<]\n",
      "[>>Código 234876 Saldo 1000<<]\n"
     ]
    }
   ],
   "source": [
    "for conta in contas:\n",
    "  print(conta)"
   ]
  },
  {
   "cell_type": "markdown",
   "id": "6b5fb3ed-94bf-4221-adb3-f1c2ef657f1f",
   "metadata": {},
   "source": [
    "# Herança e Polimorfismo"
   ]
  },
  {
   "cell_type": "code",
   "execution_count": 103,
   "id": "24de46a7-4f5d-4e34-8ad9-223a128d5fb3",
   "metadata": {},
   "outputs": [],
   "source": [
    "class Conta:\n",
    "    def __init__(self, codigo):\n",
    "        self._codigo = codigo\n",
    "        self._saldo = 0\n",
    "    \n",
    "    def deposita(self, valor):\n",
    "        self._saldo += valor\n",
    "    \n",
    "    def __str__(self):\n",
    "        return \"[>>Código {} Saldo {}]<<\".format(self._codigo, self._saldo)"
   ]
  },
  {
   "cell_type": "code",
   "execution_count": 104,
   "id": "ec133d7d-da98-4179-b328-347dfde90fa3",
   "metadata": {},
   "outputs": [
    {
     "name": "stdout",
     "output_type": "stream",
     "text": [
      "[>>Código 88 Saldo 0]<<\n"
     ]
    }
   ],
   "source": [
    "print(Conta(88))"
   ]
  },
  {
   "cell_type": "code",
   "execution_count": 108,
   "id": "84f47569-340d-4e39-b9a3-50d049a77b71",
   "metadata": {},
   "outputs": [],
   "source": [
    "class ContaCorrente(Conta):\n",
    "    \n",
    "    def passa_o_mes(self):\n",
    "        self._saldo -= 2\n",
    "    \n",
    "class ContaPoupanca(Conta):\n",
    "    def passa_o_mes(self):\n",
    "        self._saldo *= 1.01\n",
    "        self._saldo -= 3"
   ]
  },
  {
   "cell_type": "code",
   "execution_count": 106,
   "id": "518afb82-cc93-4e14-a18d-5a76ab8e8944",
   "metadata": {},
   "outputs": [
    {
     "name": "stdout",
     "output_type": "stream",
     "text": [
      "[>>Código 16 Saldo 998]<<\n"
     ]
    }
   ],
   "source": [
    "conta16 = ContaCorrente(16)\n",
    "conta16.deposita(1000)\n",
    "conta16.passa_o_mes()\n",
    "print(conta16)"
   ]
  },
  {
   "cell_type": "code",
   "execution_count": 109,
   "id": "73ddfac0-0af2-419e-9a9e-69cd975744ea",
   "metadata": {},
   "outputs": [
    {
     "name": "stdout",
     "output_type": "stream",
     "text": [
      "[>>Código 17 Saldo 1007.0]<<\n"
     ]
    }
   ],
   "source": [
    "conta17 = ContaPoupanca(17)\n",
    "conta17.deposita(1000)\n",
    "conta17.passa_o_mes()\n",
    "print(conta17)"
   ]
  },
  {
   "cell_type": "code",
   "execution_count": 110,
   "id": "5549034b-b8a8-4d64-b143-293bb4f05622",
   "metadata": {},
   "outputs": [
    {
     "name": "stdout",
     "output_type": "stream",
     "text": [
      "[>>Código 16 Saldo 998]<<\n",
      "[>>Código 17 Saldo 1007.0]<<\n"
     ]
    }
   ],
   "source": [
    "conta16 = ContaCorrente(16)\n",
    "conta16.deposita(1000)\n",
    "conta17 = ContaPoupanca(17)\n",
    "conta17.deposita(1000)\n",
    "contas = [conta16, conta17]\n",
    "\n",
    "for conta in contas:\n",
    "    conta.passa_o_mes() # duck typing\n",
    "    print(conta)"
   ]
  },
  {
   "cell_type": "markdown",
   "id": "3961f24a-0b36-402e-8e2c-1171bf6bdec3",
   "metadata": {},
   "source": [
    "# Array, evitaremos usar"
   ]
  },
  {
   "cell_type": "code",
   "execution_count": 111,
   "id": "eb90994b-5116-4d46-b2a0-e6c2cf6a3287",
   "metadata": {},
   "outputs": [
    {
     "data": {
      "text/plain": [
       "array('d', [1.0, 3.5])"
      ]
     },
     "execution_count": 111,
     "metadata": {},
     "output_type": "execute_result"
    }
   ],
   "source": [
    "import array as arr\n",
    "\n",
    "arr.array('d', [1, 3.5]) # criando uma array de números reais, por isso o 'd', e em seguida uma lista com o conteúdo"
   ]
  },
  {
   "cell_type": "markdown",
   "id": "505cb56f-ec5b-4296-83a6-a92b551907d8",
   "metadata": {},
   "source": [
    "Array não aceita elementos de tipos diferentes, uma vez determinado o tipo do array, os elementos devem ser desse padrão, não aceitando elementos de diferentes tipos. "
   ]
  },
  {
   "cell_type": "code",
   "execution_count": 112,
   "id": "d51fbdde-8666-4cba-ac61-71c654b58eee",
   "metadata": {},
   "outputs": [
    {
     "ename": "TypeError",
     "evalue": "must be real number, not str",
     "output_type": "error",
     "traceback": [
      "\u001b[1;31m---------------------------------------------------------------------------\u001b[0m",
      "\u001b[1;31mTypeError\u001b[0m                                 Traceback (most recent call last)",
      "\u001b[1;32m<ipython-input-112-8f010bc4cb75>\u001b[0m in \u001b[0;36m<module>\u001b[1;34m\u001b[0m\n\u001b[1;32m----> 1\u001b[1;33m \u001b[0marr\u001b[0m\u001b[1;33m.\u001b[0m\u001b[0marray\u001b[0m\u001b[1;33m(\u001b[0m\u001b[1;34m'd'\u001b[0m\u001b[1;33m,\u001b[0m \u001b[1;33m[\u001b[0m\u001b[1;36m1\u001b[0m\u001b[1;33m,\u001b[0m \u001b[1;36m3.5\u001b[0m\u001b[1;33m,\u001b[0m \u001b[1;34m\"Bruno\"\u001b[0m\u001b[1;33m]\u001b[0m\u001b[1;33m)\u001b[0m\u001b[1;33m\u001b[0m\u001b[1;33m\u001b[0m\u001b[0m\n\u001b[0m",
      "\u001b[1;31mTypeError\u001b[0m: must be real number, not str"
     ]
    }
   ],
   "source": [
    "arr.array('d', [1, 3.5, \"Bruno\"])"
   ]
  },
  {
   "cell_type": "markdown",
   "id": "8b121c2b-d230-4107-914e-95133b4dddca",
   "metadata": {},
   "source": [
    "É comumente utilizado o numpy para termos maior eficiência em operações matemáticas entre estruturas de dados numéricas. "
   ]
  },
  {
   "cell_type": "code",
   "execution_count": 114,
   "id": "4aafd913-fd92-4b4f-b6ba-950c0c012f69",
   "metadata": {},
   "outputs": [
    {
     "name": "stdout",
     "output_type": "stream",
     "text": [
      "Requirement already satisfied: numpy in c:\\users\\bruol\\anaconda3\\lib\\site-packages (1.20.1)\n"
     ]
    }
   ],
   "source": [
    "!pip install numpy"
   ]
  },
  {
   "cell_type": "code",
   "execution_count": 115,
   "id": "f095c9b5-cbd8-4110-bfe2-e612856b3d2d",
   "metadata": {},
   "outputs": [],
   "source": [
    "import numpy as np"
   ]
  },
  {
   "cell_type": "code",
   "execution_count": 117,
   "id": "fe408975-5d3c-496c-a2fb-9af111e46240",
   "metadata": {},
   "outputs": [
    {
     "data": {
      "text/plain": [
       "array([1. , 3.5])"
      ]
     },
     "execution_count": 117,
     "metadata": {},
     "output_type": "execute_result"
    }
   ],
   "source": [
    "numeros = np.array([1, 3.5])\n",
    "numeros"
   ]
  },
  {
   "cell_type": "markdown",
   "id": "b56e37f5-aa46-422d-9ff8-978bb9c1d4ab",
   "metadata": {},
   "source": [
    "As arrays com numpy permitem uma série de opereações, como ditas anterioermente, no exemplo abaixo soma 3 em todos os elementos da nossa lista numeros:"
   ]
  },
  {
   "cell_type": "code",
   "execution_count": 118,
   "id": "d668d15e-52dd-433b-8f5f-99df439ca9b8",
   "metadata": {},
   "outputs": [
    {
     "data": {
      "text/plain": [
       "array([4. , 6.5])"
      ]
     },
     "execution_count": 118,
     "metadata": {},
     "output_type": "execute_result"
    }
   ],
   "source": [
    "numeros + 3"
   ]
  },
  {
   "cell_type": "markdown",
   "id": "e0343ae5-ec45-445d-9b49-5ffc49e3c767",
   "metadata": {},
   "source": [
    "Se criarmos uma classe \"Conta Investimentos\" que herda os métodos da classe Conta, porém não possuí o método `passa_o_mes`"
   ]
  },
  {
   "cell_type": "code",
   "execution_count": 120,
   "id": "3cbb9ca4-89fb-4767-8865-ce16121dcbbf",
   "metadata": {},
   "outputs": [],
   "source": [
    "class ContaCorrente(Conta):\n",
    "    \n",
    "    def passa_o_mes(self):\n",
    "        self._saldo -= 2\n",
    "\n",
    "class ContaPoupanca(Conta):\n",
    "    \n",
    "    def passa_o_mes(self):\n",
    "        self._saldo *= 1.01\n",
    "        self._saldo -= 3\n",
    "\n",
    "class ContaInvestimento(Conta):\n",
    "    pass"
   ]
  },
  {
   "cell_type": "markdown",
   "id": "77cb2248-b49e-4c35-a7c0-7ee885914bd3",
   "metadata": {},
   "source": [
    "Criando uma conta, vemos que funciona normalmente:"
   ]
  },
  {
   "cell_type": "code",
   "execution_count": 121,
   "id": "9fddbb3a-23e4-4adc-b655-0c69128763b3",
   "metadata": {},
   "outputs": [
    {
     "data": {
      "text/plain": [
       "<__main__.ContaInvestimento at 0x23d1b648730>"
      ]
     },
     "execution_count": 121,
     "metadata": {},
     "output_type": "execute_result"
    }
   ],
   "source": [
    "ContaInvestimento(764)"
   ]
  },
  {
   "cell_type": "markdown",
   "id": "806b598d-9945-4dc6-b0e8-da4fd9d3d619",
   "metadata": {},
   "source": [
    "Chega a se estranho, imagine que quisessemos que todas as contas que herdam os métodos da classe Conta, como por exemplo o método `passa_o_mes`. Vamos recriar a classe novamente e levantar um erro `NotImplementedError`."
   ]
  },
  {
   "cell_type": "code",
   "execution_count": 122,
   "id": "9ca4e27d-7f70-4748-86f6-d658f8ba2729",
   "metadata": {},
   "outputs": [],
   "source": [
    "class Conta:\n",
    "    def __init__(self, codigo):\n",
    "        self._codigo = codigo\n",
    "        self._saldo = 0\n",
    "    \n",
    "    def deposita(self, valor):\n",
    "        self._saldo += valor\n",
    "        \n",
    "    def passa_o_mes(self):\n",
    "        raise NotImplementedError\n",
    "    \n",
    "    def __str__(self):\n",
    "        return \"[>>Código {} Saldo {}]<<\".format(self._codigo, self._saldo)"
   ]
  },
  {
   "cell_type": "markdown",
   "id": "0843c5ad-f2ea-4e2e-bf97-673decd7015e",
   "metadata": {},
   "source": [
    "Dessa forma, se um objeto criado através de uma classe que não sobrescreve este método, o erro será informado, como é o caso do `ContaInvestimento`, se o método for chamado a partir de um objeto criado nessa classe o erro será informado."
   ]
  },
  {
   "cell_type": "code",
   "execution_count": 123,
   "id": "018c2dcd-9e40-41f7-b036-408206e75bf9",
   "metadata": {},
   "outputs": [
    {
     "data": {
      "text/plain": [
       "<__main__.ContaInvestimento at 0x23d1b648820>"
      ]
     },
     "execution_count": 123,
     "metadata": {},
     "output_type": "execute_result"
    }
   ],
   "source": [
    "conta18 = ContaInvestimento(18)\n",
    "conta18"
   ]
  },
  {
   "cell_type": "code",
   "execution_count": 124,
   "id": "4033f914-1777-47c0-91e2-c83b84796b5d",
   "metadata": {},
   "outputs": [
    {
     "ename": "AttributeError",
     "evalue": "'ContaInvestimento' object has no attribute 'passa_o_mes'",
     "output_type": "error",
     "traceback": [
      "\u001b[1;31m---------------------------------------------------------------------------\u001b[0m",
      "\u001b[1;31mAttributeError\u001b[0m                            Traceback (most recent call last)",
      "\u001b[1;32m<ipython-input-124-9e43d7ad7eef>\u001b[0m in \u001b[0;36m<module>\u001b[1;34m\u001b[0m\n\u001b[1;32m----> 1\u001b[1;33m \u001b[0mconta18\u001b[0m\u001b[1;33m.\u001b[0m\u001b[0mpassa_o_mes\u001b[0m\u001b[1;33m(\u001b[0m\u001b[1;33m)\u001b[0m\u001b[1;33m\u001b[0m\u001b[1;33m\u001b[0m\u001b[0m\n\u001b[0m",
      "\u001b[1;31mAttributeError\u001b[0m: 'ContaInvestimento' object has no attribute 'passa_o_mes'"
     ]
    }
   ],
   "source": [
    "conta18.passa_o_mes()"
   ]
  },
  {
   "cell_type": "markdown",
   "id": "9343c2ae-26a7-4eb5-90b0-d0ed4670f3e5",
   "metadata": {},
   "source": [
    "# Igualdade e __eq__"
   ]
  },
  {
   "cell_type": "code",
   "execution_count": 129,
   "id": "ddd901c8-a13e-4d09-bcd8-f5226d768424",
   "metadata": {},
   "outputs": [],
   "source": [
    "class ContaSalario:\n",
    "    \n",
    "    def __init__(self, codigo):\n",
    "        self._codigo = codigo\n",
    "        self._saldo = 0\n",
    "        \n",
    "    def deposita(self, valor):\n",
    "        self._saldo += valor\n",
    "    \n",
    "    def __str__(self):\n",
    "        return \"[>>Codigo {} Saldo {}]\".format(self._codigo, self._saldo)"
   ]
  },
  {
   "cell_type": "code",
   "execution_count": 130,
   "id": "fa158bde-5724-49d4-9b42-1e4a8e33cb1a",
   "metadata": {},
   "outputs": [
    {
     "name": "stdout",
     "output_type": "stream",
     "text": [
      "[>>Codigo 37 Saldo 0]\n"
     ]
    }
   ],
   "source": [
    "conta1 = ContaSalario(37)\n",
    "print(conta1)"
   ]
  },
  {
   "cell_type": "code",
   "execution_count": 131,
   "id": "132b211b-d28d-4c4d-8b47-7a4e5b36a84d",
   "metadata": {},
   "outputs": [
    {
     "name": "stdout",
     "output_type": "stream",
     "text": [
      "[>>Codigo 37 Saldo 0]\n"
     ]
    }
   ],
   "source": [
    "conta2 = ContaSalario(37)\n",
    "print(conta2)"
   ]
  },
  {
   "cell_type": "code",
   "execution_count": 132,
   "id": "77540568-8c5b-4e2e-8dcb-9228036ab767",
   "metadata": {},
   "outputs": [
    {
     "data": {
      "text/plain": [
       "False"
      ]
     },
     "execution_count": 132,
     "metadata": {},
     "output_type": "execute_result"
    }
   ],
   "source": [
    "conta1 == conta2"
   ]
  },
  {
   "cell_type": "markdown",
   "id": "0b2d8405-fa80-4f12-8a14-0a88919302f3",
   "metadata": {},
   "source": [
    "O operador `==` irá avaliar se as duas variáveis referem-se ao mesmo objeto. Por isso o exemplo acima resulta em `False`."
   ]
  },
  {
   "cell_type": "code",
   "execution_count": 133,
   "id": "0d0536cf-8db1-4efe-a342-9e426111a4b3",
   "metadata": {},
   "outputs": [],
   "source": [
    "contas = [conta1]"
   ]
  },
  {
   "cell_type": "code",
   "execution_count": 134,
   "id": "d2d20cb9-8cea-4c99-a48c-08e1ad18d884",
   "metadata": {},
   "outputs": [
    {
     "data": {
      "text/plain": [
       "True"
      ]
     },
     "execution_count": 134,
     "metadata": {},
     "output_type": "execute_result"
    }
   ],
   "source": [
    "conta1 in contas"
   ]
  },
  {
   "cell_type": "code",
   "execution_count": 135,
   "id": "d7205767-e80f-4738-b904-7fbaaf46008d",
   "metadata": {},
   "outputs": [
    {
     "data": {
      "text/plain": [
       "False"
      ]
     },
     "execution_count": 135,
     "metadata": {},
     "output_type": "execute_result"
    }
   ],
   "source": [
    "conta2 in contas"
   ]
  },
  {
   "cell_type": "markdown",
   "id": "2ab2e87b-2572-43ef-9326-c5554c3a5760",
   "metadata": {},
   "source": [
    "Se quisessemos avaliar a posição de igualdade utilizando o operador == ou até mesmo o in, precisariamos instânciar um método de igualdade dentro da nossa classe, muito parecido com o método que cria uma representação em string. "
   ]
  },
  {
   "cell_type": "code",
   "execution_count": 136,
   "id": "75740b51-e243-488e-95d3-8bb50021948e",
   "metadata": {},
   "outputs": [],
   "source": [
    "class ContaSalario:\n",
    "    \n",
    "    def __init__(self, codigo):\n",
    "        self._codigo = codigo\n",
    "        self._saldo = 0\n",
    "        \n",
    "    def __eq__(self, outro):\n",
    "        return self._codigo == outro._codigo \n",
    "        \n",
    "    def deposita(self, valor):\n",
    "        self._saldo += valor\n",
    "    \n",
    "    def __str__(self):\n",
    "        return \"[>>Codigo {} Saldo {}]\".format(self._codigo, self._saldo)"
   ]
  },
  {
   "cell_type": "markdown",
   "id": "2b3590eb-8cdf-4062-aabb-8e4ead25b674",
   "metadata": {},
   "source": [
    "Aqui implementamos a igualdade entre os código, ou seja, nosso método irá retornar True se o código das contas avaliadas são iguais, ignorando o valor de saldo."
   ]
  },
  {
   "cell_type": "code",
   "execution_count": 137,
   "id": "029a8777-c1c0-42f5-a299-4c96c47f1b58",
   "metadata": {},
   "outputs": [
    {
     "data": {
      "text/plain": [
       "True"
      ]
     },
     "execution_count": 137,
     "metadata": {},
     "output_type": "execute_result"
    }
   ],
   "source": [
    "conta1 = ContaSalario(37)\n",
    "conta2 = ContaSalario(37)\n",
    "conta1 == conta2"
   ]
  },
  {
   "cell_type": "markdown",
   "id": "c509687f-e20f-4bc5-b2de-171349c0dc14",
   "metadata": {},
   "source": [
    "O operador de diferente `!=` também se baseia no método `__eq__`:"
   ]
  },
  {
   "cell_type": "code",
   "execution_count": 138,
   "id": "8ace0cda-6075-4017-86bc-1c7982aef1d4",
   "metadata": {},
   "outputs": [
    {
     "data": {
      "text/plain": [
       "False"
      ]
     },
     "execution_count": 138,
     "metadata": {},
     "output_type": "execute_result"
    }
   ],
   "source": [
    "conta1 != conta2"
   ]
  },
  {
   "cell_type": "code",
   "execution_count": 139,
   "id": "6fccf616-6a32-4467-beb1-2555758db482",
   "metadata": {},
   "outputs": [
    {
     "data": {
      "text/plain": [
       "True"
      ]
     },
     "execution_count": 139,
     "metadata": {},
     "output_type": "execute_result"
    }
   ],
   "source": [
    "conta1 in [conta2]"
   ]
  },
  {
   "cell_type": "code",
   "execution_count": 140,
   "id": "f61651ba-a6a8-4387-a26a-621276ee2623",
   "metadata": {},
   "outputs": [
    {
     "data": {
      "text/plain": [
       "True"
      ]
     },
     "execution_count": 140,
     "metadata": {},
     "output_type": "execute_result"
    }
   ],
   "source": [
    "conta2 in [conta1]"
   ]
  },
  {
   "cell_type": "code",
   "execution_count": 145,
   "id": "ff3228fd-61ee-485c-b625-e2b5938fa605",
   "metadata": {},
   "outputs": [],
   "source": [
    "class ContaSalario:\n",
    "    \n",
    "    def __init__(self, codigo):\n",
    "        self._codigo = codigo\n",
    "        self._saldo = 0\n",
    "        \n",
    "    def __eq__(self, outro):\n",
    "        return self._codigo == outro._codigo and self._saldo == outro._saldo\n",
    "        \n",
    "    def deposita(self, valor):\n",
    "        self._saldo += valor\n",
    "    \n",
    "    def __str__(self):\n",
    "        return \"[>>Codigo {} Saldo {}]\".format(self._codigo, self._saldo)"
   ]
  },
  {
   "cell_type": "markdown",
   "id": "05929a82-79af-4041-9f22-d6e688e0576d",
   "metadata": {},
   "source": [
    "Agora aplicamos ao método __eq__ a comparação do código E do saldo"
   ]
  },
  {
   "cell_type": "code",
   "execution_count": 146,
   "id": "e9b519ff-4510-489f-a0c6-78d643a50f09",
   "metadata": {},
   "outputs": [
    {
     "data": {
      "text/plain": [
       "True"
      ]
     },
     "execution_count": 146,
     "metadata": {},
     "output_type": "execute_result"
    }
   ],
   "source": [
    "conta1 = ContaSalario(37)\n",
    "conta2 = ContaSalario(37)\n",
    "conta1 == conta2"
   ]
  },
  {
   "cell_type": "code",
   "execution_count": 147,
   "id": "a1668489-a5d0-44aa-9a53-b16f2ab5f64d",
   "metadata": {},
   "outputs": [],
   "source": [
    "conta1.deposita(100)"
   ]
  },
  {
   "cell_type": "code",
   "execution_count": 148,
   "id": "25ae2209-387c-4c42-955a-7de059df0c3a",
   "metadata": {},
   "outputs": [
    {
     "data": {
      "text/plain": [
       "False"
      ]
     },
     "execution_count": 148,
     "metadata": {},
     "output_type": "execute_result"
    }
   ],
   "source": [
    "conta1 == conta2"
   ]
  },
  {
   "cell_type": "markdown",
   "id": "144caa8d-ce1b-48a8-9e4d-fd4ecefad79a",
   "metadata": {},
   "source": [
    "Uma forma melhor ainda é verificar se os objetos criados são da mesma classe, no nosso caso, se são uma Conta Salário"
   ]
  },
  {
   "cell_type": "code",
   "execution_count": 149,
   "id": "f049dec3-bbc6-4205-b29e-9a510ba2a3b9",
   "metadata": {},
   "outputs": [],
   "source": [
    "class ContaSalario:\n",
    "    \n",
    "    def __init__(self, codigo):\n",
    "        self._codigo = codigo\n",
    "        self._saldo = 0\n",
    "        \n",
    "    def __eq__(self, outro):\n",
    "        if type(outro) != ContaSalario:\n",
    "            return False\n",
    "        return self._codigo == outro._codigo and self._saldo == outro._saldo\n",
    "        \n",
    "    def deposita(self, valor):\n",
    "        self._saldo += valor\n",
    "    \n",
    "    def __str__(self):\n",
    "        return \"[>>Codigo {} Saldo {}]\".format(self._codigo, self._saldo)"
   ]
  },
  {
   "cell_type": "code",
   "execution_count": 150,
   "id": "499207f2-51c3-4985-98cc-5e6081d96204",
   "metadata": {},
   "outputs": [],
   "source": [
    "conta1 = ContaSalario(37)"
   ]
  },
  {
   "cell_type": "code",
   "execution_count": 151,
   "id": "6c9c54e6-c80f-4afa-8309-f94af50c7a90",
   "metadata": {},
   "outputs": [],
   "source": [
    "conta2 = ContaCorrente(37)"
   ]
  },
  {
   "cell_type": "code",
   "execution_count": 152,
   "id": "0ab5ce9f-33fb-42dc-8564-a269788971db",
   "metadata": {},
   "outputs": [
    {
     "data": {
      "text/plain": [
       "False"
      ]
     },
     "execution_count": 152,
     "metadata": {},
     "output_type": "execute_result"
    }
   ],
   "source": [
    "conta1 == conta2"
   ]
  },
  {
   "cell_type": "markdown",
   "id": "9bf9a263-156a-490b-a9b3-9f1c02ffea13",
   "metadata": {},
   "source": [
    "Podemos ser mais especificos e ter uma classe que herda da conta salário."
   ]
  },
  {
   "cell_type": "code",
   "execution_count": 153,
   "id": "42b9a9f3-6e9b-4c1d-8a63-bc60e00142c5",
   "metadata": {},
   "outputs": [],
   "source": [
    "class ContaSalario:\n",
    "    \n",
    "    def __init__(self, codigo):\n",
    "        self._codigo = codigo\n",
    "        self._saldo = 0\n",
    "        \n",
    "    def __eq__(self, outro):\n",
    "        if type(outro) != ContaSalario:\n",
    "            return False\n",
    "        return self._codigo == outro._codigo and self._saldo == outro._saldo\n",
    "        \n",
    "    def deposita(self, valor):\n",
    "        self._saldo += valor\n",
    "    \n",
    "    def __str__(self):\n",
    "        return \"[>>Codigo {} Saldo {}]\".format(self._codigo, self._saldo)\n",
    "    \n",
    "class ContaMultiplosSalario(ContaSalario):\n",
    "    pass"
   ]
  },
  {
   "cell_type": "code",
   "execution_count": 155,
   "id": "b4f3c7d1-a4eb-4415-ae13-506182679654",
   "metadata": {},
   "outputs": [
    {
     "data": {
      "text/plain": [
       "True"
      ]
     },
     "execution_count": 155,
     "metadata": {},
     "output_type": "execute_result"
    }
   ],
   "source": [
    "isinstance(ContaMultiplosSalario(34), ContaSalario)"
   ]
  },
  {
   "cell_type": "markdown",
   "id": "832ac535-a396-4e2e-b433-0a33becb3742",
   "metadata": {},
   "source": [
    "# Builtins como enumerated, range e desempacotamento automatico de tuplas"
   ]
  },
  {
   "cell_type": "markdown",
   "id": "33edea68-9b76-4b69-b888-57866bc68448",
   "metadata": {},
   "source": [
    "Vamos tentar imprimir a posição dos elementos e o valor."
   ]
  },
  {
   "cell_type": "code",
   "execution_count": 158,
   "id": "b61ac8f6-8268-436c-9b7d-e9fca5ba4621",
   "metadata": {},
   "outputs": [
    {
     "name": "stdout",
     "output_type": "stream",
     "text": [
      "0 - 15\n",
      "1 - 87\n",
      "2 - 32\n",
      "3 - 65\n",
      "4 - 56\n",
      "2 - 32\n",
      "6 - 49\n",
      "7 - 37\n"
     ]
    }
   ],
   "source": [
    "idades = [15, 87, 32, 65, 56, 32, 49, 37]\n",
    "\n",
    "for idade in idades:\n",
    "    print(idades.index(idade), \"-\", idade)"
   ]
  },
  {
   "cell_type": "markdown",
   "id": "6760d772-a78b-4520-a830-8b87b4d04c0e",
   "metadata": {},
   "source": [
    "Podemos nos inclinar a implementar dessa forma, e apartir do valor de idade, pedir o indice do elemento e assim fazer a impressão de ambos os valores. Porém essa implementação se torna muito lenta, pois a cada elemento, o método `index` irá percorrer a lista desde o começo, fora que caso a lista possua 2 elementos com mesmo valor em posições diferentes, como no nosso exemplo o **32**, o método `index` sempre irá retornar a primeira ocorrência desse valor. "
   ]
  },
  {
   "cell_type": "code",
   "execution_count": 159,
   "id": "9741ab65-1ea6-4f9d-8df3-9e6fe8b52b3c",
   "metadata": {},
   "outputs": [
    {
     "data": {
      "text/plain": [
       "8"
      ]
     },
     "execution_count": 159,
     "metadata": {},
     "output_type": "execute_result"
    }
   ],
   "source": [
    "idades = [15, 87, 32, 65, 56, 32, 49, 37]\n",
    "len(idades)"
   ]
  },
  {
   "cell_type": "markdown",
   "id": "9dae7712-8d4c-42c5-9bc8-6c17c5797b00",
   "metadata": {},
   "source": [
    "Sabendo que a nossa lista possui um tamanho de 8 elementos, através da função `len()`, podemos utilizar a função `range()` para dentro de um laço `for` para percorrer todos os elementos da lista, além disso o código fica automatizado, uma vez que a lista pode mudar de tamanho."
   ]
  },
  {
   "cell_type": "code",
   "execution_count": 160,
   "id": "45913f9e-ae62-42e4-b051-7d69fc376d96",
   "metadata": {},
   "outputs": [
    {
     "name": "stdout",
     "output_type": "stream",
     "text": [
      "0\n",
      "1\n",
      "2\n",
      "3\n",
      "4\n",
      "5\n",
      "6\n",
      "7\n"
     ]
    }
   ],
   "source": [
    "for i in range(len(idades)):\n",
    "    print(i)"
   ]
  },
  {
   "cell_type": "markdown",
   "id": "f8ad630d-e6c7-49a3-868e-68164ac4f088",
   "metadata": {},
   "source": [
    "Agora temos os indices de cada elemento. No nosso código o i foi usado como nome de uma variável que recebe o valor de 0 a 7."
   ]
  },
  {
   "cell_type": "code",
   "execution_count": 164,
   "id": "b15b9c7b-403a-4c02-8ca8-722f95c8ff68",
   "metadata": {},
   "outputs": [
    {
     "name": "stdout",
     "output_type": "stream",
     "text": [
      "0 - 15\n",
      "1 - 87\n",
      "2 - 32\n",
      "3 - 65\n",
      "4 - 56\n",
      "5 - 32\n",
      "6 - 49\n",
      "7 - 37\n"
     ]
    }
   ],
   "source": [
    "for i in range(len(idades)):\n",
    "    print(i, \"-\", idades[i])"
   ]
  },
  {
   "cell_type": "markdown",
   "id": "134b6b8e-2e87-4ce9-8f67-a4cfeb58d670",
   "metadata": {},
   "source": [
    "Agora temos a nossa lista com o indice e o valor de cada indice da lista idades."
   ]
  },
  {
   "cell_type": "markdown",
   "id": "a386c54e-18f8-4c53-a616-b6aabac34713",
   "metadata": {},
   "source": [
    "Essa implementação é muito simples e resulta o que esperamos, porém enumerar os elementos de uma lista, é algo muito comum dentro do desenvolvimento, portanto é muito possível que já exista algo que realize esse trabalho de forma mais simples ainda."
   ]
  },
  {
   "cell_type": "markdown",
   "id": "428c3cdc-380a-4038-939f-e679822b04dc",
   "metadata": {},
   "source": [
    "## Enumerate"
   ]
  },
  {
   "cell_type": "code",
   "execution_count": 165,
   "id": "75a0e822-f03e-4f57-b4a6-cfa591e18ac5",
   "metadata": {},
   "outputs": [
    {
     "name": "stdout",
     "output_type": "stream",
     "text": [
      "<enumerate object at 0x0000023D1CBE2880>\n"
     ]
    }
   ],
   "source": [
    "print(enumerate(idades))"
   ]
  },
  {
   "cell_type": "markdown",
   "id": "d78860ba-89b1-4b66-a451-46ab11f3c6b4",
   "metadata": {},
   "source": [
    "O enumerate retorna um objeto de memória, e não a representação que desejamos. Vamos verificar o tipo do dado."
   ]
  },
  {
   "cell_type": "code",
   "execution_count": 166,
   "id": "0eb94ca0-7202-4886-8ce4-d462d386f2a3",
   "metadata": {},
   "outputs": [
    {
     "name": "stdout",
     "output_type": "stream",
     "text": [
      "<class 'enumerate'>\n"
     ]
    }
   ],
   "source": [
    "print(type(enumerate(idades)))"
   ]
  },
  {
   "cell_type": "markdown",
   "id": "6c26f579-d465-4df8-98f1-5379b779cc63",
   "metadata": {},
   "source": [
    "O enumerate é um iterável, podemos percorrer cada elemento, porém "
   ]
  },
  {
   "cell_type": "code",
   "execution_count": 168,
   "id": "73b4f8b4-65e0-4412-94cd-4006c3e9adce",
   "metadata": {},
   "outputs": [
    {
     "name": "stdout",
     "output_type": "stream",
     "text": [
      "(0, 15)\n",
      "(1, 87)\n",
      "(2, 32)\n",
      "(3, 65)\n",
      "(4, 56)\n",
      "(5, 32)\n",
      "(6, 49)\n",
      "(7, 37)\n"
     ]
    }
   ],
   "source": [
    "for idade in enumerate(idades):\n",
    "    print(idade)"
   ]
  },
  {
   "cell_type": "markdown",
   "id": "9892ed70-1942-450d-b4d2-c5b57cafb1fc",
   "metadata": {},
   "source": [
    "Perceba que o retorno foi várias tuplas contendo o indice e o valor. Por ser um objeto iterável, podemos inseri-los em uma lista, da seguinte forma: "
   ]
  },
  {
   "cell_type": "code",
   "execution_count": 170,
   "id": "a9af7526-5b39-4f07-915e-63e20c0574a0",
   "metadata": {},
   "outputs": [
    {
     "data": {
      "text/plain": [
       "[(0, 15), (1, 87), (2, 32), (3, 65), (4, 56), (5, 32), (6, 49), (7, 37)]"
      ]
     },
     "execution_count": 170,
     "metadata": {},
     "output_type": "execute_result"
    }
   ],
   "source": [
    "list(enumerate(idades))"
   ]
  },
  {
   "cell_type": "markdown",
   "id": "cb91d3da-54dc-4492-b176-d28ca6abcdc8",
   "metadata": {},
   "source": [
    "Agora temos uma lista que contém as tuplas com os indices e seus valores. Dessa forma temos novos indices contendo novos elementos. "
   ]
  },
  {
   "cell_type": "markdown",
   "id": "1babc5af-d31a-46bb-9e8a-738289d29344",
   "metadata": {},
   "source": [
    "Podemos fazer o **desempacotamento** das tuplas utilizando a mesma estrutura `for`:"
   ]
  },
  {
   "cell_type": "code",
   "execution_count": 172,
   "id": "a463d5a5-3cb0-4d9c-a933-41a20f35b81a",
   "metadata": {},
   "outputs": [
    {
     "name": "stdout",
     "output_type": "stream",
     "text": [
      "0 15\n",
      "1 87\n",
      "2 32\n",
      "3 65\n",
      "4 56\n",
      "5 32\n",
      "6 49\n",
      "7 37\n"
     ]
    }
   ],
   "source": [
    "for indice, idade in enumerate(idades):\n",
    "    print(indice, idade)"
   ]
  },
  {
   "cell_type": "markdown",
   "id": "b513786e-022f-4102-87df-1e632d3d8252",
   "metadata": {},
   "source": [
    "O desempacotamento das tuplas podem ser usados de outras formas, vamos utilizar uma lista com tuplas contendo nome, idade e ano de nascimento. "
   ]
  },
  {
   "cell_type": "code",
   "execution_count": 173,
   "id": "1f146c11-abfd-4da7-811f-175414727482",
   "metadata": {},
   "outputs": [
    {
     "name": "stdout",
     "output_type": "stream",
     "text": [
      "('Guilherme', 37, 1981)\n",
      "('Daniela', 31, 1987)\n",
      "('Paulo', 39, 1979)\n"
     ]
    }
   ],
   "source": [
    "usuarios = [\n",
    "    (\"Guilherme\", 37, 1981),\n",
    "    (\"Daniela\", 31, 1987),\n",
    "    (\"Paulo\", 39, 1979)\n",
    "]\n",
    "\n",
    "for usuario in usuarios:\n",
    "    print(usuario)"
   ]
  },
  {
   "cell_type": "code",
   "execution_count": 174,
   "id": "97068c60-9439-40f8-b055-fa9051a58610",
   "metadata": {},
   "outputs": [
    {
     "name": "stdout",
     "output_type": "stream",
     "text": [
      "Guilherme\n",
      "Daniela\n",
      "Paulo\n"
     ]
    }
   ],
   "source": [
    "for nome, idade, nascimento in usuarios:\n",
    "    print(nome)"
   ]
  },
  {
   "cell_type": "markdown",
   "id": "432584bf-e95f-4bf3-9163-456805790605",
   "metadata": {},
   "source": [
    "Nesse caso nós ainda tivemos a necessidade de criarmos variáveis (idade e nascimento) que receberam valores, mas mesmo assim não utilizamos, vamos verificar se essas variáveis possuem algum valor."
   ]
  },
  {
   "cell_type": "code",
   "execution_count": 175,
   "id": "d69fabb6-29e8-4de8-ad8c-cafa03d9d845",
   "metadata": {},
   "outputs": [
    {
     "data": {
      "text/plain": [
       "39"
      ]
     },
     "execution_count": 175,
     "metadata": {},
     "output_type": "execute_result"
    }
   ],
   "source": [
    "idade"
   ]
  },
  {
   "cell_type": "code",
   "execution_count": 176,
   "id": "39416aa5-bad1-462b-9669-974ce88992a0",
   "metadata": {},
   "outputs": [
    {
     "data": {
      "text/plain": [
       "1979"
      ]
     },
     "execution_count": 176,
     "metadata": {},
     "output_type": "execute_result"
    }
   ],
   "source": [
    "nascimento"
   ]
  },
  {
   "cell_type": "markdown",
   "id": "372c7ac0-1b5b-4c73-93f6-29ef140f7e1a",
   "metadata": {},
   "source": [
    "Elas estão com os valores da última tupla. Mas como no nosso caso NÃO nos interessa esses valores, não precisamos dessas variáveis. O que podemos fazer é:"
   ]
  },
  {
   "cell_type": "code",
   "execution_count": 177,
   "id": "ef49d0d9-0003-4ac3-960e-86a5f66384f1",
   "metadata": {},
   "outputs": [
    {
     "name": "stdout",
     "output_type": "stream",
     "text": [
      "Guilherme\n",
      "Daniela\n",
      "Paulo\n"
     ]
    }
   ],
   "source": [
    "for nome, _, _ in usuarios:\n",
    "    print(nome)"
   ]
  },
  {
   "cell_type": "code",
   "execution_count": null,
   "id": "33902f8b-52b3-4601-9bc3-ab1511cd4239",
   "metadata": {},
   "outputs": [],
   "source": []
  }
 ],
 "metadata": {
  "kernelspec": {
   "display_name": "Python 3",
   "language": "python",
   "name": "python3"
  },
  "language_info": {
   "codemirror_mode": {
    "name": "ipython",
    "version": 3
   },
   "file_extension": ".py",
   "mimetype": "text/x-python",
   "name": "python",
   "nbconvert_exporter": "python",
   "pygments_lexer": "ipython3",
   "version": "3.8.8"
  }
 },
 "nbformat": 4,
 "nbformat_minor": 5
}
