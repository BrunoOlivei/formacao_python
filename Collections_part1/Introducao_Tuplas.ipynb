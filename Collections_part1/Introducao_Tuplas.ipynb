{
 "cells": [
  {
   "cell_type": "markdown",
   "id": "c8a38ce6-7e4f-45d7-bd1f-4e92a3a76a25",
   "metadata": {},
   "source": [
    "# Introdução Tuplas"
   ]
  },
  {
   "cell_type": "markdown",
   "id": "54148d46-b69a-4820-b5b7-501a228d3e65",
   "metadata": {},
   "source": [
    "Tuplas são estruturas de dados **imutáveis**, ou seja, os dados inseridos não podem ser alterados além também de que a partir que a tupla é criada nenhum outro elemento pode ser inserido.\n",
    "\n",
    "Além disso as tuplas respeitam a ordem de dados inseridas, assim como as listas."
   ]
  },
  {
   "cell_type": "markdown",
   "id": "d77f4e27-fe1a-40bd-b7b5-7b0f3435b3f8",
   "metadata": {},
   "source": [
    "## Sintaxe"
   ]
  },
  {
   "cell_type": "markdown",
   "id": "0ff28d89-9407-4b29-85c5-ac40da7b9841",
   "metadata": {},
   "source": [
    "As tuplas são caracterizadas por terem seus elementos inseridos entre parênteses e cada elemento separado por vírgula."
   ]
  },
  {
   "cell_type": "code",
   "execution_count": 1,
   "id": "27c6bb67-7c0a-449a-b31d-9694e24fc5d5",
   "metadata": {},
   "outputs": [],
   "source": [
    "vogais = ('a', 'e', 'i', 'o', 'u')"
   ]
  },
  {
   "cell_type": "code",
   "execution_count": 2,
   "id": "ea038f7a-c775-4118-8b54-e984efcb95fe",
   "metadata": {},
   "outputs": [
    {
     "data": {
      "text/plain": [
       "tuple"
      ]
     },
     "execution_count": 2,
     "metadata": {},
     "output_type": "execute_result"
    }
   ],
   "source": [
    "type(vogais)"
   ]
  },
  {
   "cell_type": "code",
   "execution_count": 3,
   "id": "40d70670-948f-4c51-9383-008e94957a46",
   "metadata": {},
   "outputs": [],
   "source": [
    "tupla_vazia = ()"
   ]
  },
  {
   "cell_type": "code",
   "execution_count": 4,
   "id": "f533a17c-1081-40b0-b1a4-00d36a61b399",
   "metadata": {},
   "outputs": [
    {
     "data": {
      "text/plain": [
       "tuple"
      ]
     },
     "execution_count": 4,
     "metadata": {},
     "output_type": "execute_result"
    }
   ],
   "source": [
    "type(tupla_vazia)"
   ]
  },
  {
   "cell_type": "markdown",
   "id": "b6aa745d-8ad8-45fd-884c-53e77f444ff2",
   "metadata": {},
   "source": [
    "Podemos definir uma tupla utilizando a função `tuple()`."
   ]
  },
  {
   "cell_type": "code",
   "execution_count": 5,
   "id": "5575c1f1-851b-477b-a4c8-6e35b77b0b79",
   "metadata": {},
   "outputs": [],
   "source": [
    "tupla = tuple(\"aeiou\")"
   ]
  },
  {
   "cell_type": "code",
   "execution_count": 6,
   "id": "25e74e01-dfc3-47cc-842e-8a9ec2cc9ad9",
   "metadata": {},
   "outputs": [
    {
     "data": {
      "text/plain": [
       "('a', 'e', 'i', 'o', 'u')"
      ]
     },
     "execution_count": 6,
     "metadata": {},
     "output_type": "execute_result"
    }
   ],
   "source": [
    "tupla"
   ]
  },
  {
   "cell_type": "code",
   "execution_count": 7,
   "id": "b968fc82-b0e2-4efa-92fe-f27216917dff",
   "metadata": {},
   "outputs": [
    {
     "data": {
      "text/plain": [
       "('a', 'e', 'i', 'o', 'u')"
      ]
     },
     "execution_count": 7,
     "metadata": {},
     "output_type": "execute_result"
    }
   ],
   "source": [
    "lista_vogais = ['a', 'e', 'i', 'o', 'u']\n",
    "tupla2 = tuple(lista_vogais)\n",
    "tupla2"
   ]
  },
  {
   "cell_type": "markdown",
   "id": "8ada3d3a-3174-4992-92d2-8f1c6900b371",
   "metadata": {},
   "source": [
    "As tuplas aceitam dados de diversos tipos"
   ]
  },
  {
   "cell_type": "code",
   "execution_count": 9,
   "id": "c9e1bf3a-5175-47d7-a293-a67d8a1cdbbf",
   "metadata": {},
   "outputs": [
    {
     "data": {
      "text/plain": [
       "('abc', 42, 3.1415, False)"
      ]
     },
     "execution_count": 9,
     "metadata": {},
     "output_type": "execute_result"
    }
   ],
   "source": [
    "tupla3 = ('abc', 42, 3.1415, False)\n",
    "tupla3"
   ]
  },
  {
   "cell_type": "markdown",
   "id": "93060d03-b9dd-4210-a72e-f708d90c551b",
   "metadata": {},
   "source": [
    "### Pegadinha"
   ]
  },
  {
   "cell_type": "code",
   "execution_count": 10,
   "id": "b528894e-a2af-4681-8b16-907489db0073",
   "metadata": {},
   "outputs": [
    {
     "data": {
      "text/plain": [
       "str"
      ]
     },
     "execution_count": 10,
     "metadata": {},
     "output_type": "execute_result"
    }
   ],
   "source": [
    "tentativa_tupla = (\"Mochileiro\")\n",
    "type(tentativa_tupla)"
   ]
  },
  {
   "cell_type": "markdown",
   "id": "4fd7d091-021a-48a8-98a5-80504531f5c2",
   "metadata": {},
   "source": [
    "Ao tentarmos atribuir a uma variável uma string dentro de parênteses, temos como resultado uma variável do tipo string."
   ]
  },
  {
   "cell_type": "markdown",
   "id": "67316868-4a5b-48cf-b164-4537496e7131",
   "metadata": {},
   "source": [
    "Nesses casos é sugerido que utilize-se o método `tuple()` e como argumento a string:"
   ]
  },
  {
   "cell_type": "code",
   "execution_count": 11,
   "id": "fdc67866-a0a1-47b0-98ee-377f75ff636d",
   "metadata": {},
   "outputs": [
    {
     "data": {
      "text/plain": [
       "tuple"
      ]
     },
     "execution_count": 11,
     "metadata": {},
     "output_type": "execute_result"
    }
   ],
   "source": [
    "verdadeira_tupla = tuple(\"Mochileiro\")\n",
    "type(verdadeira_tupla)"
   ]
  },
  {
   "cell_type": "code",
   "execution_count": 12,
   "id": "47d55672-3380-475d-b627-6ece4a383dc0",
   "metadata": {},
   "outputs": [
    {
     "data": {
      "text/plain": [
       "('M', 'o', 'c', 'h', 'i', 'l', 'e', 'i', 'r', 'o')"
      ]
     },
     "execution_count": 12,
     "metadata": {},
     "output_type": "execute_result"
    }
   ],
   "source": [
    "verdadeira_tupla"
   ]
  },
  {
   "cell_type": "markdown",
   "id": "57e0c3d6-b533-4db9-a41a-d0b2bb309dc9",
   "metadata": {},
   "source": [
    "Mas e se quisessemos armazenar a string inteira, sem o desmembramento de cada elemento? A linguagem python possui uma particularidade que entende que para definirmos uma tupla com um si único elemento *precisamos incluir, pelo menos, uma vírgula entre parênteses*."
   ]
  },
  {
   "cell_type": "code",
   "execution_count": 13,
   "id": "4fa94bda-f56a-4846-86a6-c5e2816bcf3d",
   "metadata": {},
   "outputs": [
    {
     "data": {
      "text/plain": [
       "('Mochileiro',)"
      ]
     },
     "execution_count": 13,
     "metadata": {},
     "output_type": "execute_result"
    }
   ],
   "source": [
    "tupla_singular = (\"Mochileiro\",)\n",
    "tupla_singular"
   ]
  },
  {
   "cell_type": "code",
   "execution_count": 14,
   "id": "4299c432-fd85-4656-88a9-a841b9d9049a",
   "metadata": {},
   "outputs": [
    {
     "data": {
      "text/plain": [
       "tuple"
      ]
     },
     "execution_count": 14,
     "metadata": {},
     "output_type": "execute_result"
    }
   ],
   "source": [
    "type(tupla_singular)"
   ]
  }
 ],
 "metadata": {
  "kernelspec": {
   "display_name": "Python 3",
   "language": "python",
   "name": "python3"
  },
  "language_info": {
   "codemirror_mode": {
    "name": "ipython",
    "version": 3
   },
   "file_extension": ".py",
   "mimetype": "text/x-python",
   "name": "python",
   "nbconvert_exporter": "python",
   "pygments_lexer": "ipython3",
   "version": "3.8.8"
  }
 },
 "nbformat": 4,
 "nbformat_minor": 5
}
